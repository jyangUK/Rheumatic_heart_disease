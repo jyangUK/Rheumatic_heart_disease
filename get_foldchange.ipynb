{
 "cells": [
  {
   "cell_type": "markdown",
   "metadata": {},
   "source": [
    "Jupyter notebook \n",
    "-------\n",
    "\n",
    "This notebook illustrates the codes used to derive log2 scaled foldchange for the protein expression data used in the paper **\"Data independent acquisition mass spectrometry in severe Rheumatic Heart Disease (RHD) identifies a proteomic signature showing ongoing inflammation and effectively classifying RHD cases\"**\n",
    "\n",
    "Author: **Jing Yang**\n",
    "\n",
    "Date: **17/11/2021**\n",
    "\n",
    "Contact: Jing.Yang@manchester.ac.uk\n"
   ]
  },
  {
   "cell_type": "code",
   "execution_count": 1,
   "metadata": {},
   "outputs": [
    {
     "name": "stderr",
     "output_type": "stream",
     "text": [
      "── \u001b[1mAttaching packages\u001b[22m ─────────────────────────────────────── tidyverse 1.3.1 ──\n",
      "\n",
      "\u001b[32m✔\u001b[39m \u001b[34mggplot2\u001b[39m 3.3.5     \u001b[32m✔\u001b[39m \u001b[34mpurrr  \u001b[39m 0.3.4\n",
      "\u001b[32m✔\u001b[39m \u001b[34mtibble \u001b[39m 3.1.5     \u001b[32m✔\u001b[39m \u001b[34mdplyr  \u001b[39m 1.0.7\n",
      "\u001b[32m✔\u001b[39m \u001b[34mtidyr  \u001b[39m 1.1.4     \u001b[32m✔\u001b[39m \u001b[34mstringr\u001b[39m 1.4.0\n",
      "\u001b[32m✔\u001b[39m \u001b[34mreadr  \u001b[39m 2.0.2     \u001b[32m✔\u001b[39m \u001b[34mforcats\u001b[39m 0.5.1\n",
      "\n",
      "── \u001b[1mConflicts\u001b[22m ────────────────────────────────────────── tidyverse_conflicts() ──\n",
      "\u001b[31m✖\u001b[39m \u001b[34mdplyr\u001b[39m::\u001b[32mbetween()\u001b[39m   masks \u001b[34mdata.table\u001b[39m::between()\n",
      "\u001b[31m✖\u001b[39m \u001b[34mdplyr\u001b[39m::\u001b[32mfilter()\u001b[39m    masks \u001b[34mstats\u001b[39m::filter()\n",
      "\u001b[31m✖\u001b[39m \u001b[34mdplyr\u001b[39m::\u001b[32mfirst()\u001b[39m     masks \u001b[34mdata.table\u001b[39m::first()\n",
      "\u001b[31m✖\u001b[39m \u001b[34mdplyr\u001b[39m::\u001b[32mlag()\u001b[39m       masks \u001b[34mstats\u001b[39m::lag()\n",
      "\u001b[31m✖\u001b[39m \u001b[34mdplyr\u001b[39m::\u001b[32mlast()\u001b[39m      masks \u001b[34mdata.table\u001b[39m::last()\n",
      "\u001b[31m✖\u001b[39m \u001b[34mpurrr\u001b[39m::\u001b[32mtranspose()\u001b[39m masks \u001b[34mdata.table\u001b[39m::transpose()\n",
      "\n"
     ]
    }
   ],
   "source": [
    "library(data.table)\n",
    "library(tidyverse)"
   ]
  },
  {
   "cell_type": "code",
   "execution_count": 2,
   "metadata": {},
   "outputs": [
    {
     "data": {
      "text/plain": [
       "R version 3.6.3 (2020-02-29)\n",
       "Platform: x86_64-pc-linux-gnu (64-bit)\n",
       "Running under: Ubuntu 16.04.7 LTS\n",
       "\n",
       "Matrix products: default\n",
       "BLAS:   /usr/lib/openblas-base/libblas.so.3\n",
       "LAPACK: /usr/lib/libopenblasp-r0.2.18.so\n",
       "\n",
       "locale:\n",
       " [1] LC_CTYPE=en_GB.UTF-8       LC_NUMERIC=C              \n",
       " [3] LC_TIME=en_GB.UTF-8        LC_COLLATE=en_GB.UTF-8    \n",
       " [5] LC_MONETARY=en_GB.UTF-8    LC_MESSAGES=en_GB.UTF-8   \n",
       " [7] LC_PAPER=en_GB.UTF-8       LC_NAME=C                 \n",
       " [9] LC_ADDRESS=C               LC_TELEPHONE=C            \n",
       "[11] LC_MEASUREMENT=en_GB.UTF-8 LC_IDENTIFICATION=C       \n",
       "\n",
       "attached base packages:\n",
       "[1] stats     graphics  grDevices utils     datasets  methods   base     \n",
       "\n",
       "other attached packages:\n",
       " [1] forcats_0.5.1     stringr_1.4.0     dplyr_1.0.7       purrr_0.3.4      \n",
       " [5] readr_2.0.2       tidyr_1.1.4       tibble_3.1.5      ggplot2_3.3.5    \n",
       " [9] tidyverse_1.3.1   data.table_1.14.2\n",
       "\n",
       "loaded via a namespace (and not attached):\n",
       " [1] pbdZMQ_0.3-5     tidyselect_1.1.1 repr_1.1.3       haven_2.4.3     \n",
       " [5] colorspace_2.0-2 vctrs_0.3.8      generics_0.1.0   htmltools_0.5.2 \n",
       " [9] base64enc_0.1-3  utf8_1.2.2       rlang_0.4.11     pillar_1.6.3    \n",
       "[13] glue_1.4.2       withr_2.4.2      DBI_1.1.1        dbplyr_2.1.1    \n",
       "[17] modelr_0.1.8     readxl_1.3.1     uuid_0.1-4       lifecycle_1.0.1 \n",
       "[21] munsell_0.5.0    gtable_0.3.0     cellranger_1.1.0 rvest_1.0.1     \n",
       "[25] evaluate_0.14    tzdb_0.1.2       fastmap_1.1.0    fansi_0.5.0     \n",
       "[29] broom_0.7.9      IRdisplay_1.0    Rcpp_1.0.7       backports_1.2.1 \n",
       "[33] scales_1.1.1     IRkernel_1.2     jsonlite_1.7.2   fs_1.5.0        \n",
       "[37] hms_1.1.1        digest_0.6.28    stringi_1.7.5    grid_3.6.3      \n",
       "[41] cli_3.0.1        tools_3.6.3      magrittr_2.0.1   crayon_1.4.1    \n",
       "[45] pkgconfig_2.0.3  ellipsis_0.3.2   xml2_1.3.2       reprex_2.0.1    \n",
       "[49] lubridate_1.7.10 rstudioapi_0.13  assertthat_0.2.1 httr_1.4.2      \n",
       "[53] R6_2.5.1         compiler_3.6.3  "
      ]
     },
     "metadata": {},
     "output_type": "display_data"
    }
   ],
   "source": [
    "sessionInfo()"
   ]
  },
  {
   "cell_type": "markdown",
   "metadata": {},
   "source": [
    "### read protein expression data"
   ]
  },
  {
   "cell_type": "code",
   "execution_count": 3,
   "metadata": {},
   "outputs": [],
   "source": [
    "data <- read.csv(file='RHD_data_filtered.csv')"
   ]
  },
  {
   "cell_type": "code",
   "execution_count": 4,
   "metadata": {},
   "outputs": [
    {
     "data": {
      "text/html": [
       "<table class=\"dataframe\">\n",
       "<caption>A data.frame: 6 × 368</caption>\n",
       "<thead>\n",
       "\t<tr><th></th><th scope=col>StollerID</th><th scope=col>A5YKK6</th><th scope=col>B9A064</th><th scope=col>O00187</th><th scope=col>O00391</th><th scope=col>O00429</th><th scope=col>O00533</th><th scope=col>O14556</th><th scope=col>O14791</th><th scope=col>O14980</th><th scope=col>⋯</th><th scope=col>Q9UQ35</th><th scope=col>Q9Y2S2</th><th scope=col>Q9Y2Z0</th><th scope=col>Q9Y446</th><th scope=col>Q9Y490</th><th scope=col>Q9Y4L1</th><th scope=col>Q9Y5Y7</th><th scope=col>Q9Y6R7</th><th scope=col>Q9Y6U3</th><th scope=col>Group</th></tr>\n",
       "\t<tr><th></th><th scope=col>&lt;fct&gt;</th><th scope=col>&lt;dbl&gt;</th><th scope=col>&lt;dbl&gt;</th><th scope=col>&lt;dbl&gt;</th><th scope=col>&lt;dbl&gt;</th><th scope=col>&lt;dbl&gt;</th><th scope=col>&lt;dbl&gt;</th><th scope=col>&lt;dbl&gt;</th><th scope=col>&lt;dbl&gt;</th><th scope=col>&lt;dbl&gt;</th><th scope=col>⋯</th><th scope=col>&lt;dbl&gt;</th><th scope=col>&lt;dbl&gt;</th><th scope=col>&lt;dbl&gt;</th><th scope=col>&lt;dbl&gt;</th><th scope=col>&lt;dbl&gt;</th><th scope=col>&lt;dbl&gt;</th><th scope=col>&lt;dbl&gt;</th><th scope=col>&lt;dbl&gt;</th><th scope=col>&lt;dbl&gt;</th><th scope=col>&lt;fct&gt;</th></tr>\n",
       "</thead>\n",
       "<tbody>\n",
       "\t<tr><th scope=row>1</th><td>RHD01_1  </td><td>18.72726</td><td>13.32757</td><td> 9.545403</td><td>10.93532</td><td>      NA</td><td> 9.693684</td><td>10.765847</td><td>13.54541</td><td>14.28571</td><td>⋯</td><td>       NA</td><td>16.33353</td><td>17.04409</td><td>13.99638</td><td>18.55010</td><td>10.78719</td><td>11.558106</td><td>      NA</td><td>16.02570</td><td>Case   </td></tr>\n",
       "\t<tr><th scope=row>2</th><td>RHD01_10 </td><td>17.09342</td><td>11.99219</td><td>11.119640</td><td>11.36314</td><td>12.65523</td><td>       NA</td><td>11.287226</td><td>13.51076</td><td>      NA</td><td>⋯</td><td>       NA</td><td>      NA</td><td>15.68102</td><td>14.41961</td><td>18.27449</td><td>11.17612</td><td>       NA</td><td>17.57590</td><td>15.99541</td><td>Control</td></tr>\n",
       "\t<tr><th scope=row>3</th><td>RHD01_100</td><td>      NA</td><td>16.99410</td><td> 9.841260</td><td>12.05345</td><td>13.49063</td><td>10.120308</td><td> 9.788836</td><td>13.07768</td><td>15.63010</td><td>⋯</td><td>       NA</td><td>16.21441</td><td>14.98246</td><td>15.27436</td><td>18.64911</td><td>11.67593</td><td> 9.798376</td><td>18.05495</td><td>15.21582</td><td>Control</td></tr>\n",
       "\t<tr><th scope=row>4</th><td>RHD01_101</td><td>      NA</td><td>11.05973</td><td>10.855083</td><td>11.52179</td><td>14.05859</td><td>10.599453</td><td>10.542719</td><td>13.98480</td><td>15.74108</td><td>⋯</td><td>10.031960</td><td>16.51174</td><td>      NA</td><td>      NA</td><td>19.14743</td><td>12.67218</td><td>10.626237</td><td>      NA</td><td>16.07679</td><td>Control</td></tr>\n",
       "\t<tr><th scope=row>5</th><td>RHD01_102</td><td>18.01907</td><td>14.42647</td><td>       NA</td><td>12.03946</td><td>13.58525</td><td>10.212223</td><td>10.447536</td><td>14.15161</td><td>15.58056</td><td>⋯</td><td> 9.875406</td><td>16.80517</td><td>      NA</td><td>15.85524</td><td>18.39157</td><td>11.65981</td><td>11.531890</td><td>19.18588</td><td>16.05441</td><td>Control</td></tr>\n",
       "\t<tr><th scope=row>6</th><td>RHD01_103</td><td>17.32733</td><td>14.57000</td><td>10.600376</td><td>12.43219</td><td>13.43931</td><td>10.531699</td><td>10.678076</td><td>13.50614</td><td>14.92608</td><td>⋯</td><td>10.815293</td><td>16.79194</td><td>      NA</td><td>15.80052</td><td>19.43061</td><td>11.51000</td><td>11.223427</td><td>      NA</td><td>16.29087</td><td>Control</td></tr>\n",
       "</tbody>\n",
       "</table>\n"
      ],
      "text/latex": [
       "A data.frame: 6 × 368\n",
       "\\begin{tabular}{r|lllllllllllllllllllll}\n",
       "  & StollerID & A5YKK6 & B9A064 & O00187 & O00391 & O00429 & O00533 & O14556 & O14791 & O14980 & ⋯ & Q9UQ35 & Q9Y2S2 & Q9Y2Z0 & Q9Y446 & Q9Y490 & Q9Y4L1 & Q9Y5Y7 & Q9Y6R7 & Q9Y6U3 & Group\\\\\n",
       "  & <fct> & <dbl> & <dbl> & <dbl> & <dbl> & <dbl> & <dbl> & <dbl> & <dbl> & <dbl> & ⋯ & <dbl> & <dbl> & <dbl> & <dbl> & <dbl> & <dbl> & <dbl> & <dbl> & <dbl> & <fct>\\\\\n",
       "\\hline\n",
       "\t1 & RHD01\\_1   & 18.72726 & 13.32757 &  9.545403 & 10.93532 &       NA &  9.693684 & 10.765847 & 13.54541 & 14.28571 & ⋯ &        NA & 16.33353 & 17.04409 & 13.99638 & 18.55010 & 10.78719 & 11.558106 &       NA & 16.02570 & Case   \\\\\n",
       "\t2 & RHD01\\_10  & 17.09342 & 11.99219 & 11.119640 & 11.36314 & 12.65523 &        NA & 11.287226 & 13.51076 &       NA & ⋯ &        NA &       NA & 15.68102 & 14.41961 & 18.27449 & 11.17612 &        NA & 17.57590 & 15.99541 & Control\\\\\n",
       "\t3 & RHD01\\_100 &       NA & 16.99410 &  9.841260 & 12.05345 & 13.49063 & 10.120308 &  9.788836 & 13.07768 & 15.63010 & ⋯ &        NA & 16.21441 & 14.98246 & 15.27436 & 18.64911 & 11.67593 &  9.798376 & 18.05495 & 15.21582 & Control\\\\\n",
       "\t4 & RHD01\\_101 &       NA & 11.05973 & 10.855083 & 11.52179 & 14.05859 & 10.599453 & 10.542719 & 13.98480 & 15.74108 & ⋯ & 10.031960 & 16.51174 &       NA &       NA & 19.14743 & 12.67218 & 10.626237 &       NA & 16.07679 & Control\\\\\n",
       "\t5 & RHD01\\_102 & 18.01907 & 14.42647 &        NA & 12.03946 & 13.58525 & 10.212223 & 10.447536 & 14.15161 & 15.58056 & ⋯ &  9.875406 & 16.80517 &       NA & 15.85524 & 18.39157 & 11.65981 & 11.531890 & 19.18588 & 16.05441 & Control\\\\\n",
       "\t6 & RHD01\\_103 & 17.32733 & 14.57000 & 10.600376 & 12.43219 & 13.43931 & 10.531699 & 10.678076 & 13.50614 & 14.92608 & ⋯ & 10.815293 & 16.79194 &       NA & 15.80052 & 19.43061 & 11.51000 & 11.223427 &       NA & 16.29087 & Control\\\\\n",
       "\\end{tabular}\n"
      ],
      "text/markdown": [
       "\n",
       "A data.frame: 6 × 368\n",
       "\n",
       "| <!--/--> | StollerID &lt;fct&gt; | A5YKK6 &lt;dbl&gt; | B9A064 &lt;dbl&gt; | O00187 &lt;dbl&gt; | O00391 &lt;dbl&gt; | O00429 &lt;dbl&gt; | O00533 &lt;dbl&gt; | O14556 &lt;dbl&gt; | O14791 &lt;dbl&gt; | O14980 &lt;dbl&gt; | ⋯ ⋯ | Q9UQ35 &lt;dbl&gt; | Q9Y2S2 &lt;dbl&gt; | Q9Y2Z0 &lt;dbl&gt; | Q9Y446 &lt;dbl&gt; | Q9Y490 &lt;dbl&gt; | Q9Y4L1 &lt;dbl&gt; | Q9Y5Y7 &lt;dbl&gt; | Q9Y6R7 &lt;dbl&gt; | Q9Y6U3 &lt;dbl&gt; | Group &lt;fct&gt; |\n",
       "|---|---|---|---|---|---|---|---|---|---|---|---|---|---|---|---|---|---|---|---|---|---|\n",
       "| 1 | RHD01_1   | 18.72726 | 13.32757 |  9.545403 | 10.93532 |       NA |  9.693684 | 10.765847 | 13.54541 | 14.28571 | ⋯ |        NA | 16.33353 | 17.04409 | 13.99638 | 18.55010 | 10.78719 | 11.558106 |       NA | 16.02570 | Case    |\n",
       "| 2 | RHD01_10  | 17.09342 | 11.99219 | 11.119640 | 11.36314 | 12.65523 |        NA | 11.287226 | 13.51076 |       NA | ⋯ |        NA |       NA | 15.68102 | 14.41961 | 18.27449 | 11.17612 |        NA | 17.57590 | 15.99541 | Control |\n",
       "| 3 | RHD01_100 |       NA | 16.99410 |  9.841260 | 12.05345 | 13.49063 | 10.120308 |  9.788836 | 13.07768 | 15.63010 | ⋯ |        NA | 16.21441 | 14.98246 | 15.27436 | 18.64911 | 11.67593 |  9.798376 | 18.05495 | 15.21582 | Control |\n",
       "| 4 | RHD01_101 |       NA | 11.05973 | 10.855083 | 11.52179 | 14.05859 | 10.599453 | 10.542719 | 13.98480 | 15.74108 | ⋯ | 10.031960 | 16.51174 |       NA |       NA | 19.14743 | 12.67218 | 10.626237 |       NA | 16.07679 | Control |\n",
       "| 5 | RHD01_102 | 18.01907 | 14.42647 |        NA | 12.03946 | 13.58525 | 10.212223 | 10.447536 | 14.15161 | 15.58056 | ⋯ |  9.875406 | 16.80517 |       NA | 15.85524 | 18.39157 | 11.65981 | 11.531890 | 19.18588 | 16.05441 | Control |\n",
       "| 6 | RHD01_103 | 17.32733 | 14.57000 | 10.600376 | 12.43219 | 13.43931 | 10.531699 | 10.678076 | 13.50614 | 14.92608 | ⋯ | 10.815293 | 16.79194 |       NA | 15.80052 | 19.43061 | 11.51000 | 11.223427 |       NA | 16.29087 | Control |\n",
       "\n"
      ],
      "text/plain": [
       "  StollerID A5YKK6   B9A064   O00187    O00391   O00429   O00533    O14556   \n",
       "1 RHD01_1   18.72726 13.32757  9.545403 10.93532       NA  9.693684 10.765847\n",
       "2 RHD01_10  17.09342 11.99219 11.119640 11.36314 12.65523        NA 11.287226\n",
       "3 RHD01_100       NA 16.99410  9.841260 12.05345 13.49063 10.120308  9.788836\n",
       "4 RHD01_101       NA 11.05973 10.855083 11.52179 14.05859 10.599453 10.542719\n",
       "5 RHD01_102 18.01907 14.42647        NA 12.03946 13.58525 10.212223 10.447536\n",
       "6 RHD01_103 17.32733 14.57000 10.600376 12.43219 13.43931 10.531699 10.678076\n",
       "  O14791   O14980   ⋯ Q9UQ35    Q9Y2S2   Q9Y2Z0   Q9Y446   Q9Y490   Q9Y4L1  \n",
       "1 13.54541 14.28571 ⋯        NA 16.33353 17.04409 13.99638 18.55010 10.78719\n",
       "2 13.51076       NA ⋯        NA       NA 15.68102 14.41961 18.27449 11.17612\n",
       "3 13.07768 15.63010 ⋯        NA 16.21441 14.98246 15.27436 18.64911 11.67593\n",
       "4 13.98480 15.74108 ⋯ 10.031960 16.51174       NA       NA 19.14743 12.67218\n",
       "5 14.15161 15.58056 ⋯  9.875406 16.80517       NA 15.85524 18.39157 11.65981\n",
       "6 13.50614 14.92608 ⋯ 10.815293 16.79194       NA 15.80052 19.43061 11.51000\n",
       "  Q9Y5Y7    Q9Y6R7   Q9Y6U3   Group  \n",
       "1 11.558106       NA 16.02570 Case   \n",
       "2        NA 17.57590 15.99541 Control\n",
       "3  9.798376 18.05495 15.21582 Control\n",
       "4 10.626237       NA 16.07679 Control\n",
       "5 11.531890 19.18588 16.05441 Control\n",
       "6 11.223427       NA 16.29087 Control"
      ]
     },
     "metadata": {},
     "output_type": "display_data"
    }
   ],
   "source": [
    "### protein expression data is already log2 scaled\n",
    "head(data)\n"
   ]
  },
  {
   "cell_type": "markdown",
   "metadata": {},
   "source": [
    "### calculate log2 fold change of the data"
   ]
  },
  {
   "cell_type": "code",
   "execution_count": 5,
   "metadata": {},
   "outputs": [
    {
     "name": "stderr",
     "output_type": "stream",
     "text": [
      "`summarise()` has grouped output by 'UniProtID'. You can override using the `.groups` argument.\n",
      "\n"
     ]
    }
   ],
   "source": [
    "protein_foldchange <- data %>% select(-StollerID) %>% gather(UniProtID, value, -Group) %>% group_by(UniProtID,Group) %>% summarize(value=list(value)) %>%\n",
    "spread(Group,value) %>%   mutate(mean_Case = mean(unlist(Case), na.rm=TRUE), mean_Control = mean(unlist(Control), na.rm=TRUE), \n",
    "                                 log2foldchange = mean_Case-mean_Control, p_value = t.test(unlist(Case), unlist(Control))$p.value, \n",
    "                                 t_value = t.test(unlist(Case), unlist(Control))$statistic) %>% select(-c(Case, Control)) %>% arrange(desc(log2foldchange))"
   ]
  },
  {
   "cell_type": "code",
   "execution_count": 6,
   "metadata": {},
   "outputs": [],
   "source": [
    "### mapping between UniProtID and protein name\n",
    "\n",
    "protein_withname = read.table('protein_withname.txt', header=TRUE)"
   ]
  },
  {
   "cell_type": "code",
   "execution_count": 7,
   "metadata": {},
   "outputs": [
    {
     "data": {
      "text/html": [
       "<table class=\"dataframe\">\n",
       "<caption>A data.frame: 6 × 2</caption>\n",
       "<thead>\n",
       "\t<tr><th></th><th scope=col>UniProtID</th><th scope=col>ProteinName</th></tr>\n",
       "\t<tr><th></th><th scope=col>&lt;fct&gt;</th><th scope=col>&lt;fct&gt;</th></tr>\n",
       "</thead>\n",
       "<tbody>\n",
       "\t<tr><th scope=row>1</th><td>A5YKK6</td><td>CNOT1</td></tr>\n",
       "\t<tr><th scope=row>2</th><td>B9A064</td><td>IGLL5</td></tr>\n",
       "\t<tr><th scope=row>3</th><td>O00187</td><td>MASP2</td></tr>\n",
       "\t<tr><th scope=row>4</th><td>O00391</td><td>QSOX1</td></tr>\n",
       "\t<tr><th scope=row>5</th><td>O00429</td><td>DNM1L</td></tr>\n",
       "\t<tr><th scope=row>6</th><td>O00533</td><td>CHL1 </td></tr>\n",
       "</tbody>\n",
       "</table>\n"
      ],
      "text/latex": [
       "A data.frame: 6 × 2\n",
       "\\begin{tabular}{r|ll}\n",
       "  & UniProtID & ProteinName\\\\\n",
       "  & <fct> & <fct>\\\\\n",
       "\\hline\n",
       "\t1 & A5YKK6 & CNOT1\\\\\n",
       "\t2 & B9A064 & IGLL5\\\\\n",
       "\t3 & O00187 & MASP2\\\\\n",
       "\t4 & O00391 & QSOX1\\\\\n",
       "\t5 & O00429 & DNM1L\\\\\n",
       "\t6 & O00533 & CHL1 \\\\\n",
       "\\end{tabular}\n"
      ],
      "text/markdown": [
       "\n",
       "A data.frame: 6 × 2\n",
       "\n",
       "| <!--/--> | UniProtID &lt;fct&gt; | ProteinName &lt;fct&gt; |\n",
       "|---|---|---|\n",
       "| 1 | A5YKK6 | CNOT1 |\n",
       "| 2 | B9A064 | IGLL5 |\n",
       "| 3 | O00187 | MASP2 |\n",
       "| 4 | O00391 | QSOX1 |\n",
       "| 5 | O00429 | DNM1L |\n",
       "| 6 | O00533 | CHL1  |\n",
       "\n"
      ],
      "text/plain": [
       "  UniProtID ProteinName\n",
       "1 A5YKK6    CNOT1      \n",
       "2 B9A064    IGLL5      \n",
       "3 O00187    MASP2      \n",
       "4 O00391    QSOX1      \n",
       "5 O00429    DNM1L      \n",
       "6 O00533    CHL1       "
      ]
     },
     "metadata": {},
     "output_type": "display_data"
    }
   ],
   "source": [
    "head(protein_withname)"
   ]
  },
  {
   "cell_type": "code",
   "execution_count": 8,
   "metadata": {},
   "outputs": [
    {
     "name": "stderr",
     "output_type": "stream",
     "text": [
      "Joining, by = \"UniProtID\"\n",
      "\n"
     ]
    }
   ],
   "source": [
    "protein_foldchange_full <- left_join(protein_foldchange,protein_withname) %>% select(UniProtID, ProteinName, everything())"
   ]
  },
  {
   "cell_type": "code",
   "execution_count": 9,
   "metadata": {},
   "outputs": [
    {
     "data": {
      "text/html": [
       "<table class=\"dataframe\">\n",
       "<caption>A grouped_df: 6 × 7</caption>\n",
       "<thead>\n",
       "\t<tr><th scope=col>UniProtID</th><th scope=col>ProteinName</th><th scope=col>mean_Case</th><th scope=col>mean_Control</th><th scope=col>log2foldchange</th><th scope=col>p_value</th><th scope=col>t_value</th></tr>\n",
       "\t<tr><th scope=col>&lt;chr&gt;</th><th scope=col>&lt;fct&gt;</th><th scope=col>&lt;dbl&gt;</th><th scope=col>&lt;dbl&gt;</th><th scope=col>&lt;dbl&gt;</th><th scope=col>&lt;dbl&gt;</th><th scope=col>&lt;dbl&gt;</th></tr>\n",
       "</thead>\n",
       "<tbody>\n",
       "\t<tr><td>P05164</td><td>MPO   </td><td>17.43545</td><td>15.98783</td><td>1.4476155</td><td>2.440581e-03</td><td> 3.064512</td></tr>\n",
       "\t<tr><td>P02741</td><td>CRP   </td><td>13.93564</td><td>12.76735</td><td>1.1682886</td><td>4.488543e-08</td><td> 5.591432</td></tr>\n",
       "\t<tr><td>P0DJI8</td><td>SAA1  </td><td>12.33971</td><td>11.19757</td><td>1.1421394</td><td>7.991483e-06</td><td> 4.556095</td></tr>\n",
       "\t<tr><td>Q15848</td><td>ADIPOQ</td><td>11.21368</td><td>10.07740</td><td>1.1362792</td><td>6.494611e-22</td><td>10.646823</td></tr>\n",
       "\t<tr><td>P04406</td><td>GAPDH </td><td>13.44243</td><td>12.47953</td><td>0.9629039</td><td>1.315826e-02</td><td> 2.507173</td></tr>\n",
       "\t<tr><td>P01861</td><td>IGHG4 </td><td>13.83671</td><td>12.97800</td><td>0.8587099</td><td>4.533116e-04</td><td> 3.546973</td></tr>\n",
       "</tbody>\n",
       "</table>\n"
      ],
      "text/latex": [
       "A grouped\\_df: 6 × 7\n",
       "\\begin{tabular}{lllllll}\n",
       " UniProtID & ProteinName & mean\\_Case & mean\\_Control & log2foldchange & p\\_value & t\\_value\\\\\n",
       " <chr> & <fct> & <dbl> & <dbl> & <dbl> & <dbl> & <dbl>\\\\\n",
       "\\hline\n",
       "\t P05164 & MPO    & 17.43545 & 15.98783 & 1.4476155 & 2.440581e-03 &  3.064512\\\\\n",
       "\t P02741 & CRP    & 13.93564 & 12.76735 & 1.1682886 & 4.488543e-08 &  5.591432\\\\\n",
       "\t P0DJI8 & SAA1   & 12.33971 & 11.19757 & 1.1421394 & 7.991483e-06 &  4.556095\\\\\n",
       "\t Q15848 & ADIPOQ & 11.21368 & 10.07740 & 1.1362792 & 6.494611e-22 & 10.646823\\\\\n",
       "\t P04406 & GAPDH  & 13.44243 & 12.47953 & 0.9629039 & 1.315826e-02 &  2.507173\\\\\n",
       "\t P01861 & IGHG4  & 13.83671 & 12.97800 & 0.8587099 & 4.533116e-04 &  3.546973\\\\\n",
       "\\end{tabular}\n"
      ],
      "text/markdown": [
       "\n",
       "A grouped_df: 6 × 7\n",
       "\n",
       "| UniProtID &lt;chr&gt; | ProteinName &lt;fct&gt; | mean_Case &lt;dbl&gt; | mean_Control &lt;dbl&gt; | log2foldchange &lt;dbl&gt; | p_value &lt;dbl&gt; | t_value &lt;dbl&gt; |\n",
       "|---|---|---|---|---|---|---|\n",
       "| P05164 | MPO    | 17.43545 | 15.98783 | 1.4476155 | 2.440581e-03 |  3.064512 |\n",
       "| P02741 | CRP    | 13.93564 | 12.76735 | 1.1682886 | 4.488543e-08 |  5.591432 |\n",
       "| P0DJI8 | SAA1   | 12.33971 | 11.19757 | 1.1421394 | 7.991483e-06 |  4.556095 |\n",
       "| Q15848 | ADIPOQ | 11.21368 | 10.07740 | 1.1362792 | 6.494611e-22 | 10.646823 |\n",
       "| P04406 | GAPDH  | 13.44243 | 12.47953 | 0.9629039 | 1.315826e-02 |  2.507173 |\n",
       "| P01861 | IGHG4  | 13.83671 | 12.97800 | 0.8587099 | 4.533116e-04 |  3.546973 |\n",
       "\n"
      ],
      "text/plain": [
       "  UniProtID ProteinName mean_Case mean_Control log2foldchange p_value     \n",
       "1 P05164    MPO         17.43545  15.98783     1.4476155      2.440581e-03\n",
       "2 P02741    CRP         13.93564  12.76735     1.1682886      4.488543e-08\n",
       "3 P0DJI8    SAA1        12.33971  11.19757     1.1421394      7.991483e-06\n",
       "4 Q15848    ADIPOQ      11.21368  10.07740     1.1362792      6.494611e-22\n",
       "5 P04406    GAPDH       13.44243  12.47953     0.9629039      1.315826e-02\n",
       "6 P01861    IGHG4       13.83671  12.97800     0.8587099      4.533116e-04\n",
       "  t_value  \n",
       "1  3.064512\n",
       "2  5.591432\n",
       "3  4.556095\n",
       "4 10.646823\n",
       "5  2.507173\n",
       "6  3.546973"
      ]
     },
     "metadata": {},
     "output_type": "display_data"
    }
   ],
   "source": [
    "head(protein_foldchange_full)"
   ]
  },
  {
   "cell_type": "markdown",
   "metadata": {},
   "source": [
    "### write results to a file"
   ]
  },
  {
   "cell_type": "code",
   "execution_count": 10,
   "metadata": {},
   "outputs": [],
   "source": [
    "write.table(file='Protein_withfoldchange.csv',protein_foldchange_full, quote=F, row.names=F, sep=',')"
   ]
  }
 ],
 "metadata": {
  "kernelspec": {
   "display_name": "R",
   "language": "R",
   "name": "ir"
  },
  "language_info": {
   "codemirror_mode": "r",
   "file_extension": ".r",
   "mimetype": "text/x-r-source",
   "name": "R",
   "pygments_lexer": "r",
   "version": "3.6.3"
  }
 },
 "nbformat": 4,
 "nbformat_minor": 4
}
