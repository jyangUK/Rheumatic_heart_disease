{
 "cells": [
  {
   "cell_type": "markdown",
   "metadata": {},
   "source": [
    "Jupyter notebook \n",
    "-------\n",
    "\n",
    "This notebook illustrates the codes used to generate single and accummulated AUC for selected proteins as shown in Fig. 1b of the paper **\"Data independent acquisition mass spectrometry in severe Rheumatic Heart Disease (RHD) identifies a proteomic signature showing ongoing inflammation and effectively classifying RHD cases\"**\n",
    "\n",
    "Author: **Jing Yang**\n",
    "\n",
    "Date: **17/11/2021**\n",
    "\n",
    "Contact: Jing.Yang@manchester.ac.uk\n"
   ]
  },
  {
   "cell_type": "code",
   "execution_count": 1,
   "metadata": {},
   "outputs": [
    {
     "name": "stderr",
     "output_type": "stream",
     "text": [
      "Loading required package: ggplot2\n",
      "\n",
      "Loading required package: lattice\n",
      "\n",
      "── \u001b[1mAttaching packages\u001b[22m ─────────────────────────────────────── tidyverse 1.3.1 ──\n",
      "\n",
      "\u001b[32m✔\u001b[39m \u001b[34mtibble \u001b[39m 3.1.5     \u001b[32m✔\u001b[39m \u001b[34mdplyr  \u001b[39m 1.0.7\n",
      "\u001b[32m✔\u001b[39m \u001b[34mtidyr  \u001b[39m 1.1.4     \u001b[32m✔\u001b[39m \u001b[34mstringr\u001b[39m 1.4.0\n",
      "\u001b[32m✔\u001b[39m \u001b[34mreadr  \u001b[39m 2.0.2     \u001b[32m✔\u001b[39m \u001b[34mforcats\u001b[39m 0.5.1\n",
      "\u001b[32m✔\u001b[39m \u001b[34mpurrr  \u001b[39m 0.3.4     \n",
      "\n",
      "── \u001b[1mConflicts\u001b[22m ────────────────────────────────────────── tidyverse_conflicts() ──\n",
      "\u001b[31m✖\u001b[39m \u001b[34mdplyr\u001b[39m::\u001b[32mbetween()\u001b[39m   masks \u001b[34mdata.table\u001b[39m::between()\n",
      "\u001b[31m✖\u001b[39m \u001b[34mdplyr\u001b[39m::\u001b[32mfilter()\u001b[39m    masks \u001b[34mstats\u001b[39m::filter()\n",
      "\u001b[31m✖\u001b[39m \u001b[34mdplyr\u001b[39m::\u001b[32mfirst()\u001b[39m     masks \u001b[34mdata.table\u001b[39m::first()\n",
      "\u001b[31m✖\u001b[39m \u001b[34mdplyr\u001b[39m::\u001b[32mlag()\u001b[39m       masks \u001b[34mstats\u001b[39m::lag()\n",
      "\u001b[31m✖\u001b[39m \u001b[34mdplyr\u001b[39m::\u001b[32mlast()\u001b[39m      masks \u001b[34mdata.table\u001b[39m::last()\n",
      "\u001b[31m✖\u001b[39m \u001b[34mpurrr\u001b[39m::\u001b[32mlift()\u001b[39m      masks \u001b[34mcaret\u001b[39m::lift()\n",
      "\u001b[31m✖\u001b[39m \u001b[34mpurrr\u001b[39m::\u001b[32mtranspose()\u001b[39m masks \u001b[34mdata.table\u001b[39m::transpose()\n",
      "\n",
      "\n",
      "Attaching package: ‘DescTools’\n",
      "\n",
      "\n",
      "The following object is masked from ‘package:data.table’:\n",
      "\n",
      "    %like%\n",
      "\n",
      "\n",
      "The following objects are masked from ‘package:caret’:\n",
      "\n",
      "    MAE, RMSE\n",
      "\n",
      "\n"
     ]
    }
   ],
   "source": [
    "library(caret)\n",
    "library(data.table)\n",
    "library(tidyverse)\n",
    "library(Boruta)\n",
    "library(DescTools)\n",
    "library(broom)"
   ]
  },
  {
   "cell_type": "code",
   "execution_count": 2,
   "metadata": {},
   "outputs": [
    {
     "data": {
      "text/plain": [
       "R version 3.6.3 (2020-02-29)\n",
       "Platform: x86_64-pc-linux-gnu (64-bit)\n",
       "Running under: Ubuntu 16.04.7 LTS\n",
       "\n",
       "Matrix products: default\n",
       "BLAS:   /usr/lib/openblas-base/libblas.so.3\n",
       "LAPACK: /usr/lib/libopenblasp-r0.2.18.so\n",
       "\n",
       "locale:\n",
       " [1] LC_CTYPE=en_GB.UTF-8       LC_NUMERIC=C              \n",
       " [3] LC_TIME=en_GB.UTF-8        LC_COLLATE=en_GB.UTF-8    \n",
       " [5] LC_MONETARY=en_GB.UTF-8    LC_MESSAGES=en_GB.UTF-8   \n",
       " [7] LC_PAPER=en_GB.UTF-8       LC_NAME=C                 \n",
       " [9] LC_ADDRESS=C               LC_TELEPHONE=C            \n",
       "[11] LC_MEASUREMENT=en_GB.UTF-8 LC_IDENTIFICATION=C       \n",
       "\n",
       "attached base packages:\n",
       "[1] stats     graphics  grDevices utils     datasets  methods   base     \n",
       "\n",
       "other attached packages:\n",
       " [1] broom_0.7.9       DescTools_0.99.43 Boruta_7.0.0      forcats_0.5.1    \n",
       " [5] stringr_1.4.0     dplyr_1.0.7       purrr_0.3.4       readr_2.0.2      \n",
       " [9] tidyr_1.1.4       tibble_3.1.5      tidyverse_1.3.1   data.table_1.14.2\n",
       "[13] caret_6.0-89      lattice_0.20-45   ggplot2_3.3.5    \n",
       "\n",
       "loaded via a namespace (and not attached):\n",
       " [1] nlme_3.1-153         fs_1.5.0             lubridate_1.7.10    \n",
       " [4] httr_1.4.2           repr_1.1.3           tools_3.6.3         \n",
       " [7] backports_1.2.1      utf8_1.2.2           R6_2.5.1            \n",
       "[10] rpart_4.1-15         DBI_1.1.1            colorspace_2.0-2    \n",
       "[13] nnet_7.3-16          withr_2.4.2          Exact_3.0           \n",
       "[16] tidyselect_1.1.1     compiler_3.6.3       cli_3.0.1           \n",
       "[19] rvest_1.0.1          expm_0.999-6         xml2_1.3.2          \n",
       "[22] scales_1.1.1         mvtnorm_1.1-2        proxy_0.4-26        \n",
       "[25] pbdZMQ_0.3-5         digest_0.6.28        base64enc_0.1-3     \n",
       "[28] pkgconfig_2.0.3      htmltools_0.5.2      parallelly_1.28.1   \n",
       "[31] dbplyr_2.1.1         fastmap_1.1.0        rlang_0.4.11        \n",
       "[34] readxl_1.3.1         rstudioapi_0.13      generics_0.1.0      \n",
       "[37] jsonlite_1.7.2       ModelMetrics_1.2.2.2 magrittr_2.0.1      \n",
       "[40] Matrix_1.3-4         Rcpp_1.0.7           IRkernel_1.2        \n",
       "[43] munsell_0.5.0        fansi_0.5.0          lifecycle_1.0.1     \n",
       "[46] stringi_1.7.5        pROC_1.18.0          rootSolve_1.8.2.3   \n",
       "[49] MASS_7.3-54          plyr_1.8.6           recipes_0.1.17      \n",
       "[52] grid_3.6.3           parallel_3.6.3       listenv_0.8.0       \n",
       "[55] lmom_2.8             crayon_1.4.1         IRdisplay_1.0       \n",
       "[58] haven_2.4.3          splines_3.6.3        hms_1.1.1           \n",
       "[61] pillar_1.6.3         uuid_0.1-4           gld_2.6.2           \n",
       "[64] boot_1.3-28          future.apply_1.8.1   reshape2_1.4.4      \n",
       "[67] codetools_0.2-18     stats4_3.6.3         reprex_2.0.1        \n",
       "[70] glue_1.4.2           evaluate_0.14        modelr_0.1.8        \n",
       "[73] vctrs_0.3.8          tzdb_0.1.2           foreach_1.5.1       \n",
       "[76] cellranger_1.1.0     gtable_0.3.0         future_1.22.1       \n",
       "[79] assertthat_0.2.1     gower_0.2.2          prodlim_2019.11.13  \n",
       "[82] e1071_1.7-9          class_7.3-19         survival_3.2-13     \n",
       "[85] timeDate_3043.102    iterators_1.0.13     lava_1.6.10         \n",
       "[88] globals_0.14.0       ellipsis_0.3.2       ipred_0.9-12        "
      ]
     },
     "metadata": {},
     "output_type": "display_data"
    }
   ],
   "source": [
    "sessionInfo()"
   ]
  },
  {
   "cell_type": "markdown",
   "metadata": {},
   "source": [
    "### Read log2 scaled protein expression data, log2 fold change data and the mapping between UniProtID and protein names"
   ]
  },
  {
   "cell_type": "code",
   "execution_count": 3,
   "metadata": {},
   "outputs": [],
   "source": [
    "### data is log2 scaled protein expression data\n",
    "### fold change is generated from the notebook \"get_foldchange.ipynb\"\n",
    "data <- read.csv(file='RHD_data_filtered.csv', stringsAsFactors = FALSE)\n",
    "foldchange_data <- read.csv('Protein_withfoldchange.csv', header=TRUE)\n",
    "protein_withname <- read.table('protein_withname.txt', header=TRUE)"
   ]
  },
  {
   "cell_type": "code",
   "execution_count": 4,
   "metadata": {},
   "outputs": [
    {
     "data": {
      "text/html": [
       "<table class=\"dataframe\">\n",
       "<caption>A data.frame: 6 × 7</caption>\n",
       "<thead>\n",
       "\t<tr><th></th><th scope=col>UniProtID</th><th scope=col>ProteinName</th><th scope=col>mean_Case</th><th scope=col>mean_Control</th><th scope=col>log2foldchange</th><th scope=col>p_value</th><th scope=col>t_value</th></tr>\n",
       "\t<tr><th></th><th scope=col>&lt;fct&gt;</th><th scope=col>&lt;fct&gt;</th><th scope=col>&lt;dbl&gt;</th><th scope=col>&lt;dbl&gt;</th><th scope=col>&lt;dbl&gt;</th><th scope=col>&lt;dbl&gt;</th><th scope=col>&lt;dbl&gt;</th></tr>\n",
       "</thead>\n",
       "<tbody>\n",
       "\t<tr><th scope=row>1</th><td>P05164</td><td>MPO   </td><td>17.43545</td><td>15.98783</td><td>1.4476155</td><td>2.440581e-03</td><td> 3.064512</td></tr>\n",
       "\t<tr><th scope=row>2</th><td>P02741</td><td>CRP   </td><td>13.93564</td><td>12.76735</td><td>1.1682886</td><td>4.488543e-08</td><td> 5.591432</td></tr>\n",
       "\t<tr><th scope=row>3</th><td>P0DJI8</td><td>SAA1  </td><td>12.33971</td><td>11.19757</td><td>1.1421394</td><td>7.991483e-06</td><td> 4.556095</td></tr>\n",
       "\t<tr><th scope=row>4</th><td>Q15848</td><td>ADIPOQ</td><td>11.21368</td><td>10.07740</td><td>1.1362792</td><td>6.494611e-22</td><td>10.646823</td></tr>\n",
       "\t<tr><th scope=row>5</th><td>P04406</td><td>GAPDH </td><td>13.44243</td><td>12.47953</td><td>0.9629039</td><td>1.315826e-02</td><td> 2.507173</td></tr>\n",
       "\t<tr><th scope=row>6</th><td>P01861</td><td>IGHG4 </td><td>13.83671</td><td>12.97800</td><td>0.8587099</td><td>4.533116e-04</td><td> 3.546973</td></tr>\n",
       "</tbody>\n",
       "</table>\n"
      ],
      "text/latex": [
       "A data.frame: 6 × 7\n",
       "\\begin{tabular}{r|lllllll}\n",
       "  & UniProtID & ProteinName & mean\\_Case & mean\\_Control & log2foldchange & p\\_value & t\\_value\\\\\n",
       "  & <fct> & <fct> & <dbl> & <dbl> & <dbl> & <dbl> & <dbl>\\\\\n",
       "\\hline\n",
       "\t1 & P05164 & MPO    & 17.43545 & 15.98783 & 1.4476155 & 2.440581e-03 &  3.064512\\\\\n",
       "\t2 & P02741 & CRP    & 13.93564 & 12.76735 & 1.1682886 & 4.488543e-08 &  5.591432\\\\\n",
       "\t3 & P0DJI8 & SAA1   & 12.33971 & 11.19757 & 1.1421394 & 7.991483e-06 &  4.556095\\\\\n",
       "\t4 & Q15848 & ADIPOQ & 11.21368 & 10.07740 & 1.1362792 & 6.494611e-22 & 10.646823\\\\\n",
       "\t5 & P04406 & GAPDH  & 13.44243 & 12.47953 & 0.9629039 & 1.315826e-02 &  2.507173\\\\\n",
       "\t6 & P01861 & IGHG4  & 13.83671 & 12.97800 & 0.8587099 & 4.533116e-04 &  3.546973\\\\\n",
       "\\end{tabular}\n"
      ],
      "text/markdown": [
       "\n",
       "A data.frame: 6 × 7\n",
       "\n",
       "| <!--/--> | UniProtID &lt;fct&gt; | ProteinName &lt;fct&gt; | mean_Case &lt;dbl&gt; | mean_Control &lt;dbl&gt; | log2foldchange &lt;dbl&gt; | p_value &lt;dbl&gt; | t_value &lt;dbl&gt; |\n",
       "|---|---|---|---|---|---|---|---|\n",
       "| 1 | P05164 | MPO    | 17.43545 | 15.98783 | 1.4476155 | 2.440581e-03 |  3.064512 |\n",
       "| 2 | P02741 | CRP    | 13.93564 | 12.76735 | 1.1682886 | 4.488543e-08 |  5.591432 |\n",
       "| 3 | P0DJI8 | SAA1   | 12.33971 | 11.19757 | 1.1421394 | 7.991483e-06 |  4.556095 |\n",
       "| 4 | Q15848 | ADIPOQ | 11.21368 | 10.07740 | 1.1362792 | 6.494611e-22 | 10.646823 |\n",
       "| 5 | P04406 | GAPDH  | 13.44243 | 12.47953 | 0.9629039 | 1.315826e-02 |  2.507173 |\n",
       "| 6 | P01861 | IGHG4  | 13.83671 | 12.97800 | 0.8587099 | 4.533116e-04 |  3.546973 |\n",
       "\n"
      ],
      "text/plain": [
       "  UniProtID ProteinName mean_Case mean_Control log2foldchange p_value     \n",
       "1 P05164    MPO         17.43545  15.98783     1.4476155      2.440581e-03\n",
       "2 P02741    CRP         13.93564  12.76735     1.1682886      4.488543e-08\n",
       "3 P0DJI8    SAA1        12.33971  11.19757     1.1421394      7.991483e-06\n",
       "4 Q15848    ADIPOQ      11.21368  10.07740     1.1362792      6.494611e-22\n",
       "5 P04406    GAPDH       13.44243  12.47953     0.9629039      1.315826e-02\n",
       "6 P01861    IGHG4       13.83671  12.97800     0.8587099      4.533116e-04\n",
       "  t_value  \n",
       "1  3.064512\n",
       "2  5.591432\n",
       "3  4.556095\n",
       "4 10.646823\n",
       "5  2.507173\n",
       "6  3.546973"
      ]
     },
     "metadata": {},
     "output_type": "display_data"
    }
   ],
   "source": [
    "head(foldchange_data)"
   ]
  },
  {
   "cell_type": "code",
   "execution_count": 5,
   "metadata": {
    "scrolled": true
   },
   "outputs": [
    {
     "data": {
      "text/html": [
       "<table class=\"dataframe\">\n",
       "<caption>A data.frame: 6 × 368</caption>\n",
       "<thead>\n",
       "\t<tr><th></th><th scope=col>StollerID</th><th scope=col>A5YKK6</th><th scope=col>B9A064</th><th scope=col>O00187</th><th scope=col>O00391</th><th scope=col>O00429</th><th scope=col>O00533</th><th scope=col>O14556</th><th scope=col>O14791</th><th scope=col>O14980</th><th scope=col>⋯</th><th scope=col>Q9UQ35</th><th scope=col>Q9Y2S2</th><th scope=col>Q9Y2Z0</th><th scope=col>Q9Y446</th><th scope=col>Q9Y490</th><th scope=col>Q9Y4L1</th><th scope=col>Q9Y5Y7</th><th scope=col>Q9Y6R7</th><th scope=col>Q9Y6U3</th><th scope=col>Group</th></tr>\n",
       "\t<tr><th></th><th scope=col>&lt;chr&gt;</th><th scope=col>&lt;dbl&gt;</th><th scope=col>&lt;dbl&gt;</th><th scope=col>&lt;dbl&gt;</th><th scope=col>&lt;dbl&gt;</th><th scope=col>&lt;dbl&gt;</th><th scope=col>&lt;dbl&gt;</th><th scope=col>&lt;dbl&gt;</th><th scope=col>&lt;dbl&gt;</th><th scope=col>&lt;dbl&gt;</th><th scope=col>⋯</th><th scope=col>&lt;dbl&gt;</th><th scope=col>&lt;dbl&gt;</th><th scope=col>&lt;dbl&gt;</th><th scope=col>&lt;dbl&gt;</th><th scope=col>&lt;dbl&gt;</th><th scope=col>&lt;dbl&gt;</th><th scope=col>&lt;dbl&gt;</th><th scope=col>&lt;dbl&gt;</th><th scope=col>&lt;dbl&gt;</th><th scope=col>&lt;chr&gt;</th></tr>\n",
       "</thead>\n",
       "<tbody>\n",
       "\t<tr><th scope=row>1</th><td>RHD01_1  </td><td>18.72726</td><td>13.32757</td><td> 9.545403</td><td>10.93532</td><td>      NA</td><td> 9.693684</td><td>10.765847</td><td>13.54541</td><td>14.28571</td><td>⋯</td><td>       NA</td><td>16.33353</td><td>17.04409</td><td>13.99638</td><td>18.55010</td><td>10.78719</td><td>11.558106</td><td>      NA</td><td>16.02570</td><td>Case   </td></tr>\n",
       "\t<tr><th scope=row>2</th><td>RHD01_10 </td><td>17.09342</td><td>11.99219</td><td>11.119640</td><td>11.36314</td><td>12.65523</td><td>       NA</td><td>11.287226</td><td>13.51076</td><td>      NA</td><td>⋯</td><td>       NA</td><td>      NA</td><td>15.68102</td><td>14.41961</td><td>18.27449</td><td>11.17612</td><td>       NA</td><td>17.57590</td><td>15.99541</td><td>Control</td></tr>\n",
       "\t<tr><th scope=row>3</th><td>RHD01_100</td><td>      NA</td><td>16.99410</td><td> 9.841260</td><td>12.05345</td><td>13.49063</td><td>10.120308</td><td> 9.788836</td><td>13.07768</td><td>15.63010</td><td>⋯</td><td>       NA</td><td>16.21441</td><td>14.98246</td><td>15.27436</td><td>18.64911</td><td>11.67593</td><td> 9.798376</td><td>18.05495</td><td>15.21582</td><td>Control</td></tr>\n",
       "\t<tr><th scope=row>4</th><td>RHD01_101</td><td>      NA</td><td>11.05973</td><td>10.855083</td><td>11.52179</td><td>14.05859</td><td>10.599453</td><td>10.542719</td><td>13.98480</td><td>15.74108</td><td>⋯</td><td>10.031960</td><td>16.51174</td><td>      NA</td><td>      NA</td><td>19.14743</td><td>12.67218</td><td>10.626237</td><td>      NA</td><td>16.07679</td><td>Control</td></tr>\n",
       "\t<tr><th scope=row>5</th><td>RHD01_102</td><td>18.01907</td><td>14.42647</td><td>       NA</td><td>12.03946</td><td>13.58525</td><td>10.212223</td><td>10.447536</td><td>14.15161</td><td>15.58056</td><td>⋯</td><td> 9.875406</td><td>16.80517</td><td>      NA</td><td>15.85524</td><td>18.39157</td><td>11.65981</td><td>11.531890</td><td>19.18588</td><td>16.05441</td><td>Control</td></tr>\n",
       "\t<tr><th scope=row>6</th><td>RHD01_103</td><td>17.32733</td><td>14.57000</td><td>10.600376</td><td>12.43219</td><td>13.43931</td><td>10.531699</td><td>10.678076</td><td>13.50614</td><td>14.92608</td><td>⋯</td><td>10.815293</td><td>16.79194</td><td>      NA</td><td>15.80052</td><td>19.43061</td><td>11.51000</td><td>11.223427</td><td>      NA</td><td>16.29087</td><td>Control</td></tr>\n",
       "</tbody>\n",
       "</table>\n"
      ],
      "text/latex": [
       "A data.frame: 6 × 368\n",
       "\\begin{tabular}{r|lllllllllllllllllllll}\n",
       "  & StollerID & A5YKK6 & B9A064 & O00187 & O00391 & O00429 & O00533 & O14556 & O14791 & O14980 & ⋯ & Q9UQ35 & Q9Y2S2 & Q9Y2Z0 & Q9Y446 & Q9Y490 & Q9Y4L1 & Q9Y5Y7 & Q9Y6R7 & Q9Y6U3 & Group\\\\\n",
       "  & <chr> & <dbl> & <dbl> & <dbl> & <dbl> & <dbl> & <dbl> & <dbl> & <dbl> & <dbl> & ⋯ & <dbl> & <dbl> & <dbl> & <dbl> & <dbl> & <dbl> & <dbl> & <dbl> & <dbl> & <chr>\\\\\n",
       "\\hline\n",
       "\t1 & RHD01\\_1   & 18.72726 & 13.32757 &  9.545403 & 10.93532 &       NA &  9.693684 & 10.765847 & 13.54541 & 14.28571 & ⋯ &        NA & 16.33353 & 17.04409 & 13.99638 & 18.55010 & 10.78719 & 11.558106 &       NA & 16.02570 & Case   \\\\\n",
       "\t2 & RHD01\\_10  & 17.09342 & 11.99219 & 11.119640 & 11.36314 & 12.65523 &        NA & 11.287226 & 13.51076 &       NA & ⋯ &        NA &       NA & 15.68102 & 14.41961 & 18.27449 & 11.17612 &        NA & 17.57590 & 15.99541 & Control\\\\\n",
       "\t3 & RHD01\\_100 &       NA & 16.99410 &  9.841260 & 12.05345 & 13.49063 & 10.120308 &  9.788836 & 13.07768 & 15.63010 & ⋯ &        NA & 16.21441 & 14.98246 & 15.27436 & 18.64911 & 11.67593 &  9.798376 & 18.05495 & 15.21582 & Control\\\\\n",
       "\t4 & RHD01\\_101 &       NA & 11.05973 & 10.855083 & 11.52179 & 14.05859 & 10.599453 & 10.542719 & 13.98480 & 15.74108 & ⋯ & 10.031960 & 16.51174 &       NA &       NA & 19.14743 & 12.67218 & 10.626237 &       NA & 16.07679 & Control\\\\\n",
       "\t5 & RHD01\\_102 & 18.01907 & 14.42647 &        NA & 12.03946 & 13.58525 & 10.212223 & 10.447536 & 14.15161 & 15.58056 & ⋯ &  9.875406 & 16.80517 &       NA & 15.85524 & 18.39157 & 11.65981 & 11.531890 & 19.18588 & 16.05441 & Control\\\\\n",
       "\t6 & RHD01\\_103 & 17.32733 & 14.57000 & 10.600376 & 12.43219 & 13.43931 & 10.531699 & 10.678076 & 13.50614 & 14.92608 & ⋯ & 10.815293 & 16.79194 &       NA & 15.80052 & 19.43061 & 11.51000 & 11.223427 &       NA & 16.29087 & Control\\\\\n",
       "\\end{tabular}\n"
      ],
      "text/markdown": [
       "\n",
       "A data.frame: 6 × 368\n",
       "\n",
       "| <!--/--> | StollerID &lt;chr&gt; | A5YKK6 &lt;dbl&gt; | B9A064 &lt;dbl&gt; | O00187 &lt;dbl&gt; | O00391 &lt;dbl&gt; | O00429 &lt;dbl&gt; | O00533 &lt;dbl&gt; | O14556 &lt;dbl&gt; | O14791 &lt;dbl&gt; | O14980 &lt;dbl&gt; | ⋯ ⋯ | Q9UQ35 &lt;dbl&gt; | Q9Y2S2 &lt;dbl&gt; | Q9Y2Z0 &lt;dbl&gt; | Q9Y446 &lt;dbl&gt; | Q9Y490 &lt;dbl&gt; | Q9Y4L1 &lt;dbl&gt; | Q9Y5Y7 &lt;dbl&gt; | Q9Y6R7 &lt;dbl&gt; | Q9Y6U3 &lt;dbl&gt; | Group &lt;chr&gt; |\n",
       "|---|---|---|---|---|---|---|---|---|---|---|---|---|---|---|---|---|---|---|---|---|---|\n",
       "| 1 | RHD01_1   | 18.72726 | 13.32757 |  9.545403 | 10.93532 |       NA |  9.693684 | 10.765847 | 13.54541 | 14.28571 | ⋯ |        NA | 16.33353 | 17.04409 | 13.99638 | 18.55010 | 10.78719 | 11.558106 |       NA | 16.02570 | Case    |\n",
       "| 2 | RHD01_10  | 17.09342 | 11.99219 | 11.119640 | 11.36314 | 12.65523 |        NA | 11.287226 | 13.51076 |       NA | ⋯ |        NA |       NA | 15.68102 | 14.41961 | 18.27449 | 11.17612 |        NA | 17.57590 | 15.99541 | Control |\n",
       "| 3 | RHD01_100 |       NA | 16.99410 |  9.841260 | 12.05345 | 13.49063 | 10.120308 |  9.788836 | 13.07768 | 15.63010 | ⋯ |        NA | 16.21441 | 14.98246 | 15.27436 | 18.64911 | 11.67593 |  9.798376 | 18.05495 | 15.21582 | Control |\n",
       "| 4 | RHD01_101 |       NA | 11.05973 | 10.855083 | 11.52179 | 14.05859 | 10.599453 | 10.542719 | 13.98480 | 15.74108 | ⋯ | 10.031960 | 16.51174 |       NA |       NA | 19.14743 | 12.67218 | 10.626237 |       NA | 16.07679 | Control |\n",
       "| 5 | RHD01_102 | 18.01907 | 14.42647 |        NA | 12.03946 | 13.58525 | 10.212223 | 10.447536 | 14.15161 | 15.58056 | ⋯ |  9.875406 | 16.80517 |       NA | 15.85524 | 18.39157 | 11.65981 | 11.531890 | 19.18588 | 16.05441 | Control |\n",
       "| 6 | RHD01_103 | 17.32733 | 14.57000 | 10.600376 | 12.43219 | 13.43931 | 10.531699 | 10.678076 | 13.50614 | 14.92608 | ⋯ | 10.815293 | 16.79194 |       NA | 15.80052 | 19.43061 | 11.51000 | 11.223427 |       NA | 16.29087 | Control |\n",
       "\n"
      ],
      "text/plain": [
       "  StollerID A5YKK6   B9A064   O00187    O00391   O00429   O00533    O14556   \n",
       "1 RHD01_1   18.72726 13.32757  9.545403 10.93532       NA  9.693684 10.765847\n",
       "2 RHD01_10  17.09342 11.99219 11.119640 11.36314 12.65523        NA 11.287226\n",
       "3 RHD01_100       NA 16.99410  9.841260 12.05345 13.49063 10.120308  9.788836\n",
       "4 RHD01_101       NA 11.05973 10.855083 11.52179 14.05859 10.599453 10.542719\n",
       "5 RHD01_102 18.01907 14.42647        NA 12.03946 13.58525 10.212223 10.447536\n",
       "6 RHD01_103 17.32733 14.57000 10.600376 12.43219 13.43931 10.531699 10.678076\n",
       "  O14791   O14980   ⋯ Q9UQ35    Q9Y2S2   Q9Y2Z0   Q9Y446   Q9Y490   Q9Y4L1  \n",
       "1 13.54541 14.28571 ⋯        NA 16.33353 17.04409 13.99638 18.55010 10.78719\n",
       "2 13.51076       NA ⋯        NA       NA 15.68102 14.41961 18.27449 11.17612\n",
       "3 13.07768 15.63010 ⋯        NA 16.21441 14.98246 15.27436 18.64911 11.67593\n",
       "4 13.98480 15.74108 ⋯ 10.031960 16.51174       NA       NA 19.14743 12.67218\n",
       "5 14.15161 15.58056 ⋯  9.875406 16.80517       NA 15.85524 18.39157 11.65981\n",
       "6 13.50614 14.92608 ⋯ 10.815293 16.79194       NA 15.80052 19.43061 11.51000\n",
       "  Q9Y5Y7    Q9Y6R7   Q9Y6U3   Group  \n",
       "1 11.558106       NA 16.02570 Case   \n",
       "2        NA 17.57590 15.99541 Control\n",
       "3  9.798376 18.05495 15.21582 Control\n",
       "4 10.626237       NA 16.07679 Control\n",
       "5 11.531890 19.18588 16.05441 Control\n",
       "6 11.223427       NA 16.29087 Control"
      ]
     },
     "metadata": {},
     "output_type": "display_data"
    }
   ],
   "source": [
    "head(data)"
   ]
  },
  {
   "cell_type": "code",
   "execution_count": 6,
   "metadata": {},
   "outputs": [],
   "source": [
    "data[is.na(data)] <- 0"
   ]
  },
  {
   "cell_type": "markdown",
   "metadata": {},
   "source": [
    "### Read baseline data for all the samples"
   ]
  },
  {
   "cell_type": "code",
   "execution_count": 7,
   "metadata": {},
   "outputs": [],
   "source": [
    "\n",
    "baseline_data <- fread('Demographic_info.csv')"
   ]
  },
  {
   "cell_type": "code",
   "execution_count": 8,
   "metadata": {},
   "outputs": [
    {
     "data": {
      "text/html": [
       "<table class=\"dataframe\">\n",
       "<caption>A data.table: 6 × 5</caption>\n",
       "<thead>\n",
       "\t<tr><th scope=col>StollerID</th><th scope=col>Age</th><th scope=col>Gender</th><th scope=col>BMI</th><th scope=col>Group</th></tr>\n",
       "\t<tr><th scope=col>&lt;chr&gt;</th><th scope=col>&lt;int&gt;</th><th scope=col>&lt;chr&gt;</th><th scope=col>&lt;dbl&gt;</th><th scope=col>&lt;chr&gt;</th></tr>\n",
       "</thead>\n",
       "<tbody>\n",
       "\t<tr><td>RHD01_1  </td><td>17</td><td>Female</td><td>21.48438</td><td>Case   </td></tr>\n",
       "\t<tr><td>RHD01_10 </td><td>26</td><td>Male  </td><td>      NA</td><td>Control</td></tr>\n",
       "\t<tr><td>RHD01_100</td><td>34</td><td>Female</td><td>16.00366</td><td>Control</td></tr>\n",
       "\t<tr><td>RHD01_101</td><td>46</td><td>Female</td><td>30.11600</td><td>Control</td></tr>\n",
       "\t<tr><td>RHD01_102</td><td>28</td><td>Female</td><td>34.60208</td><td>Control</td></tr>\n",
       "\t<tr><td>RHD01_103</td><td>45</td><td>Male  </td><td>26.53376</td><td>Control</td></tr>\n",
       "</tbody>\n",
       "</table>\n"
      ],
      "text/latex": [
       "A data.table: 6 × 5\n",
       "\\begin{tabular}{lllll}\n",
       " StollerID & Age & Gender & BMI & Group\\\\\n",
       " <chr> & <int> & <chr> & <dbl> & <chr>\\\\\n",
       "\\hline\n",
       "\t RHD01\\_1   & 17 & Female & 21.48438 & Case   \\\\\n",
       "\t RHD01\\_10  & 26 & Male   &       NA & Control\\\\\n",
       "\t RHD01\\_100 & 34 & Female & 16.00366 & Control\\\\\n",
       "\t RHD01\\_101 & 46 & Female & 30.11600 & Control\\\\\n",
       "\t RHD01\\_102 & 28 & Female & 34.60208 & Control\\\\\n",
       "\t RHD01\\_103 & 45 & Male   & 26.53376 & Control\\\\\n",
       "\\end{tabular}\n"
      ],
      "text/markdown": [
       "\n",
       "A data.table: 6 × 5\n",
       "\n",
       "| StollerID &lt;chr&gt; | Age &lt;int&gt; | Gender &lt;chr&gt; | BMI &lt;dbl&gt; | Group &lt;chr&gt; |\n",
       "|---|---|---|---|---|\n",
       "| RHD01_1   | 17 | Female | 21.48438 | Case    |\n",
       "| RHD01_10  | 26 | Male   |       NA | Control |\n",
       "| RHD01_100 | 34 | Female | 16.00366 | Control |\n",
       "| RHD01_101 | 46 | Female | 30.11600 | Control |\n",
       "| RHD01_102 | 28 | Female | 34.60208 | Control |\n",
       "| RHD01_103 | 45 | Male   | 26.53376 | Control |\n",
       "\n"
      ],
      "text/plain": [
       "  StollerID Age Gender BMI      Group  \n",
       "1 RHD01_1   17  Female 21.48438 Case   \n",
       "2 RHD01_10  26  Male         NA Control\n",
       "3 RHD01_100 34  Female 16.00366 Control\n",
       "4 RHD01_101 46  Female 30.11600 Control\n",
       "5 RHD01_102 28  Female 34.60208 Control\n",
       "6 RHD01_103 45  Male   26.53376 Control"
      ]
     },
     "metadata": {},
     "output_type": "display_data"
    }
   ],
   "source": [
    "head(baseline_data)"
   ]
  },
  {
   "cell_type": "markdown",
   "metadata": {},
   "source": [
    "### Proteins selected from Boruta algorithm are imported directly"
   ]
  },
  {
   "cell_type": "code",
   "execution_count": 9,
   "metadata": {},
   "outputs": [],
   "source": [
    "load(file='Boruta_results_2108.RData')\n",
    "result_allsample <- attStats(Boruta.allsample) %>% filter(decision %in% 'Confirmed') %>% mutate(UniProtID=rownames(.)) %>% arrange(desc(medianImp))\n",
    "proteins_confirmed <- result_allsample$UniProtID"
   ]
  },
  {
   "cell_type": "markdown",
   "metadata": {},
   "source": [
    "### Start calculate ROC for each protein"
   ]
  },
  {
   "cell_type": "code",
   "execution_count": 10,
   "metadata": {
    "scrolled": false
   },
   "outputs": [
    {
     "name": "stderr",
     "output_type": "stream",
     "text": [
      "Joining, by = c(\"StollerID\", \"Group\")\n",
      "\n",
      "Waiting for profiling to be done...\n",
      "\n"
     ]
    },
    {
     "name": "stdout",
     "output_type": "stream",
     "text": [
      "[1] \"Q15848\"\n",
      "[1] 0.8197523\n"
     ]
    },
    {
     "name": "stderr",
     "output_type": "stream",
     "text": [
      "Joining, by = c(\"StollerID\", \"Group\")\n",
      "\n",
      "Waiting for profiling to be done...\n",
      "\n"
     ]
    },
    {
     "name": "stdout",
     "output_type": "stream",
     "text": [
      "[1] \"P10643\"\n",
      "[1] 0.8154505\n"
     ]
    },
    {
     "name": "stderr",
     "output_type": "stream",
     "text": [
      "Joining, by = c(\"StollerID\", \"Group\")\n",
      "\n",
      "Waiting for profiling to be done...\n",
      "\n"
     ]
    },
    {
     "name": "stdout",
     "output_type": "stream",
     "text": [
      "[1] \"O00391\"\n",
      "[1] 0.7735135\n"
     ]
    },
    {
     "name": "stderr",
     "output_type": "stream",
     "text": [
      "Joining, by = c(\"StollerID\", \"Group\")\n",
      "\n",
      "Waiting for profiling to be done...\n",
      "\n"
     ]
    },
    {
     "name": "stdout",
     "output_type": "stream",
     "text": [
      "[1] \"P35858\"\n",
      "[1] 0.798536\n"
     ]
    },
    {
     "name": "stderr",
     "output_type": "stream",
     "text": [
      "Joining, by = c(\"StollerID\", \"Group\")\n",
      "\n",
      "Waiting for profiling to be done...\n",
      "\n"
     ]
    },
    {
     "name": "stdout",
     "output_type": "stream",
     "text": [
      "[1] \"P20742\"\n",
      "[1] 0.7942568\n"
     ]
    },
    {
     "name": "stderr",
     "output_type": "stream",
     "text": [
      "Joining, by = c(\"StollerID\", \"Group\")\n",
      "\n",
      "Waiting for profiling to be done...\n",
      "\n"
     ]
    },
    {
     "name": "stdout",
     "output_type": "stream",
     "text": [
      "[1] \"P80108\"\n",
      "[1] 0.7990315\n"
     ]
    },
    {
     "name": "stderr",
     "output_type": "stream",
     "text": [
      "Joining, by = c(\"StollerID\", \"Group\")\n",
      "\n",
      "Waiting for profiling to be done...\n",
      "\n"
     ]
    },
    {
     "name": "stdout",
     "output_type": "stream",
     "text": [
      "[1] \"P23142\"\n",
      "[1] 0.7922072\n"
     ]
    },
    {
     "name": "stderr",
     "output_type": "stream",
     "text": [
      "Joining, by = c(\"StollerID\", \"Group\")\n",
      "\n",
      "Waiting for profiling to be done...\n",
      "\n"
     ]
    },
    {
     "name": "stdout",
     "output_type": "stream",
     "text": [
      "[1] \"P25311\"\n",
      "[1] 0.7942342\n"
     ]
    },
    {
     "name": "stderr",
     "output_type": "stream",
     "text": [
      "Joining, by = c(\"StollerID\", \"Group\")\n",
      "\n",
      "Waiting for profiling to be done...\n",
      "\n"
     ]
    },
    {
     "name": "stdout",
     "output_type": "stream",
     "text": [
      "[1] \"P36955\"\n",
      "[1] 0.784527\n"
     ]
    },
    {
     "name": "stderr",
     "output_type": "stream",
     "text": [
      "Joining, by = c(\"StollerID\", \"Group\")\n",
      "\n",
      "Waiting for profiling to be done...\n",
      "\n"
     ]
    },
    {
     "name": "stdout",
     "output_type": "stream",
     "text": [
      "[1] \"P06396\"\n",
      "[1] 0.7868243\n"
     ]
    },
    {
     "name": "stderr",
     "output_type": "stream",
     "text": [
      "Joining, by = c(\"StollerID\", \"Group\")\n",
      "\n",
      "Waiting for profiling to be done...\n",
      "\n"
     ]
    },
    {
     "name": "stdout",
     "output_type": "stream",
     "text": [
      "[1] \"P00450\"\n",
      "[1] 0.7811261\n"
     ]
    },
    {
     "name": "stderr",
     "output_type": "stream",
     "text": [
      "Joining, by = c(\"StollerID\", \"Group\")\n",
      "\n",
      "Waiting for profiling to be done...\n",
      "\n"
     ]
    },
    {
     "name": "stdout",
     "output_type": "stream",
     "text": [
      "[1] \"Q99784\"\n",
      "[1] 0.7699099\n"
     ]
    },
    {
     "name": "stderr",
     "output_type": "stream",
     "text": [
      "Joining, by = c(\"StollerID\", \"Group\")\n",
      "\n",
      "Waiting for profiling to be done...\n",
      "\n"
     ]
    },
    {
     "name": "stdout",
     "output_type": "stream",
     "text": [
      "[1] \"P02743\"\n",
      "[1] 0.7951577\n"
     ]
    },
    {
     "name": "stderr",
     "output_type": "stream",
     "text": [
      "Joining, by = c(\"StollerID\", \"Group\")\n",
      "\n",
      "Waiting for profiling to be done...\n",
      "\n"
     ]
    },
    {
     "name": "stdout",
     "output_type": "stream",
     "text": [
      "[1] \"P02749\"\n",
      "[1] 0.7840766\n"
     ]
    },
    {
     "name": "stderr",
     "output_type": "stream",
     "text": [
      "Joining, by = c(\"StollerID\", \"Group\")\n",
      "\n",
      "Waiting for profiling to be done...\n",
      "\n"
     ]
    },
    {
     "name": "stdout",
     "output_type": "stream",
     "text": [
      "[1] \"P19320\"\n",
      "[1] 0.772759\n"
     ]
    },
    {
     "name": "stderr",
     "output_type": "stream",
     "text": [
      "Joining, by = c(\"StollerID\", \"Group\")\n",
      "\n",
      "Waiting for profiling to be done...\n",
      "\n"
     ]
    },
    {
     "name": "stdout",
     "output_type": "stream",
     "text": [
      "[1] \"P61626\"\n",
      "[1] 0.7709234\n"
     ]
    },
    {
     "name": "stderr",
     "output_type": "stream",
     "text": [
      "Joining, by = c(\"StollerID\", \"Group\")\n",
      "\n",
      "Waiting for profiling to be done...\n",
      "\n"
     ]
    },
    {
     "name": "stdout",
     "output_type": "stream",
     "text": [
      "[1] \"O75636\"\n",
      "[1] 0.8106532\n"
     ]
    },
    {
     "name": "stderr",
     "output_type": "stream",
     "text": [
      "Joining, by = c(\"StollerID\", \"Group\")\n",
      "\n",
      "Waiting for profiling to be done...\n",
      "\n"
     ]
    },
    {
     "name": "stdout",
     "output_type": "stream",
     "text": [
      "[1] \"P30041\"\n",
      "[1] 0.7696847\n"
     ]
    },
    {
     "name": "stderr",
     "output_type": "stream",
     "text": [
      "Joining, by = c(\"StollerID\", \"Group\")\n",
      "\n",
      "Waiting for profiling to be done...\n",
      "\n"
     ]
    },
    {
     "name": "stdout",
     "output_type": "stream",
     "text": [
      "[1] \"P05546\"\n",
      "[1] 0.7872523\n"
     ]
    },
    {
     "name": "stderr",
     "output_type": "stream",
     "text": [
      "Joining, by = c(\"StollerID\", \"Group\")\n",
      "\n",
      "Waiting for profiling to be done...\n",
      "\n"
     ]
    },
    {
     "name": "stdout",
     "output_type": "stream",
     "text": [
      "[1] \"P07333\"\n",
      "[1] 0.7610135\n"
     ]
    },
    {
     "name": "stderr",
     "output_type": "stream",
     "text": [
      "Joining, by = c(\"StollerID\", \"Group\")\n",
      "\n",
      "Waiting for profiling to be done...\n",
      "\n"
     ]
    },
    {
     "name": "stdout",
     "output_type": "stream",
     "text": [
      "[1] \"P51884\"\n",
      "[1] 0.757455\n"
     ]
    },
    {
     "name": "stderr",
     "output_type": "stream",
     "text": [
      "Joining, by = c(\"StollerID\", \"Group\")\n",
      "\n",
      "Waiting for profiling to be done...\n",
      "\n"
     ]
    },
    {
     "name": "stdout",
     "output_type": "stream",
     "text": [
      "[1] \"Q06033\"\n",
      "[1] 0.7677252\n"
     ]
    },
    {
     "name": "stderr",
     "output_type": "stream",
     "text": [
      "Joining, by = c(\"StollerID\", \"Group\")\n",
      "\n",
      "Waiting for profiling to be done...\n",
      "\n"
     ]
    },
    {
     "name": "stdout",
     "output_type": "stream",
     "text": [
      "[1] \"P07237\"\n",
      "[1] 0.7432432\n"
     ]
    },
    {
     "name": "stderr",
     "output_type": "stream",
     "text": [
      "Joining, by = c(\"StollerID\", \"Group\")\n",
      "\n",
      "Waiting for profiling to be done...\n",
      "\n"
     ]
    },
    {
     "name": "stdout",
     "output_type": "stream",
     "text": [
      "[1] \"P05090\"\n",
      "[1] 0.7784685\n"
     ]
    },
    {
     "name": "stderr",
     "output_type": "stream",
     "text": [
      "Joining, by = c(\"StollerID\", \"Group\")\n",
      "\n",
      "Waiting for profiling to be done...\n",
      "\n"
     ]
    },
    {
     "name": "stdout",
     "output_type": "stream",
     "text": [
      "[1] \"P02766\"\n",
      "[1] 0.7836712\n"
     ]
    },
    {
     "name": "stderr",
     "output_type": "stream",
     "text": [
      "Joining, by = c(\"StollerID\", \"Group\")\n",
      "\n",
      "Waiting for profiling to be done...\n",
      "\n"
     ]
    },
    {
     "name": "stdout",
     "output_type": "stream",
     "text": [
      "[1] \"P62701\"\n",
      "[1] 0.7470045\n"
     ]
    },
    {
     "name": "stderr",
     "output_type": "stream",
     "text": [
      "Joining, by = c(\"StollerID\", \"Group\")\n",
      "\n",
      "Waiting for profiling to be done...\n",
      "\n"
     ]
    },
    {
     "name": "stdout",
     "output_type": "stream",
     "text": [
      "[1] \"P02741\"\n",
      "[1] 0.7933333\n"
     ]
    },
    {
     "name": "stderr",
     "output_type": "stream",
     "text": [
      "Joining, by = c(\"StollerID\", \"Group\")\n",
      "\n",
      "Waiting for profiling to be done...\n",
      "\n"
     ]
    },
    {
     "name": "stdout",
     "output_type": "stream",
     "text": [
      "[1] \"P61769\"\n",
      "[1] 0.7612613\n"
     ]
    },
    {
     "name": "stderr",
     "output_type": "stream",
     "text": [
      "Joining, by = c(\"StollerID\", \"Group\")\n",
      "\n",
      "Waiting for profiling to be done...\n",
      "\n"
     ]
    },
    {
     "name": "stdout",
     "output_type": "stream",
     "text": [
      "[1] \"P11413\"\n",
      "[1] 0.7434685\n"
     ]
    },
    {
     "name": "stderr",
     "output_type": "stream",
     "text": [
      "Joining, by = c(\"StollerID\", \"Group\")\n",
      "\n",
      "Waiting for profiling to be done...\n",
      "\n"
     ]
    },
    {
     "name": "stdout",
     "output_type": "stream",
     "text": [
      "[1] \"Q9UK55\"\n",
      "[1] 0.7686261\n"
     ]
    },
    {
     "name": "stderr",
     "output_type": "stream",
     "text": [
      "Joining, by = c(\"StollerID\", \"Group\")\n",
      "\n",
      "Waiting for profiling to be done...\n",
      "\n"
     ]
    },
    {
     "name": "stdout",
     "output_type": "stream",
     "text": [
      "[1] \"P02790\"\n",
      "[1] 0.7933108\n"
     ]
    },
    {
     "name": "stderr",
     "output_type": "stream",
     "text": [
      "Joining, by = c(\"StollerID\", \"Group\")\n",
      "\n",
      "Waiting for profiling to be done...\n",
      "\n"
     ]
    },
    {
     "name": "stdout",
     "output_type": "stream",
     "text": [
      "[1] \"P29622\"\n",
      "[1] 0.7707207\n"
     ]
    },
    {
     "name": "stderr",
     "output_type": "stream",
     "text": [
      "Joining, by = c(\"StollerID\", \"Group\")\n",
      "\n",
      "Waiting for profiling to be done...\n",
      "\n"
     ]
    },
    {
     "name": "stdout",
     "output_type": "stream",
     "text": [
      "[1] \"Q86VB7\"\n",
      "[1] 0.7531982\n"
     ]
    },
    {
     "name": "stderr",
     "output_type": "stream",
     "text": [
      "Joining, by = c(\"StollerID\", \"Group\")\n",
      "\n",
      "Waiting for profiling to be done...\n",
      "\n"
     ]
    },
    {
     "name": "stdout",
     "output_type": "stream",
     "text": [
      "[1] \"O95445\"\n",
      "[1] 0.7512162\n"
     ]
    },
    {
     "name": "stderr",
     "output_type": "stream",
     "text": [
      "Joining, by = c(\"StollerID\", \"Group\")\n",
      "\n",
      "Waiting for profiling to be done...\n",
      "\n"
     ]
    },
    {
     "name": "stdout",
     "output_type": "stream",
     "text": [
      "[1] \"P17948\"\n",
      "[1] 0.7431306\n"
     ]
    },
    {
     "name": "stderr",
     "output_type": "stream",
     "text": [
      "Joining, by = c(\"StollerID\", \"Group\")\n",
      "\n",
      "Waiting for profiling to be done...\n",
      "\n"
     ]
    },
    {
     "name": "stdout",
     "output_type": "stream",
     "text": [
      "[1] \"Q9Y6U3\"\n",
      "[1] 0.7996396\n"
     ]
    },
    {
     "name": "stderr",
     "output_type": "stream",
     "text": [
      "Joining, by = c(\"StollerID\", \"Group\")\n",
      "\n",
      "Waiting for profiling to be done...\n",
      "\n"
     ]
    },
    {
     "name": "stdout",
     "output_type": "stream",
     "text": [
      "[1] \"P35442\"\n",
      "[1] 0.7596396\n"
     ]
    },
    {
     "name": "stderr",
     "output_type": "stream",
     "text": [
      "Joining, by = c(\"StollerID\", \"Group\")\n",
      "\n",
      "Waiting for profiling to be done...\n",
      "\n"
     ]
    },
    {
     "name": "stdout",
     "output_type": "stream",
     "text": [
      "[1] \"O75369\"\n",
      "[1] 0.756036\n"
     ]
    },
    {
     "name": "stderr",
     "output_type": "stream",
     "text": [
      "Joining, by = c(\"StollerID\", \"Group\")\n",
      "\n",
      "Waiting for profiling to be done...\n",
      "\n"
     ]
    },
    {
     "name": "stdout",
     "output_type": "stream",
     "text": [
      "[1] \"P02750\"\n",
      "[1] 0.7675225\n"
     ]
    },
    {
     "name": "stderr",
     "output_type": "stream",
     "text": [
      "Joining, by = c(\"StollerID\", \"Group\")\n",
      "\n",
      "Waiting for profiling to be done...\n",
      "\n"
     ]
    },
    {
     "name": "stdout",
     "output_type": "stream",
     "text": [
      "[1] \"O14791\"\n",
      "[1] 0.7881532\n"
     ]
    },
    {
     "name": "stderr",
     "output_type": "stream",
     "text": [
      "Joining, by = c(\"StollerID\", \"Group\")\n",
      "\n",
      "Waiting for profiling to be done...\n",
      "\n"
     ]
    },
    {
     "name": "stdout",
     "output_type": "stream",
     "text": [
      "[1] \"P06276\"\n",
      "[1] 0.7891667\n"
     ]
    },
    {
     "name": "stderr",
     "output_type": "stream",
     "text": [
      "Joining, by = c(\"StollerID\", \"Group\")\n",
      "\n",
      "Waiting for profiling to be done...\n",
      "\n"
     ]
    },
    {
     "name": "stdout",
     "output_type": "stream",
     "text": [
      "[1] \"P04424\"\n",
      "[1] 0.7428604\n"
     ]
    },
    {
     "name": "stderr",
     "output_type": "stream",
     "text": [
      "Joining, by = c(\"StollerID\", \"Group\")\n",
      "\n",
      "Waiting for profiling to be done...\n",
      "\n"
     ]
    },
    {
     "name": "stdout",
     "output_type": "stream",
     "text": [
      "[1] \"P05186\"\n",
      "[1] 0.7570045\n"
     ]
    },
    {
     "name": "stderr",
     "output_type": "stream",
     "text": [
      "Joining, by = c(\"StollerID\", \"Group\")\n",
      "\n",
      "Waiting for profiling to be done...\n",
      "\n"
     ]
    },
    {
     "name": "stdout",
     "output_type": "stream",
     "text": [
      "[1] \"P02654\"\n",
      "[1] 0.7737613\n"
     ]
    },
    {
     "name": "stderr",
     "output_type": "stream",
     "text": [
      "Joining, by = c(\"StollerID\", \"Group\")\n",
      "\n",
      "Waiting for profiling to be done...\n",
      "\n"
     ]
    },
    {
     "name": "stdout",
     "output_type": "stream",
     "text": [
      "[1] \"O43707\"\n",
      "[1] 0.7604279\n"
     ]
    },
    {
     "name": "stderr",
     "output_type": "stream",
     "text": [
      "Joining, by = c(\"StollerID\", \"Group\")\n",
      "\n",
      "Waiting for profiling to be done...\n",
      "\n"
     ]
    },
    {
     "name": "stdout",
     "output_type": "stream",
     "text": [
      "[1] \"P27169\"\n",
      "[1] 0.7902928\n"
     ]
    },
    {
     "name": "stderr",
     "output_type": "stream",
     "text": [
      "Joining, by = c(\"StollerID\", \"Group\")\n",
      "\n",
      "Waiting for profiling to be done...\n",
      "\n"
     ]
    },
    {
     "name": "stdout",
     "output_type": "stream",
     "text": [
      "[1] \"P32119\"\n",
      "[1] 0.7504279\n"
     ]
    },
    {
     "name": "stderr",
     "output_type": "stream",
     "text": [
      "Joining, by = c(\"StollerID\", \"Group\")\n",
      "\n",
      "Waiting for profiling to be done...\n",
      "\n"
     ]
    },
    {
     "name": "stdout",
     "output_type": "stream",
     "text": [
      "[1] \"P19827\"\n",
      "[1] 0.7669595\n"
     ]
    },
    {
     "name": "stderr",
     "output_type": "stream",
     "text": [
      "Joining, by = c(\"StollerID\", \"Group\")\n",
      "\n",
      "Waiting for profiling to be done...\n",
      "\n"
     ]
    },
    {
     "name": "stdout",
     "output_type": "stream",
     "text": [
      "[1] \"P03952\"\n",
      "[1] 0.7820946\n"
     ]
    },
    {
     "name": "stderr",
     "output_type": "stream",
     "text": [
      "Joining, by = c(\"StollerID\", \"Group\")\n",
      "\n",
      "Waiting for profiling to be done...\n",
      "\n"
     ]
    },
    {
     "name": "stdout",
     "output_type": "stream",
     "text": [
      "[1] \"O14980\"\n",
      "[1] 0.7526577\n"
     ]
    },
    {
     "name": "stderr",
     "output_type": "stream",
     "text": [
      "Joining, by = c(\"StollerID\", \"Group\")\n",
      "\n",
      "Waiting for profiling to be done...\n",
      "\n"
     ]
    },
    {
     "name": "stdout",
     "output_type": "stream",
     "text": [
      "[1] \"Q6UX04\"\n",
      "[1] 0.7525\n"
     ]
    },
    {
     "name": "stderr",
     "output_type": "stream",
     "text": [
      "Joining, by = c(\"StollerID\", \"Group\")\n",
      "\n",
      "Waiting for profiling to be done...\n",
      "\n"
     ]
    },
    {
     "name": "stdout",
     "output_type": "stream",
     "text": [
      "[1] \"P02656\"\n",
      "[1] 0.7643468\n"
     ]
    },
    {
     "name": "stderr",
     "output_type": "stream",
     "text": [
      "Joining, by = c(\"StollerID\", \"Group\")\n",
      "\n",
      "Waiting for profiling to be done...\n",
      "\n"
     ]
    },
    {
     "name": "stdout",
     "output_type": "stream",
     "text": [
      "[1] \"Q9H4G4\"\n",
      "[1] 0.7431982\n"
     ]
    },
    {
     "name": "stderr",
     "output_type": "stream",
     "text": [
      "Joining, by = c(\"StollerID\", \"Group\")\n",
      "\n",
      "Waiting for profiling to be done...\n",
      "\n"
     ]
    },
    {
     "name": "stdout",
     "output_type": "stream",
     "text": [
      "[1] \"P19823\"\n",
      "[1] 0.7595045\n"
     ]
    },
    {
     "name": "stderr",
     "output_type": "stream",
     "text": [
      "Joining, by = c(\"StollerID\", \"Group\")\n",
      "\n",
      "Waiting for profiling to be done...\n",
      "\n"
     ]
    },
    {
     "name": "stdout",
     "output_type": "stream",
     "text": [
      "[1] \"P22307\"\n",
      "[1] 0.7522635\n"
     ]
    },
    {
     "name": "stderr",
     "output_type": "stream",
     "text": [
      "Joining, by = c(\"StollerID\", \"Group\")\n",
      "\n",
      "Waiting for profiling to be done...\n",
      "\n"
     ]
    },
    {
     "name": "stdout",
     "output_type": "stream",
     "text": [
      "[1] \"P17936\"\n",
      "[1] 0.7629279\n"
     ]
    }
   ],
   "source": [
    "ROC_single <- data.table()\n",
    "coef_single <- data.table()\n",
    "coef_single_oddsratio <- data.table()\n",
    "ci_lower <- list()\n",
    "ci_upper <- list()\n",
    "pvalue_single <- list()\n",
    "\n",
    "for (ii in 1:length(proteins_confirmed))\n",
    "    {\n",
    "    proteins_forlogistic <- proteins_confirmed[ii]\n",
    "    tmp <- data %>% select(StollerID, any_of(proteins_forlogistic), Group)\n",
    "    tmp[is.na(tmp)] <- 0\n",
    "    joined_data <- inner_join(tmp, baseline_data) %>% select(Group, Age, BMI, Gender, any_of(proteins_forlogistic))\n",
    "    joined_data$Group <- factor(joined_data$Group, levels=c('Case','Control'))\n",
    "    levels(joined_data$Group) <- c(1,0)\n",
    "    joined_data_clean <- joined_data[complete.cases(joined_data),] %>% mutate(BMIAge = BMI * Age)\n",
    "    #joined_data1_clean$BMIAge <- joined_data1_clean$BMI * joined_data_clean$Age\n",
    "\n",
    "    mf1 <- glm(Group~., data=joined_data_clean, family=binomial, na.action = na.pass)\n",
    "\n",
    "    coef_single <- rbind(coef_single, (tidy(mf1) %>% filter(term %in% proteins_forlogistic)))\n",
    "    #print(coef_single)\n",
    "    tmp_oddsratio <- as.data.frame(exp(cbind(coef(mf1), confint(mf1)))) %>% filter(rownames(.) %in% proteins_forlogistic)\n",
    "    coef_single_oddsratio <- rbind(coef_single_oddsratio, tmp_oddsratio)\n",
    "    ROC_single <- rbind(ROC_single, Cstat(mf1)) \n",
    "    print(proteins_forlogistic)\n",
    "    print(Cstat(mf1))\n",
    "}"
   ]
  },
  {
   "cell_type": "code",
   "execution_count": 11,
   "metadata": {},
   "outputs": [],
   "source": [
    "coef_single_oddsratio$UniProtID <- proteins_confirmed\n",
    "coef_single_oddsratio$Pvalue <- coef_single$p.value"
   ]
  },
  {
   "cell_type": "code",
   "execution_count": 12,
   "metadata": {},
   "outputs": [],
   "source": [
    "coef_single_oddsratio$AUC <- ROC_single$x"
   ]
  },
  {
   "cell_type": "code",
   "execution_count": 13,
   "metadata": {},
   "outputs": [
    {
     "data": {
      "text/html": [
       "<table class=\"dataframe\">\n",
       "<caption>A data.table: 6 × 6</caption>\n",
       "<thead>\n",
       "\t<tr><th scope=col>V1</th><th scope=col>2.5 %</th><th scope=col>97.5 %</th><th scope=col>UniProtID</th><th scope=col>Pvalue</th><th scope=col>AUC</th></tr>\n",
       "\t<tr><th scope=col>&lt;dbl&gt;</th><th scope=col>&lt;dbl&gt;</th><th scope=col>&lt;dbl&gt;</th><th scope=col>&lt;chr&gt;</th><th scope=col>&lt;dbl&gt;</th><th scope=col>&lt;dbl&gt;</th></tr>\n",
       "</thead>\n",
       "<tbody>\n",
       "\t<tr><td>0.8461151</td><td>0.8067519</td><td>0.8856642</td><td>Q15848</td><td>2.001505e-12</td><td>0.8197523</td></tr>\n",
       "\t<tr><td>0.2944265</td><td>0.2027579</td><td>0.4154781</td><td>P10643</td><td>2.136884e-11</td><td>0.8154505</td></tr>\n",
       "\t<tr><td>0.7877939</td><td>0.6794266</td><td>0.8925359</td><td>O00391</td><td>5.582735e-04</td><td>0.7735135</td></tr>\n",
       "\t<tr><td>2.9622095</td><td>2.1008975</td><td>4.2843974</td><td>P35858</td><td>2.161213e-09</td><td>0.7985360</td></tr>\n",
       "\t<tr><td>0.4435953</td><td>0.3333353</td><td>0.5796929</td><td>P20742</td><td>7.978237e-09</td><td>0.7942568</td></tr>\n",
       "\t<tr><td>2.5051532</td><td>1.8687163</td><td>3.4329480</td><td>P80108</td><td>2.938326e-09</td><td>0.7990315</td></tr>\n",
       "</tbody>\n",
       "</table>\n"
      ],
      "text/latex": [
       "A data.table: 6 × 6\n",
       "\\begin{tabular}{llllll}\n",
       " V1 & 2.5 \\% & 97.5 \\% & UniProtID & Pvalue & AUC\\\\\n",
       " <dbl> & <dbl> & <dbl> & <chr> & <dbl> & <dbl>\\\\\n",
       "\\hline\n",
       "\t 0.8461151 & 0.8067519 & 0.8856642 & Q15848 & 2.001505e-12 & 0.8197523\\\\\n",
       "\t 0.2944265 & 0.2027579 & 0.4154781 & P10643 & 2.136884e-11 & 0.8154505\\\\\n",
       "\t 0.7877939 & 0.6794266 & 0.8925359 & O00391 & 5.582735e-04 & 0.7735135\\\\\n",
       "\t 2.9622095 & 2.1008975 & 4.2843974 & P35858 & 2.161213e-09 & 0.7985360\\\\\n",
       "\t 0.4435953 & 0.3333353 & 0.5796929 & P20742 & 7.978237e-09 & 0.7942568\\\\\n",
       "\t 2.5051532 & 1.8687163 & 3.4329480 & P80108 & 2.938326e-09 & 0.7990315\\\\\n",
       "\\end{tabular}\n"
      ],
      "text/markdown": [
       "\n",
       "A data.table: 6 × 6\n",
       "\n",
       "| V1 &lt;dbl&gt; | 2.5 % &lt;dbl&gt; | 97.5 % &lt;dbl&gt; | UniProtID &lt;chr&gt; | Pvalue &lt;dbl&gt; | AUC &lt;dbl&gt; |\n",
       "|---|---|---|---|---|---|\n",
       "| 0.8461151 | 0.8067519 | 0.8856642 | Q15848 | 2.001505e-12 | 0.8197523 |\n",
       "| 0.2944265 | 0.2027579 | 0.4154781 | P10643 | 2.136884e-11 | 0.8154505 |\n",
       "| 0.7877939 | 0.6794266 | 0.8925359 | O00391 | 5.582735e-04 | 0.7735135 |\n",
       "| 2.9622095 | 2.1008975 | 4.2843974 | P35858 | 2.161213e-09 | 0.7985360 |\n",
       "| 0.4435953 | 0.3333353 | 0.5796929 | P20742 | 7.978237e-09 | 0.7942568 |\n",
       "| 2.5051532 | 1.8687163 | 3.4329480 | P80108 | 2.938326e-09 | 0.7990315 |\n",
       "\n"
      ],
      "text/plain": [
       "  V1        2.5 %     97.5 %    UniProtID Pvalue       AUC      \n",
       "1 0.8461151 0.8067519 0.8856642 Q15848    2.001505e-12 0.8197523\n",
       "2 0.2944265 0.2027579 0.4154781 P10643    2.136884e-11 0.8154505\n",
       "3 0.7877939 0.6794266 0.8925359 O00391    5.582735e-04 0.7735135\n",
       "4 2.9622095 2.1008975 4.2843974 P35858    2.161213e-09 0.7985360\n",
       "5 0.4435953 0.3333353 0.5796929 P20742    7.978237e-09 0.7942568\n",
       "6 2.5051532 1.8687163 3.4329480 P80108    2.938326e-09 0.7990315"
      ]
     },
     "metadata": {},
     "output_type": "display_data"
    }
   ],
   "source": [
    "head(coef_single_oddsratio)"
   ]
  },
  {
   "cell_type": "markdown",
   "metadata": {},
   "source": [
    "### Generate Table 2 illustated in the paper"
   ]
  },
  {
   "cell_type": "code",
   "execution_count": 14,
   "metadata": {
    "scrolled": true
   },
   "outputs": [
    {
     "name": "stderr",
     "output_type": "stream",
     "text": [
      "Joining, by = \"UniProtID\"\n",
      "\n",
      "Joining, by = \"UniProtID\"\n",
      "\n"
     ]
    }
   ],
   "source": [
    "names(coef_single_oddsratio)[1] <- c('OddsRatio')\n",
    "ROC_single <- left_join(left_join(coef_single_oddsratio, foldchange_data %>% select(-c(p_value, t_value))), result_allsample %>% \n",
    "                        select(UniProtID, meanImp)) %>% select(UniProtID, ProteinName, mean_Case, mean_Control, log2foldchange, meanImp, \n",
    "                                                             OddsRatio, everything()) %>% mutate_if(is.numeric, format, digits=4)"
   ]
  },
  {
   "cell_type": "code",
   "execution_count": 15,
   "metadata": {},
   "outputs": [
    {
     "data": {
      "text/html": [
       "<table class=\"dataframe\">\n",
       "<caption>A data.table: 56 × 11</caption>\n",
       "<thead>\n",
       "\t<tr><th scope=col>UniProtID</th><th scope=col>ProteinName</th><th scope=col>mean_Case</th><th scope=col>mean_Control</th><th scope=col>log2foldchange</th><th scope=col>meanImp</th><th scope=col>OddsRatio</th><th scope=col>2.5 %</th><th scope=col>97.5 %</th><th scope=col>Pvalue</th><th scope=col>AUC</th></tr>\n",
       "\t<tr><th scope=col>&lt;chr&gt;</th><th scope=col>&lt;fct&gt;</th><th scope=col>&lt;chr&gt;</th><th scope=col>&lt;chr&gt;</th><th scope=col>&lt;chr&gt;</th><th scope=col>&lt;chr&gt;</th><th scope=col>&lt;chr&gt;</th><th scope=col>&lt;chr&gt;</th><th scope=col>&lt;chr&gt;</th><th scope=col>&lt;chr&gt;</th><th scope=col>&lt;chr&gt;</th></tr>\n",
       "</thead>\n",
       "<tbody>\n",
       "\t<tr><td>Q15848</td><td>ADIPOQ   </td><td>11.21</td><td>10.08</td><td> 1.1363</td><td>13.666</td><td>0.8461</td><td>0.8068</td><td>0.8857</td><td>2.002e-12</td><td>0.8198</td></tr>\n",
       "\t<tr><td>P10643</td><td>C7       </td><td>16.72</td><td>16.00</td><td> 0.7202</td><td>11.759</td><td>0.2944</td><td>0.2028</td><td>0.4155</td><td>2.137e-11</td><td>0.8155</td></tr>\n",
       "\t<tr><td>O00391</td><td>QSOX1    </td><td>12.49</td><td>11.96</td><td> 0.5213</td><td> 9.947</td><td>0.7878</td><td>0.6794</td><td>0.8925</td><td>5.583e-04</td><td>0.7735</td></tr>\n",
       "\t<tr><td>P35858</td><td>IGFALS   </td><td>15.40</td><td>15.99</td><td>-0.5951</td><td> 9.204</td><td>2.9622</td><td>2.1009</td><td>4.2844</td><td>2.161e-09</td><td>0.7985</td></tr>\n",
       "\t<tr><td>P20742</td><td>PZP      </td><td>16.64</td><td>15.79</td><td> 0.8456</td><td> 8.950</td><td>0.4436</td><td>0.3333</td><td>0.5797</td><td>7.978e-09</td><td>0.7943</td></tr>\n",
       "\t<tr><td>P80108</td><td>GPLD1    </td><td>12.63</td><td>13.30</td><td>-0.6684</td><td> 8.455</td><td>2.5052</td><td>1.8687</td><td>3.4329</td><td>2.938e-09</td><td>0.7990</td></tr>\n",
       "\t<tr><td>P23142</td><td>FBLN1    </td><td>13.86</td><td>13.31</td><td> 0.5494</td><td> 7.487</td><td>0.5105</td><td>0.3736</td><td>0.6851</td><td>1.437e-05</td><td>0.7922</td></tr>\n",
       "\t<tr><td>P25311</td><td>AZGP1    </td><td>16.57</td><td>17.07</td><td>-0.4948</td><td> 6.999</td><td>2.8800</td><td>2.0394</td><td>4.1554</td><td>5.299e-09</td><td>0.7942</td></tr>\n",
       "\t<tr><td>P36955</td><td>SERPINF1 </td><td>15.19</td><td>15.66</td><td>-0.4727</td><td> 6.663</td><td>3.0565</td><td>2.0614</td><td>4.6352</td><td>6.074e-08</td><td>0.7845</td></tr>\n",
       "\t<tr><td>P06396</td><td>GSN      </td><td>16.92</td><td>17.49</td><td>-0.5705</td><td> 6.626</td><td>2.5553</td><td>1.8528</td><td>3.5995</td><td>2.859e-08</td><td>0.7868</td></tr>\n",
       "\t<tr><td>P00450</td><td>CP       </td><td>20.34</td><td>19.91</td><td> 0.4381</td><td> 6.385</td><td>0.4265</td><td>0.2982</td><td>0.5978</td><td>1.491e-06</td><td>0.7811</td></tr>\n",
       "\t<tr><td>Q99784</td><td>OLFM1    </td><td>10.93</td><td>10.53</td><td> 0.4033</td><td> 6.062</td><td>0.9167</td><td>0.8785</td><td>0.9558</td><td>5.163e-05</td><td>0.7699</td></tr>\n",
       "\t<tr><td>P02743</td><td>APCS     </td><td>16.32</td><td>16.92</td><td>-0.6005</td><td> 6.040</td><td>2.7727</td><td>2.0154</td><td>3.8952</td><td>1.190e-09</td><td>0.7952</td></tr>\n",
       "\t<tr><td>P02749</td><td>APOH     </td><td>18.54</td><td>18.98</td><td>-0.4402</td><td> 5.939</td><td>2.6467</td><td>1.8476</td><td>3.8679</td><td>2.284e-07</td><td>0.7841</td></tr>\n",
       "\t<tr><td>P19320</td><td>VCAM1    </td><td>10.77</td><td>10.19</td><td> 0.5816</td><td> 5.950</td><td>0.9156</td><td>0.8774</td><td>0.9547</td><td>4.173e-05</td><td>0.7728</td></tr>\n",
       "\t<tr><td>P61626</td><td>LYZ      </td><td>12.45</td><td>12.00</td><td> 0.4561</td><td> 5.785</td><td>0.9148</td><td>0.8725</td><td>0.9570</td><td>1.504e-04</td><td>0.7709</td></tr>\n",
       "\t<tr><td>O75636</td><td>FCN3     </td><td>14.02</td><td>14.82</td><td>-0.8054</td><td> 5.599</td><td>1.6620</td><td>1.3220</td><td>2.1186</td><td>2.647e-05</td><td>0.8107</td></tr>\n",
       "\t<tr><td>P30041</td><td>PRDX6    </td><td>14.82</td><td>14.44</td><td> 0.3743</td><td> 5.443</td><td>0.7106</td><td>0.5015</td><td>0.8757</td><td>1.933e-02</td><td>0.7697</td></tr>\n",
       "\t<tr><td>P05546</td><td>SERPIND1 </td><td>18.07</td><td>18.52</td><td>-0.4486</td><td> 5.311</td><td>2.4854</td><td>1.8070</td><td>3.4855</td><td>5.199e-08</td><td>0.7873</td></tr>\n",
       "\t<tr><td>P07333</td><td>CSF1R    </td><td>11.08</td><td>10.59</td><td> 0.4941</td><td> 5.264</td><td>0.9287</td><td>0.8837</td><td>0.9745</td><td>2.995e-03</td><td>0.7610</td></tr>\n",
       "\t<tr><td>P51884</td><td>LUM      </td><td>17.03</td><td>16.78</td><td> 0.2523</td><td> 5.151</td><td>0.6576</td><td>0.4813</td><td>0.8910</td><td>7.476e-03</td><td>0.7575</td></tr>\n",
       "\t<tr><td>Q06033</td><td>ITIH3    </td><td>15.51</td><td>15.16</td><td> 0.3498</td><td> 5.082</td><td>0.5788</td><td>0.4192</td><td>0.7900</td><td>6.972e-04</td><td>0.7677</td></tr>\n",
       "\t<tr><td>P07237</td><td>P4HB     </td><td>16.41</td><td>15.69</td><td> 0.7207</td><td> 5.079</td><td>0.9789</td><td>0.9497</td><td>1.0085</td><td>1.626e-01</td><td>0.7432</td></tr>\n",
       "\t<tr><td>P05090</td><td>APOD     </td><td>17.00</td><td>17.48</td><td>-0.4848</td><td> 4.898</td><td>2.0422</td><td>1.5249</td><td>2.7764</td><td>2.842e-06</td><td>0.7785</td></tr>\n",
       "\t<tr><td>P02766</td><td>TTR      </td><td>17.61</td><td>18.21</td><td>-0.6003</td><td> 4.728</td><td>2.0337</td><td>1.5708</td><td>2.6781</td><td>1.732e-07</td><td>0.7837</td></tr>\n",
       "\t<tr><td>P62701</td><td>RPS4X    </td><td>12.94</td><td>13.36</td><td>-0.4149</td><td> 4.609</td><td>1.0449</td><td>0.9845</td><td>1.1114</td><td>1.527e-01</td><td>0.7470</td></tr>\n",
       "\t<tr><td>P02741</td><td>CRP      </td><td>13.94</td><td>12.77</td><td> 1.1683</td><td> 4.271</td><td>0.8860</td><td>0.8421</td><td>0.9290</td><td>1.246e-06</td><td>0.7933</td></tr>\n",
       "\t<tr><td>P61769</td><td>B2M      </td><td>12.01</td><td>11.53</td><td> 0.4826</td><td> 4.246</td><td>0.9456</td><td>0.9047</td><td>0.9871</td><td>1.167e-02</td><td>0.7613</td></tr>\n",
       "\t<tr><td>P11413</td><td>G6PD     </td><td>18.30</td><td>17.83</td><td> 0.4724</td><td> 4.255</td><td>0.9866</td><td>0.9392</td><td>1.0349</td><td>5.831e-01</td><td>0.7435</td></tr>\n",
       "\t<tr><td>Q9UK55</td><td>SERPINA10</td><td>12.92</td><td>13.13</td><td>-0.2150</td><td> 4.133</td><td>1.5808</td><td>1.1158</td><td>2.3938</td><td>2.604e-02</td><td>0.7686</td></tr>\n",
       "\t<tr><td>P02790</td><td>HPX      </td><td>21.43</td><td>21.87</td><td>-0.4349</td><td> 4.073</td><td>3.2744</td><td>2.2044</td><td>4.9992</td><td>1.296e-08</td><td>0.7933</td></tr>\n",
       "\t<tr><td>P29622</td><td>SERPINA4 </td><td>15.16</td><td>15.55</td><td>-0.3891</td><td> 4.078</td><td>2.3003</td><td>1.6235</td><td>3.3173</td><td>4.649e-06</td><td>0.7707</td></tr>\n",
       "\t<tr><td>Q86VB7</td><td>CD163    </td><td>11.00</td><td>10.66</td><td> 0.3378</td><td> 3.965</td><td>0.9414</td><td>0.8995</td><td>0.9843</td><td>8.434e-03</td><td>0.7532</td></tr>\n",
       "\t<tr><td>O95445</td><td>APOM     </td><td>16.09</td><td>16.54</td><td>-0.4542</td><td> 3.921</td><td>1.0798</td><td>1.0025</td><td>1.1713</td><td>4.797e-02</td><td>0.7512</td></tr>\n",
       "\t<tr><td>P17948</td><td>FLT1     </td><td>13.21</td><td>13.51</td><td>-0.2962</td><td> 3.912</td><td>1.0079</td><td>0.9763</td><td>1.0406</td><td>6.264e-01</td><td>0.7431</td></tr>\n",
       "\t<tr><td>Q9Y6U3</td><td>SCIN     </td><td>15.26</td><td>15.83</td><td>-0.5705</td><td> 3.797</td><td>2.8881</td><td>2.0971</td><td>4.0641</td><td>3.019e-10</td><td>0.7996</td></tr>\n",
       "\t<tr><td>P35442</td><td>THBS2    </td><td>12.24</td><td>11.83</td><td> 0.4151</td><td> 3.633</td><td>0.9470</td><td>0.9134</td><td>0.9813</td><td>2.831e-03</td><td>0.7596</td></tr>\n",
       "\t<tr><td>O75369</td><td>FLNB     </td><td>18.95</td><td>18.23</td><td> 0.7154</td><td> 3.643</td><td>0.9709</td><td>0.9466</td><td>0.9954</td><td>2.120e-02</td><td>0.7560</td></tr>\n",
       "\t<tr><td>P02750</td><td>LRG1     </td><td>17.10</td><td>16.72</td><td> 0.3863</td><td> 3.386</td><td>0.6154</td><td>0.4711</td><td>0.7956</td><td>2.722e-04</td><td>0.7675</td></tr>\n",
       "\t<tr><td>O14791</td><td>APOL1    </td><td>13.31</td><td>13.73</td><td>-0.4197</td><td> 3.356</td><td>2.1887</td><td>1.6267</td><td>2.9872</td><td>4.132e-07</td><td>0.7882</td></tr>\n",
       "\t<tr><td>P06276</td><td>BCHE     </td><td>13.58</td><td>14.07</td><td>-0.4832</td><td> 3.347</td><td>1.9854</td><td>1.4360</td><td>2.7984</td><td>5.443e-05</td><td>0.7892</td></tr>\n",
       "\t<tr><td>P04424</td><td>ASL      </td><td>16.30</td><td>15.70</td><td> 0.6043</td><td> 3.311</td><td>1.0080</td><td>0.9813</td><td>1.0355</td><td>5.616e-01</td><td>0.7429</td></tr>\n",
       "\t<tr><td>P05186</td><td>ALPL     </td><td>13.55</td><td>13.83</td><td>-0.2715</td><td> 3.248</td><td>1.0623</td><td>1.0233</td><td>1.1039</td><td>1.735e-03</td><td>0.7570</td></tr>\n",
       "\t<tr><td>P02654</td><td>APOC1    </td><td>15.45</td><td>15.95</td><td>-0.4968</td><td> 3.262</td><td>1.6950</td><td>1.3229</td><td>2.2002</td><td>4.599e-05</td><td>0.7738</td></tr>\n",
       "\t<tr><td>O43707</td><td>ACTN4    </td><td>18.53</td><td>18.14</td><td> 0.3950</td><td> 3.245</td><td>0.9366</td><td>0.9004</td><td>0.9718</td><td>7.181e-04</td><td>0.7604</td></tr>\n",
       "\t<tr><td>P27169</td><td>PON1     </td><td>16.08</td><td>16.63</td><td>-0.5496</td><td> 3.218</td><td>1.8395</td><td>1.3848</td><td>2.4832</td><td>4.186e-05</td><td>0.7903</td></tr>\n",
       "\t<tr><td>P32119</td><td>PRDX2    </td><td>12.60</td><td>12.75</td><td>-0.1434</td><td> 3.144</td><td>1.0540</td><td>1.0055</td><td>1.1063</td><td>3.030e-02</td><td>0.7504</td></tr>\n",
       "\t<tr><td>P19827</td><td>ITIH1    </td><td>18.66</td><td>19.01</td><td>-0.3440</td><td> 3.156</td><td>2.2466</td><td>1.5707</td><td>3.2743</td><td>1.494e-05</td><td>0.7670</td></tr>\n",
       "\t<tr><td>P03952</td><td>KLKB1    </td><td>15.75</td><td>16.10</td><td>-0.3544</td><td> 3.073</td><td>2.3044</td><td>1.6145</td><td>3.3540</td><td>7.243e-06</td><td>0.7821</td></tr>\n",
       "\t<tr><td>O14980</td><td>XPO1     </td><td>15.74</td><td>15.31</td><td> 0.4281</td><td> 3.090</td><td>0.9524</td><td>0.9030</td><td>1.0009</td><td>6.132e-02</td><td>0.7527</td></tr>\n",
       "\t<tr><td>Q6UX04</td><td>CWC27    </td><td>14.37</td><td>14.74</td><td>-0.3770</td><td> 3.045</td><td>1.0376</td><td>1.0076</td><td>1.0690</td><td>1.436e-02</td><td>0.7525</td></tr>\n",
       "\t<tr><td>P02656</td><td>APOC3    </td><td>15.32</td><td>15.93</td><td>-0.6058</td><td> 2.956</td><td>1.4095</td><td>1.1630</td><td>1.7216</td><td>5.835e-04</td><td>0.7643</td></tr>\n",
       "\t<tr><td>Q9H4G4</td><td>GLIPR2   </td><td>12.70</td><td>12.28</td><td> 0.4187</td><td> 2.931</td><td>0.9929</td><td>0.9559</td><td>1.0312</td><td>7.130e-01</td><td>0.7432</td></tr>\n",
       "\t<tr><td>P19823</td><td>ITIH2    </td><td>19.26</td><td>19.54</td><td>-0.2782</td><td> 2.924</td><td>1.8654</td><td>1.3238</td><td>2.6716</td><td>4.830e-04</td><td>0.7595</td></tr>\n",
       "\t<tr><td>P22307</td><td>SCP2     </td><td>14.59</td><td>14.09</td><td> 0.5018</td><td> 2.890</td><td>0.9657</td><td>0.9347</td><td>0.9971</td><td>3.363e-02</td><td>0.7523</td></tr>\n",
       "\t<tr><td>P17936</td><td>IGFBP3   </td><td>13.75</td><td>14.11</td><td>-0.3552</td><td> 2.882</td><td>1.9065</td><td>1.3692</td><td>2.6983</td><td>1.942e-04</td><td>0.7629</td></tr>\n",
       "</tbody>\n",
       "</table>\n"
      ],
      "text/latex": [
       "A data.table: 56 × 11\n",
       "\\begin{tabular}{lllllllllll}\n",
       " UniProtID & ProteinName & mean\\_Case & mean\\_Control & log2foldchange & meanImp & OddsRatio & 2.5 \\% & 97.5 \\% & Pvalue & AUC\\\\\n",
       " <chr> & <fct> & <chr> & <chr> & <chr> & <chr> & <chr> & <chr> & <chr> & <chr> & <chr>\\\\\n",
       "\\hline\n",
       "\t Q15848 & ADIPOQ    & 11.21 & 10.08 &  1.1363 & 13.666 & 0.8461 & 0.8068 & 0.8857 & 2.002e-12 & 0.8198\\\\\n",
       "\t P10643 & C7        & 16.72 & 16.00 &  0.7202 & 11.759 & 0.2944 & 0.2028 & 0.4155 & 2.137e-11 & 0.8155\\\\\n",
       "\t O00391 & QSOX1     & 12.49 & 11.96 &  0.5213 &  9.947 & 0.7878 & 0.6794 & 0.8925 & 5.583e-04 & 0.7735\\\\\n",
       "\t P35858 & IGFALS    & 15.40 & 15.99 & -0.5951 &  9.204 & 2.9622 & 2.1009 & 4.2844 & 2.161e-09 & 0.7985\\\\\n",
       "\t P20742 & PZP       & 16.64 & 15.79 &  0.8456 &  8.950 & 0.4436 & 0.3333 & 0.5797 & 7.978e-09 & 0.7943\\\\\n",
       "\t P80108 & GPLD1     & 12.63 & 13.30 & -0.6684 &  8.455 & 2.5052 & 1.8687 & 3.4329 & 2.938e-09 & 0.7990\\\\\n",
       "\t P23142 & FBLN1     & 13.86 & 13.31 &  0.5494 &  7.487 & 0.5105 & 0.3736 & 0.6851 & 1.437e-05 & 0.7922\\\\\n",
       "\t P25311 & AZGP1     & 16.57 & 17.07 & -0.4948 &  6.999 & 2.8800 & 2.0394 & 4.1554 & 5.299e-09 & 0.7942\\\\\n",
       "\t P36955 & SERPINF1  & 15.19 & 15.66 & -0.4727 &  6.663 & 3.0565 & 2.0614 & 4.6352 & 6.074e-08 & 0.7845\\\\\n",
       "\t P06396 & GSN       & 16.92 & 17.49 & -0.5705 &  6.626 & 2.5553 & 1.8528 & 3.5995 & 2.859e-08 & 0.7868\\\\\n",
       "\t P00450 & CP        & 20.34 & 19.91 &  0.4381 &  6.385 & 0.4265 & 0.2982 & 0.5978 & 1.491e-06 & 0.7811\\\\\n",
       "\t Q99784 & OLFM1     & 10.93 & 10.53 &  0.4033 &  6.062 & 0.9167 & 0.8785 & 0.9558 & 5.163e-05 & 0.7699\\\\\n",
       "\t P02743 & APCS      & 16.32 & 16.92 & -0.6005 &  6.040 & 2.7727 & 2.0154 & 3.8952 & 1.190e-09 & 0.7952\\\\\n",
       "\t P02749 & APOH      & 18.54 & 18.98 & -0.4402 &  5.939 & 2.6467 & 1.8476 & 3.8679 & 2.284e-07 & 0.7841\\\\\n",
       "\t P19320 & VCAM1     & 10.77 & 10.19 &  0.5816 &  5.950 & 0.9156 & 0.8774 & 0.9547 & 4.173e-05 & 0.7728\\\\\n",
       "\t P61626 & LYZ       & 12.45 & 12.00 &  0.4561 &  5.785 & 0.9148 & 0.8725 & 0.9570 & 1.504e-04 & 0.7709\\\\\n",
       "\t O75636 & FCN3      & 14.02 & 14.82 & -0.8054 &  5.599 & 1.6620 & 1.3220 & 2.1186 & 2.647e-05 & 0.8107\\\\\n",
       "\t P30041 & PRDX6     & 14.82 & 14.44 &  0.3743 &  5.443 & 0.7106 & 0.5015 & 0.8757 & 1.933e-02 & 0.7697\\\\\n",
       "\t P05546 & SERPIND1  & 18.07 & 18.52 & -0.4486 &  5.311 & 2.4854 & 1.8070 & 3.4855 & 5.199e-08 & 0.7873\\\\\n",
       "\t P07333 & CSF1R     & 11.08 & 10.59 &  0.4941 &  5.264 & 0.9287 & 0.8837 & 0.9745 & 2.995e-03 & 0.7610\\\\\n",
       "\t P51884 & LUM       & 17.03 & 16.78 &  0.2523 &  5.151 & 0.6576 & 0.4813 & 0.8910 & 7.476e-03 & 0.7575\\\\\n",
       "\t Q06033 & ITIH3     & 15.51 & 15.16 &  0.3498 &  5.082 & 0.5788 & 0.4192 & 0.7900 & 6.972e-04 & 0.7677\\\\\n",
       "\t P07237 & P4HB      & 16.41 & 15.69 &  0.7207 &  5.079 & 0.9789 & 0.9497 & 1.0085 & 1.626e-01 & 0.7432\\\\\n",
       "\t P05090 & APOD      & 17.00 & 17.48 & -0.4848 &  4.898 & 2.0422 & 1.5249 & 2.7764 & 2.842e-06 & 0.7785\\\\\n",
       "\t P02766 & TTR       & 17.61 & 18.21 & -0.6003 &  4.728 & 2.0337 & 1.5708 & 2.6781 & 1.732e-07 & 0.7837\\\\\n",
       "\t P62701 & RPS4X     & 12.94 & 13.36 & -0.4149 &  4.609 & 1.0449 & 0.9845 & 1.1114 & 1.527e-01 & 0.7470\\\\\n",
       "\t P02741 & CRP       & 13.94 & 12.77 &  1.1683 &  4.271 & 0.8860 & 0.8421 & 0.9290 & 1.246e-06 & 0.7933\\\\\n",
       "\t P61769 & B2M       & 12.01 & 11.53 &  0.4826 &  4.246 & 0.9456 & 0.9047 & 0.9871 & 1.167e-02 & 0.7613\\\\\n",
       "\t P11413 & G6PD      & 18.30 & 17.83 &  0.4724 &  4.255 & 0.9866 & 0.9392 & 1.0349 & 5.831e-01 & 0.7435\\\\\n",
       "\t Q9UK55 & SERPINA10 & 12.92 & 13.13 & -0.2150 &  4.133 & 1.5808 & 1.1158 & 2.3938 & 2.604e-02 & 0.7686\\\\\n",
       "\t P02790 & HPX       & 21.43 & 21.87 & -0.4349 &  4.073 & 3.2744 & 2.2044 & 4.9992 & 1.296e-08 & 0.7933\\\\\n",
       "\t P29622 & SERPINA4  & 15.16 & 15.55 & -0.3891 &  4.078 & 2.3003 & 1.6235 & 3.3173 & 4.649e-06 & 0.7707\\\\\n",
       "\t Q86VB7 & CD163     & 11.00 & 10.66 &  0.3378 &  3.965 & 0.9414 & 0.8995 & 0.9843 & 8.434e-03 & 0.7532\\\\\n",
       "\t O95445 & APOM      & 16.09 & 16.54 & -0.4542 &  3.921 & 1.0798 & 1.0025 & 1.1713 & 4.797e-02 & 0.7512\\\\\n",
       "\t P17948 & FLT1      & 13.21 & 13.51 & -0.2962 &  3.912 & 1.0079 & 0.9763 & 1.0406 & 6.264e-01 & 0.7431\\\\\n",
       "\t Q9Y6U3 & SCIN      & 15.26 & 15.83 & -0.5705 &  3.797 & 2.8881 & 2.0971 & 4.0641 & 3.019e-10 & 0.7996\\\\\n",
       "\t P35442 & THBS2     & 12.24 & 11.83 &  0.4151 &  3.633 & 0.9470 & 0.9134 & 0.9813 & 2.831e-03 & 0.7596\\\\\n",
       "\t O75369 & FLNB      & 18.95 & 18.23 &  0.7154 &  3.643 & 0.9709 & 0.9466 & 0.9954 & 2.120e-02 & 0.7560\\\\\n",
       "\t P02750 & LRG1      & 17.10 & 16.72 &  0.3863 &  3.386 & 0.6154 & 0.4711 & 0.7956 & 2.722e-04 & 0.7675\\\\\n",
       "\t O14791 & APOL1     & 13.31 & 13.73 & -0.4197 &  3.356 & 2.1887 & 1.6267 & 2.9872 & 4.132e-07 & 0.7882\\\\\n",
       "\t P06276 & BCHE      & 13.58 & 14.07 & -0.4832 &  3.347 & 1.9854 & 1.4360 & 2.7984 & 5.443e-05 & 0.7892\\\\\n",
       "\t P04424 & ASL       & 16.30 & 15.70 &  0.6043 &  3.311 & 1.0080 & 0.9813 & 1.0355 & 5.616e-01 & 0.7429\\\\\n",
       "\t P05186 & ALPL      & 13.55 & 13.83 & -0.2715 &  3.248 & 1.0623 & 1.0233 & 1.1039 & 1.735e-03 & 0.7570\\\\\n",
       "\t P02654 & APOC1     & 15.45 & 15.95 & -0.4968 &  3.262 & 1.6950 & 1.3229 & 2.2002 & 4.599e-05 & 0.7738\\\\\n",
       "\t O43707 & ACTN4     & 18.53 & 18.14 &  0.3950 &  3.245 & 0.9366 & 0.9004 & 0.9718 & 7.181e-04 & 0.7604\\\\\n",
       "\t P27169 & PON1      & 16.08 & 16.63 & -0.5496 &  3.218 & 1.8395 & 1.3848 & 2.4832 & 4.186e-05 & 0.7903\\\\\n",
       "\t P32119 & PRDX2     & 12.60 & 12.75 & -0.1434 &  3.144 & 1.0540 & 1.0055 & 1.1063 & 3.030e-02 & 0.7504\\\\\n",
       "\t P19827 & ITIH1     & 18.66 & 19.01 & -0.3440 &  3.156 & 2.2466 & 1.5707 & 3.2743 & 1.494e-05 & 0.7670\\\\\n",
       "\t P03952 & KLKB1     & 15.75 & 16.10 & -0.3544 &  3.073 & 2.3044 & 1.6145 & 3.3540 & 7.243e-06 & 0.7821\\\\\n",
       "\t O14980 & XPO1      & 15.74 & 15.31 &  0.4281 &  3.090 & 0.9524 & 0.9030 & 1.0009 & 6.132e-02 & 0.7527\\\\\n",
       "\t Q6UX04 & CWC27     & 14.37 & 14.74 & -0.3770 &  3.045 & 1.0376 & 1.0076 & 1.0690 & 1.436e-02 & 0.7525\\\\\n",
       "\t P02656 & APOC3     & 15.32 & 15.93 & -0.6058 &  2.956 & 1.4095 & 1.1630 & 1.7216 & 5.835e-04 & 0.7643\\\\\n",
       "\t Q9H4G4 & GLIPR2    & 12.70 & 12.28 &  0.4187 &  2.931 & 0.9929 & 0.9559 & 1.0312 & 7.130e-01 & 0.7432\\\\\n",
       "\t P19823 & ITIH2     & 19.26 & 19.54 & -0.2782 &  2.924 & 1.8654 & 1.3238 & 2.6716 & 4.830e-04 & 0.7595\\\\\n",
       "\t P22307 & SCP2      & 14.59 & 14.09 &  0.5018 &  2.890 & 0.9657 & 0.9347 & 0.9971 & 3.363e-02 & 0.7523\\\\\n",
       "\t P17936 & IGFBP3    & 13.75 & 14.11 & -0.3552 &  2.882 & 1.9065 & 1.3692 & 2.6983 & 1.942e-04 & 0.7629\\\\\n",
       "\\end{tabular}\n"
      ],
      "text/markdown": [
       "\n",
       "A data.table: 56 × 11\n",
       "\n",
       "| UniProtID &lt;chr&gt; | ProteinName &lt;fct&gt; | mean_Case &lt;chr&gt; | mean_Control &lt;chr&gt; | log2foldchange &lt;chr&gt; | meanImp &lt;chr&gt; | OddsRatio &lt;chr&gt; | 2.5 % &lt;chr&gt; | 97.5 % &lt;chr&gt; | Pvalue &lt;chr&gt; | AUC &lt;chr&gt; |\n",
       "|---|---|---|---|---|---|---|---|---|---|---|\n",
       "| Q15848 | ADIPOQ    | 11.21 | 10.08 |  1.1363 | 13.666 | 0.8461 | 0.8068 | 0.8857 | 2.002e-12 | 0.8198 |\n",
       "| P10643 | C7        | 16.72 | 16.00 |  0.7202 | 11.759 | 0.2944 | 0.2028 | 0.4155 | 2.137e-11 | 0.8155 |\n",
       "| O00391 | QSOX1     | 12.49 | 11.96 |  0.5213 |  9.947 | 0.7878 | 0.6794 | 0.8925 | 5.583e-04 | 0.7735 |\n",
       "| P35858 | IGFALS    | 15.40 | 15.99 | -0.5951 |  9.204 | 2.9622 | 2.1009 | 4.2844 | 2.161e-09 | 0.7985 |\n",
       "| P20742 | PZP       | 16.64 | 15.79 |  0.8456 |  8.950 | 0.4436 | 0.3333 | 0.5797 | 7.978e-09 | 0.7943 |\n",
       "| P80108 | GPLD1     | 12.63 | 13.30 | -0.6684 |  8.455 | 2.5052 | 1.8687 | 3.4329 | 2.938e-09 | 0.7990 |\n",
       "| P23142 | FBLN1     | 13.86 | 13.31 |  0.5494 |  7.487 | 0.5105 | 0.3736 | 0.6851 | 1.437e-05 | 0.7922 |\n",
       "| P25311 | AZGP1     | 16.57 | 17.07 | -0.4948 |  6.999 | 2.8800 | 2.0394 | 4.1554 | 5.299e-09 | 0.7942 |\n",
       "| P36955 | SERPINF1  | 15.19 | 15.66 | -0.4727 |  6.663 | 3.0565 | 2.0614 | 4.6352 | 6.074e-08 | 0.7845 |\n",
       "| P06396 | GSN       | 16.92 | 17.49 | -0.5705 |  6.626 | 2.5553 | 1.8528 | 3.5995 | 2.859e-08 | 0.7868 |\n",
       "| P00450 | CP        | 20.34 | 19.91 |  0.4381 |  6.385 | 0.4265 | 0.2982 | 0.5978 | 1.491e-06 | 0.7811 |\n",
       "| Q99784 | OLFM1     | 10.93 | 10.53 |  0.4033 |  6.062 | 0.9167 | 0.8785 | 0.9558 | 5.163e-05 | 0.7699 |\n",
       "| P02743 | APCS      | 16.32 | 16.92 | -0.6005 |  6.040 | 2.7727 | 2.0154 | 3.8952 | 1.190e-09 | 0.7952 |\n",
       "| P02749 | APOH      | 18.54 | 18.98 | -0.4402 |  5.939 | 2.6467 | 1.8476 | 3.8679 | 2.284e-07 | 0.7841 |\n",
       "| P19320 | VCAM1     | 10.77 | 10.19 |  0.5816 |  5.950 | 0.9156 | 0.8774 | 0.9547 | 4.173e-05 | 0.7728 |\n",
       "| P61626 | LYZ       | 12.45 | 12.00 |  0.4561 |  5.785 | 0.9148 | 0.8725 | 0.9570 | 1.504e-04 | 0.7709 |\n",
       "| O75636 | FCN3      | 14.02 | 14.82 | -0.8054 |  5.599 | 1.6620 | 1.3220 | 2.1186 | 2.647e-05 | 0.8107 |\n",
       "| P30041 | PRDX6     | 14.82 | 14.44 |  0.3743 |  5.443 | 0.7106 | 0.5015 | 0.8757 | 1.933e-02 | 0.7697 |\n",
       "| P05546 | SERPIND1  | 18.07 | 18.52 | -0.4486 |  5.311 | 2.4854 | 1.8070 | 3.4855 | 5.199e-08 | 0.7873 |\n",
       "| P07333 | CSF1R     | 11.08 | 10.59 |  0.4941 |  5.264 | 0.9287 | 0.8837 | 0.9745 | 2.995e-03 | 0.7610 |\n",
       "| P51884 | LUM       | 17.03 | 16.78 |  0.2523 |  5.151 | 0.6576 | 0.4813 | 0.8910 | 7.476e-03 | 0.7575 |\n",
       "| Q06033 | ITIH3     | 15.51 | 15.16 |  0.3498 |  5.082 | 0.5788 | 0.4192 | 0.7900 | 6.972e-04 | 0.7677 |\n",
       "| P07237 | P4HB      | 16.41 | 15.69 |  0.7207 |  5.079 | 0.9789 | 0.9497 | 1.0085 | 1.626e-01 | 0.7432 |\n",
       "| P05090 | APOD      | 17.00 | 17.48 | -0.4848 |  4.898 | 2.0422 | 1.5249 | 2.7764 | 2.842e-06 | 0.7785 |\n",
       "| P02766 | TTR       | 17.61 | 18.21 | -0.6003 |  4.728 | 2.0337 | 1.5708 | 2.6781 | 1.732e-07 | 0.7837 |\n",
       "| P62701 | RPS4X     | 12.94 | 13.36 | -0.4149 |  4.609 | 1.0449 | 0.9845 | 1.1114 | 1.527e-01 | 0.7470 |\n",
       "| P02741 | CRP       | 13.94 | 12.77 |  1.1683 |  4.271 | 0.8860 | 0.8421 | 0.9290 | 1.246e-06 | 0.7933 |\n",
       "| P61769 | B2M       | 12.01 | 11.53 |  0.4826 |  4.246 | 0.9456 | 0.9047 | 0.9871 | 1.167e-02 | 0.7613 |\n",
       "| P11413 | G6PD      | 18.30 | 17.83 |  0.4724 |  4.255 | 0.9866 | 0.9392 | 1.0349 | 5.831e-01 | 0.7435 |\n",
       "| Q9UK55 | SERPINA10 | 12.92 | 13.13 | -0.2150 |  4.133 | 1.5808 | 1.1158 | 2.3938 | 2.604e-02 | 0.7686 |\n",
       "| P02790 | HPX       | 21.43 | 21.87 | -0.4349 |  4.073 | 3.2744 | 2.2044 | 4.9992 | 1.296e-08 | 0.7933 |\n",
       "| P29622 | SERPINA4  | 15.16 | 15.55 | -0.3891 |  4.078 | 2.3003 | 1.6235 | 3.3173 | 4.649e-06 | 0.7707 |\n",
       "| Q86VB7 | CD163     | 11.00 | 10.66 |  0.3378 |  3.965 | 0.9414 | 0.8995 | 0.9843 | 8.434e-03 | 0.7532 |\n",
       "| O95445 | APOM      | 16.09 | 16.54 | -0.4542 |  3.921 | 1.0798 | 1.0025 | 1.1713 | 4.797e-02 | 0.7512 |\n",
       "| P17948 | FLT1      | 13.21 | 13.51 | -0.2962 |  3.912 | 1.0079 | 0.9763 | 1.0406 | 6.264e-01 | 0.7431 |\n",
       "| Q9Y6U3 | SCIN      | 15.26 | 15.83 | -0.5705 |  3.797 | 2.8881 | 2.0971 | 4.0641 | 3.019e-10 | 0.7996 |\n",
       "| P35442 | THBS2     | 12.24 | 11.83 |  0.4151 |  3.633 | 0.9470 | 0.9134 | 0.9813 | 2.831e-03 | 0.7596 |\n",
       "| O75369 | FLNB      | 18.95 | 18.23 |  0.7154 |  3.643 | 0.9709 | 0.9466 | 0.9954 | 2.120e-02 | 0.7560 |\n",
       "| P02750 | LRG1      | 17.10 | 16.72 |  0.3863 |  3.386 | 0.6154 | 0.4711 | 0.7956 | 2.722e-04 | 0.7675 |\n",
       "| O14791 | APOL1     | 13.31 | 13.73 | -0.4197 |  3.356 | 2.1887 | 1.6267 | 2.9872 | 4.132e-07 | 0.7882 |\n",
       "| P06276 | BCHE      | 13.58 | 14.07 | -0.4832 |  3.347 | 1.9854 | 1.4360 | 2.7984 | 5.443e-05 | 0.7892 |\n",
       "| P04424 | ASL       | 16.30 | 15.70 |  0.6043 |  3.311 | 1.0080 | 0.9813 | 1.0355 | 5.616e-01 | 0.7429 |\n",
       "| P05186 | ALPL      | 13.55 | 13.83 | -0.2715 |  3.248 | 1.0623 | 1.0233 | 1.1039 | 1.735e-03 | 0.7570 |\n",
       "| P02654 | APOC1     | 15.45 | 15.95 | -0.4968 |  3.262 | 1.6950 | 1.3229 | 2.2002 | 4.599e-05 | 0.7738 |\n",
       "| O43707 | ACTN4     | 18.53 | 18.14 |  0.3950 |  3.245 | 0.9366 | 0.9004 | 0.9718 | 7.181e-04 | 0.7604 |\n",
       "| P27169 | PON1      | 16.08 | 16.63 | -0.5496 |  3.218 | 1.8395 | 1.3848 | 2.4832 | 4.186e-05 | 0.7903 |\n",
       "| P32119 | PRDX2     | 12.60 | 12.75 | -0.1434 |  3.144 | 1.0540 | 1.0055 | 1.1063 | 3.030e-02 | 0.7504 |\n",
       "| P19827 | ITIH1     | 18.66 | 19.01 | -0.3440 |  3.156 | 2.2466 | 1.5707 | 3.2743 | 1.494e-05 | 0.7670 |\n",
       "| P03952 | KLKB1     | 15.75 | 16.10 | -0.3544 |  3.073 | 2.3044 | 1.6145 | 3.3540 | 7.243e-06 | 0.7821 |\n",
       "| O14980 | XPO1      | 15.74 | 15.31 |  0.4281 |  3.090 | 0.9524 | 0.9030 | 1.0009 | 6.132e-02 | 0.7527 |\n",
       "| Q6UX04 | CWC27     | 14.37 | 14.74 | -0.3770 |  3.045 | 1.0376 | 1.0076 | 1.0690 | 1.436e-02 | 0.7525 |\n",
       "| P02656 | APOC3     | 15.32 | 15.93 | -0.6058 |  2.956 | 1.4095 | 1.1630 | 1.7216 | 5.835e-04 | 0.7643 |\n",
       "| Q9H4G4 | GLIPR2    | 12.70 | 12.28 |  0.4187 |  2.931 | 0.9929 | 0.9559 | 1.0312 | 7.130e-01 | 0.7432 |\n",
       "| P19823 | ITIH2     | 19.26 | 19.54 | -0.2782 |  2.924 | 1.8654 | 1.3238 | 2.6716 | 4.830e-04 | 0.7595 |\n",
       "| P22307 | SCP2      | 14.59 | 14.09 |  0.5018 |  2.890 | 0.9657 | 0.9347 | 0.9971 | 3.363e-02 | 0.7523 |\n",
       "| P17936 | IGFBP3    | 13.75 | 14.11 | -0.3552 |  2.882 | 1.9065 | 1.3692 | 2.6983 | 1.942e-04 | 0.7629 |\n",
       "\n"
      ],
      "text/plain": [
       "   UniProtID ProteinName mean_Case mean_Control log2foldchange meanImp\n",
       "1  Q15848    ADIPOQ      11.21     10.08         1.1363        13.666 \n",
       "2  P10643    C7          16.72     16.00         0.7202        11.759 \n",
       "3  O00391    QSOX1       12.49     11.96         0.5213         9.947 \n",
       "4  P35858    IGFALS      15.40     15.99        -0.5951         9.204 \n",
       "5  P20742    PZP         16.64     15.79         0.8456         8.950 \n",
       "6  P80108    GPLD1       12.63     13.30        -0.6684         8.455 \n",
       "7  P23142    FBLN1       13.86     13.31         0.5494         7.487 \n",
       "8  P25311    AZGP1       16.57     17.07        -0.4948         6.999 \n",
       "9  P36955    SERPINF1    15.19     15.66        -0.4727         6.663 \n",
       "10 P06396    GSN         16.92     17.49        -0.5705         6.626 \n",
       "11 P00450    CP          20.34     19.91         0.4381         6.385 \n",
       "12 Q99784    OLFM1       10.93     10.53         0.4033         6.062 \n",
       "13 P02743    APCS        16.32     16.92        -0.6005         6.040 \n",
       "14 P02749    APOH        18.54     18.98        -0.4402         5.939 \n",
       "15 P19320    VCAM1       10.77     10.19         0.5816         5.950 \n",
       "16 P61626    LYZ         12.45     12.00         0.4561         5.785 \n",
       "17 O75636    FCN3        14.02     14.82        -0.8054         5.599 \n",
       "18 P30041    PRDX6       14.82     14.44         0.3743         5.443 \n",
       "19 P05546    SERPIND1    18.07     18.52        -0.4486         5.311 \n",
       "20 P07333    CSF1R       11.08     10.59         0.4941         5.264 \n",
       "21 P51884    LUM         17.03     16.78         0.2523         5.151 \n",
       "22 Q06033    ITIH3       15.51     15.16         0.3498         5.082 \n",
       "23 P07237    P4HB        16.41     15.69         0.7207         5.079 \n",
       "24 P05090    APOD        17.00     17.48        -0.4848         4.898 \n",
       "25 P02766    TTR         17.61     18.21        -0.6003         4.728 \n",
       "26 P62701    RPS4X       12.94     13.36        -0.4149         4.609 \n",
       "27 P02741    CRP         13.94     12.77         1.1683         4.271 \n",
       "28 P61769    B2M         12.01     11.53         0.4826         4.246 \n",
       "29 P11413    G6PD        18.30     17.83         0.4724         4.255 \n",
       "30 Q9UK55    SERPINA10   12.92     13.13        -0.2150         4.133 \n",
       "31 P02790    HPX         21.43     21.87        -0.4349         4.073 \n",
       "32 P29622    SERPINA4    15.16     15.55        -0.3891         4.078 \n",
       "33 Q86VB7    CD163       11.00     10.66         0.3378         3.965 \n",
       "34 O95445    APOM        16.09     16.54        -0.4542         3.921 \n",
       "35 P17948    FLT1        13.21     13.51        -0.2962         3.912 \n",
       "36 Q9Y6U3    SCIN        15.26     15.83        -0.5705         3.797 \n",
       "37 P35442    THBS2       12.24     11.83         0.4151         3.633 \n",
       "38 O75369    FLNB        18.95     18.23         0.7154         3.643 \n",
       "39 P02750    LRG1        17.10     16.72         0.3863         3.386 \n",
       "40 O14791    APOL1       13.31     13.73        -0.4197         3.356 \n",
       "41 P06276    BCHE        13.58     14.07        -0.4832         3.347 \n",
       "42 P04424    ASL         16.30     15.70         0.6043         3.311 \n",
       "43 P05186    ALPL        13.55     13.83        -0.2715         3.248 \n",
       "44 P02654    APOC1       15.45     15.95        -0.4968         3.262 \n",
       "45 O43707    ACTN4       18.53     18.14         0.3950         3.245 \n",
       "46 P27169    PON1        16.08     16.63        -0.5496         3.218 \n",
       "47 P32119    PRDX2       12.60     12.75        -0.1434         3.144 \n",
       "48 P19827    ITIH1       18.66     19.01        -0.3440         3.156 \n",
       "49 P03952    KLKB1       15.75     16.10        -0.3544         3.073 \n",
       "50 O14980    XPO1        15.74     15.31         0.4281         3.090 \n",
       "51 Q6UX04    CWC27       14.37     14.74        -0.3770         3.045 \n",
       "52 P02656    APOC3       15.32     15.93        -0.6058         2.956 \n",
       "53 Q9H4G4    GLIPR2      12.70     12.28         0.4187         2.931 \n",
       "54 P19823    ITIH2       19.26     19.54        -0.2782         2.924 \n",
       "55 P22307    SCP2        14.59     14.09         0.5018         2.890 \n",
       "56 P17936    IGFBP3      13.75     14.11        -0.3552         2.882 \n",
       "   OddsRatio 2.5 %  97.5 % Pvalue    AUC   \n",
       "1  0.8461    0.8068 0.8857 2.002e-12 0.8198\n",
       "2  0.2944    0.2028 0.4155 2.137e-11 0.8155\n",
       "3  0.7878    0.6794 0.8925 5.583e-04 0.7735\n",
       "4  2.9622    2.1009 4.2844 2.161e-09 0.7985\n",
       "5  0.4436    0.3333 0.5797 7.978e-09 0.7943\n",
       "6  2.5052    1.8687 3.4329 2.938e-09 0.7990\n",
       "7  0.5105    0.3736 0.6851 1.437e-05 0.7922\n",
       "8  2.8800    2.0394 4.1554 5.299e-09 0.7942\n",
       "9  3.0565    2.0614 4.6352 6.074e-08 0.7845\n",
       "10 2.5553    1.8528 3.5995 2.859e-08 0.7868\n",
       "11 0.4265    0.2982 0.5978 1.491e-06 0.7811\n",
       "12 0.9167    0.8785 0.9558 5.163e-05 0.7699\n",
       "13 2.7727    2.0154 3.8952 1.190e-09 0.7952\n",
       "14 2.6467    1.8476 3.8679 2.284e-07 0.7841\n",
       "15 0.9156    0.8774 0.9547 4.173e-05 0.7728\n",
       "16 0.9148    0.8725 0.9570 1.504e-04 0.7709\n",
       "17 1.6620    1.3220 2.1186 2.647e-05 0.8107\n",
       "18 0.7106    0.5015 0.8757 1.933e-02 0.7697\n",
       "19 2.4854    1.8070 3.4855 5.199e-08 0.7873\n",
       "20 0.9287    0.8837 0.9745 2.995e-03 0.7610\n",
       "21 0.6576    0.4813 0.8910 7.476e-03 0.7575\n",
       "22 0.5788    0.4192 0.7900 6.972e-04 0.7677\n",
       "23 0.9789    0.9497 1.0085 1.626e-01 0.7432\n",
       "24 2.0422    1.5249 2.7764 2.842e-06 0.7785\n",
       "25 2.0337    1.5708 2.6781 1.732e-07 0.7837\n",
       "26 1.0449    0.9845 1.1114 1.527e-01 0.7470\n",
       "27 0.8860    0.8421 0.9290 1.246e-06 0.7933\n",
       "28 0.9456    0.9047 0.9871 1.167e-02 0.7613\n",
       "29 0.9866    0.9392 1.0349 5.831e-01 0.7435\n",
       "30 1.5808    1.1158 2.3938 2.604e-02 0.7686\n",
       "31 3.2744    2.2044 4.9992 1.296e-08 0.7933\n",
       "32 2.3003    1.6235 3.3173 4.649e-06 0.7707\n",
       "33 0.9414    0.8995 0.9843 8.434e-03 0.7532\n",
       "34 1.0798    1.0025 1.1713 4.797e-02 0.7512\n",
       "35 1.0079    0.9763 1.0406 6.264e-01 0.7431\n",
       "36 2.8881    2.0971 4.0641 3.019e-10 0.7996\n",
       "37 0.9470    0.9134 0.9813 2.831e-03 0.7596\n",
       "38 0.9709    0.9466 0.9954 2.120e-02 0.7560\n",
       "39 0.6154    0.4711 0.7956 2.722e-04 0.7675\n",
       "40 2.1887    1.6267 2.9872 4.132e-07 0.7882\n",
       "41 1.9854    1.4360 2.7984 5.443e-05 0.7892\n",
       "42 1.0080    0.9813 1.0355 5.616e-01 0.7429\n",
       "43 1.0623    1.0233 1.1039 1.735e-03 0.7570\n",
       "44 1.6950    1.3229 2.2002 4.599e-05 0.7738\n",
       "45 0.9366    0.9004 0.9718 7.181e-04 0.7604\n",
       "46 1.8395    1.3848 2.4832 4.186e-05 0.7903\n",
       "47 1.0540    1.0055 1.1063 3.030e-02 0.7504\n",
       "48 2.2466    1.5707 3.2743 1.494e-05 0.7670\n",
       "49 2.3044    1.6145 3.3540 7.243e-06 0.7821\n",
       "50 0.9524    0.9030 1.0009 6.132e-02 0.7527\n",
       "51 1.0376    1.0076 1.0690 1.436e-02 0.7525\n",
       "52 1.4095    1.1630 1.7216 5.835e-04 0.7643\n",
       "53 0.9929    0.9559 1.0312 7.130e-01 0.7432\n",
       "54 1.8654    1.3238 2.6716 4.830e-04 0.7595\n",
       "55 0.9657    0.9347 0.9971 3.363e-02 0.7523\n",
       "56 1.9065    1.3692 2.6983 1.942e-04 0.7629"
      ]
     },
     "metadata": {},
     "output_type": "display_data"
    }
   ],
   "source": [
    "ROC_single"
   ]
  },
  {
   "cell_type": "code",
   "execution_count": 16,
   "metadata": {},
   "outputs": [],
   "source": [
    "write.table(file='ROC_for_single_protein.csv',ROC_single, quote=F, row.names=F, sep=',')"
   ]
  },
  {
   "cell_type": "markdown",
   "metadata": {},
   "source": [
    "### Calculate accummulated ROC for selected proteins"
   ]
  },
  {
   "cell_type": "code",
   "execution_count": 17,
   "metadata": {},
   "outputs": [
    {
     "name": "stderr",
     "output_type": "stream",
     "text": [
      "Joining, by = c(\"StollerID\", \"Group\")\n",
      "\n"
     ]
    },
    {
     "name": "stdout",
     "output_type": "stream",
     "text": [
      "[1] \"Q15848\"\n",
      "[1] 0.8197523\n"
     ]
    },
    {
     "name": "stderr",
     "output_type": "stream",
     "text": [
      "Joining, by = c(\"StollerID\", \"Group\")\n",
      "\n"
     ]
    },
    {
     "name": "stdout",
     "output_type": "stream",
     "text": [
      "[1] \"Q15848\" \"P10643\"\n",
      "[1] 0.8357432\n"
     ]
    },
    {
     "name": "stderr",
     "output_type": "stream",
     "text": [
      "Joining, by = c(\"StollerID\", \"Group\")\n",
      "\n"
     ]
    },
    {
     "name": "stdout",
     "output_type": "stream",
     "text": [
      "[1] \"Q15848\" \"P10643\" \"O00391\"\n",
      "[1] 0.8354955\n"
     ]
    },
    {
     "name": "stderr",
     "output_type": "stream",
     "text": [
      "Joining, by = c(\"StollerID\", \"Group\")\n",
      "\n"
     ]
    },
    {
     "name": "stdout",
     "output_type": "stream",
     "text": [
      "[1] \"Q15848\" \"P10643\" \"O00391\" \"P35858\"\n",
      "[1] 0.8812838\n"
     ]
    },
    {
     "name": "stderr",
     "output_type": "stream",
     "text": [
      "Joining, by = c(\"StollerID\", \"Group\")\n",
      "\n"
     ]
    },
    {
     "name": "stdout",
     "output_type": "stream",
     "text": [
      "[1] \"Q15848\" \"P10643\" \"O00391\" \"P35858\" \"P20742\"\n",
      "[1] 0.8952252\n"
     ]
    },
    {
     "name": "stderr",
     "output_type": "stream",
     "text": [
      "Joining, by = c(\"StollerID\", \"Group\")\n",
      "\n"
     ]
    },
    {
     "name": "stdout",
     "output_type": "stream",
     "text": [
      "[1] \"Q15848\" \"P10643\" \"O00391\" \"P35858\" \"P20742\" \"P80108\"\n",
      "[1] 0.9001802\n"
     ]
    },
    {
     "name": "stderr",
     "output_type": "stream",
     "text": [
      "Joining, by = c(\"StollerID\", \"Group\")\n",
      "\n"
     ]
    },
    {
     "name": "stdout",
     "output_type": "stream",
     "text": [
      "[1] \"Q15848\" \"P10643\" \"O00391\" \"P35858\" \"P20742\" \"P80108\" \"P23142\"\n",
      "[1] 0.9131532\n"
     ]
    },
    {
     "name": "stderr",
     "output_type": "stream",
     "text": [
      "Joining, by = c(\"StollerID\", \"Group\")\n",
      "\n"
     ]
    },
    {
     "name": "stdout",
     "output_type": "stream",
     "text": [
      "[1] \"Q15848\" \"P10643\" \"O00391\" \"P35858\" \"P20742\" \"P80108\" \"P23142\" \"P25311\"\n",
      "[1] 0.9279054\n"
     ]
    },
    {
     "name": "stderr",
     "output_type": "stream",
     "text": [
      "Joining, by = c(\"StollerID\", \"Group\")\n",
      "\n"
     ]
    },
    {
     "name": "stdout",
     "output_type": "stream",
     "text": [
      "[1] \"Q15848\" \"P10643\" \"O00391\" \"P35858\" \"P20742\" \"P80108\" \"P23142\" \"P25311\"\n",
      "[9] \"P36955\"\n",
      "[1] 0.9304054\n"
     ]
    },
    {
     "name": "stderr",
     "output_type": "stream",
     "text": [
      "Joining, by = c(\"StollerID\", \"Group\")\n",
      "\n"
     ]
    },
    {
     "name": "stdout",
     "output_type": "stream",
     "text": [
      " [1] \"Q15848\" \"P10643\" \"O00391\" \"P35858\" \"P20742\" \"P80108\" \"P23142\" \"P25311\"\n",
      " [9] \"P36955\" \"P06396\"\n",
      "[1] 0.945\n"
     ]
    },
    {
     "name": "stderr",
     "output_type": "stream",
     "text": [
      "Joining, by = c(\"StollerID\", \"Group\")\n",
      "\n"
     ]
    },
    {
     "name": "stdout",
     "output_type": "stream",
     "text": [
      " [1] \"Q15848\" \"P10643\" \"O00391\" \"P35858\" \"P20742\" \"P80108\" \"P23142\" \"P25311\"\n",
      " [9] \"P36955\" \"P06396\" \"P00450\"\n",
      "[1] 0.9472072\n"
     ]
    },
    {
     "name": "stderr",
     "output_type": "stream",
     "text": [
      "Joining, by = c(\"StollerID\", \"Group\")\n",
      "\n"
     ]
    },
    {
     "name": "stdout",
     "output_type": "stream",
     "text": [
      " [1] \"Q15848\" \"P10643\" \"O00391\" \"P35858\" \"P20742\" \"P80108\" \"P23142\" \"P25311\"\n",
      " [9] \"P36955\" \"P06396\" \"P00450\" \"Q99784\"\n",
      "[1] 0.946982\n"
     ]
    },
    {
     "name": "stderr",
     "output_type": "stream",
     "text": [
      "Joining, by = c(\"StollerID\", \"Group\")\n",
      "\n"
     ]
    },
    {
     "name": "stdout",
     "output_type": "stream",
     "text": [
      " [1] \"Q15848\" \"P10643\" \"O00391\" \"P35858\" \"P20742\" \"P80108\" \"P23142\" \"P25311\"\n",
      " [9] \"P36955\" \"P06396\" \"P00450\" \"Q99784\" \"P02743\"\n",
      "[1] 0.9472297\n"
     ]
    },
    {
     "name": "stderr",
     "output_type": "stream",
     "text": [
      "Joining, by = c(\"StollerID\", \"Group\")\n",
      "\n"
     ]
    },
    {
     "name": "stdout",
     "output_type": "stream",
     "text": [
      " [1] \"Q15848\" \"P10643\" \"O00391\" \"P35858\" \"P20742\" \"P80108\" \"P23142\" \"P25311\"\n",
      " [9] \"P36955\" \"P06396\" \"P00450\" \"Q99784\" \"P02743\" \"P02749\"\n",
      "[1] 0.9468694\n"
     ]
    },
    {
     "name": "stderr",
     "output_type": "stream",
     "text": [
      "Joining, by = c(\"StollerID\", \"Group\")\n",
      "\n"
     ]
    },
    {
     "name": "stdout",
     "output_type": "stream",
     "text": [
      " [1] \"Q15848\" \"P10643\" \"O00391\" \"P35858\" \"P20742\" \"P80108\" \"P23142\" \"P25311\"\n",
      " [9] \"P36955\" \"P06396\" \"P00450\" \"Q99784\" \"P02743\" \"P02749\" \"P19320\"\n",
      "[1] 0.947027\n"
     ]
    },
    {
     "name": "stderr",
     "output_type": "stream",
     "text": [
      "Joining, by = c(\"StollerID\", \"Group\")\n",
      "\n"
     ]
    },
    {
     "name": "stdout",
     "output_type": "stream",
     "text": [
      " [1] \"Q15848\" \"P10643\" \"O00391\" \"P35858\" \"P20742\" \"P80108\" \"P23142\" \"P25311\"\n",
      " [9] \"P36955\" \"P06396\" \"P00450\" \"Q99784\" \"P02743\" \"P02749\" \"P19320\" \"P61626\"\n",
      "[1] 0.947545\n"
     ]
    },
    {
     "name": "stderr",
     "output_type": "stream",
     "text": [
      "Joining, by = c(\"StollerID\", \"Group\")\n",
      "\n"
     ]
    },
    {
     "name": "stdout",
     "output_type": "stream",
     "text": [
      " [1] \"Q15848\" \"P10643\" \"O00391\" \"P35858\" \"P20742\" \"P80108\" \"P23142\" \"P25311\"\n",
      " [9] \"P36955\" \"P06396\" \"P00450\" \"Q99784\" \"P02743\" \"P02749\" \"P19320\" \"P61626\"\n",
      "[17] \"O75636\"\n",
      "[1] 0.9477928\n"
     ]
    },
    {
     "name": "stderr",
     "output_type": "stream",
     "text": [
      "Joining, by = c(\"StollerID\", \"Group\")\n",
      "\n"
     ]
    },
    {
     "name": "stdout",
     "output_type": "stream",
     "text": [
      " [1] \"Q15848\" \"P10643\" \"O00391\" \"P35858\" \"P20742\" \"P80108\" \"P23142\" \"P25311\"\n",
      " [9] \"P36955\" \"P06396\" \"P00450\" \"Q99784\" \"P02743\" \"P02749\" \"P19320\" \"P61626\"\n",
      "[17] \"O75636\" \"P30041\"\n",
      "[1] 0.9490991\n"
     ]
    },
    {
     "name": "stderr",
     "output_type": "stream",
     "text": [
      "Joining, by = c(\"StollerID\", \"Group\")\n",
      "\n"
     ]
    },
    {
     "name": "stdout",
     "output_type": "stream",
     "text": [
      " [1] \"Q15848\" \"P10643\" \"O00391\" \"P35858\" \"P20742\" \"P80108\" \"P23142\" \"P25311\"\n",
      " [9] \"P36955\" \"P06396\" \"P00450\" \"Q99784\" \"P02743\" \"P02749\" \"P19320\" \"P61626\"\n",
      "[17] \"O75636\" \"P30041\" \"P05546\"\n",
      "[1] 0.9493694\n"
     ]
    },
    {
     "name": "stderr",
     "output_type": "stream",
     "text": [
      "Joining, by = c(\"StollerID\", \"Group\")\n",
      "\n"
     ]
    },
    {
     "name": "stdout",
     "output_type": "stream",
     "text": [
      " [1] \"Q15848\" \"P10643\" \"O00391\" \"P35858\" \"P20742\" \"P80108\" \"P23142\" \"P25311\"\n",
      " [9] \"P36955\" \"P06396\" \"P00450\" \"Q99784\" \"P02743\" \"P02749\" \"P19320\" \"P61626\"\n",
      "[17] \"O75636\" \"P30041\" \"P05546\" \"P07333\"\n",
      "[1] 0.9499099\n"
     ]
    },
    {
     "name": "stderr",
     "output_type": "stream",
     "text": [
      "Joining, by = c(\"StollerID\", \"Group\")\n",
      "\n"
     ]
    },
    {
     "name": "stdout",
     "output_type": "stream",
     "text": [
      " [1] \"Q15848\" \"P10643\" \"O00391\" \"P35858\" \"P20742\" \"P80108\" \"P23142\" \"P25311\"\n",
      " [9] \"P36955\" \"P06396\" \"P00450\" \"Q99784\" \"P02743\" \"P02749\" \"P19320\" \"P61626\"\n",
      "[17] \"O75636\" \"P30041\" \"P05546\" \"P07333\" \"P51884\"\n",
      "[1] 0.9512387\n"
     ]
    },
    {
     "name": "stderr",
     "output_type": "stream",
     "text": [
      "Joining, by = c(\"StollerID\", \"Group\")\n",
      "\n"
     ]
    },
    {
     "name": "stdout",
     "output_type": "stream",
     "text": [
      " [1] \"Q15848\" \"P10643\" \"O00391\" \"P35858\" \"P20742\" \"P80108\" \"P23142\" \"P25311\"\n",
      " [9] \"P36955\" \"P06396\" \"P00450\" \"Q99784\" \"P02743\" \"P02749\" \"P19320\" \"P61626\"\n",
      "[17] \"O75636\" \"P30041\" \"P05546\" \"P07333\" \"P51884\" \"Q06033\"\n",
      "[1] 0.9514865\n"
     ]
    },
    {
     "name": "stderr",
     "output_type": "stream",
     "text": [
      "Joining, by = c(\"StollerID\", \"Group\")\n",
      "\n"
     ]
    },
    {
     "name": "stdout",
     "output_type": "stream",
     "text": [
      " [1] \"Q15848\" \"P10643\" \"O00391\" \"P35858\" \"P20742\" \"P80108\" \"P23142\" \"P25311\"\n",
      " [9] \"P36955\" \"P06396\" \"P00450\" \"Q99784\" \"P02743\" \"P02749\" \"P19320\" \"P61626\"\n",
      "[17] \"O75636\" \"P30041\" \"P05546\" \"P07333\" \"P51884\" \"Q06033\" \"P07237\"\n",
      "[1] 0.9518243\n"
     ]
    },
    {
     "name": "stderr",
     "output_type": "stream",
     "text": [
      "Joining, by = c(\"StollerID\", \"Group\")\n",
      "\n"
     ]
    },
    {
     "name": "stdout",
     "output_type": "stream",
     "text": [
      " [1] \"Q15848\" \"P10643\" \"O00391\" \"P35858\" \"P20742\" \"P80108\" \"P23142\" \"P25311\"\n",
      " [9] \"P36955\" \"P06396\" \"P00450\" \"Q99784\" \"P02743\" \"P02749\" \"P19320\" \"P61626\"\n",
      "[17] \"O75636\" \"P30041\" \"P05546\" \"P07333\" \"P51884\" \"Q06033\" \"P07237\" \"P05090\"\n",
      "[1] 0.9523874\n"
     ]
    },
    {
     "name": "stderr",
     "output_type": "stream",
     "text": [
      "Joining, by = c(\"StollerID\", \"Group\")\n",
      "\n"
     ]
    },
    {
     "name": "stdout",
     "output_type": "stream",
     "text": [
      " [1] \"Q15848\" \"P10643\" \"O00391\" \"P35858\" \"P20742\" \"P80108\" \"P23142\" \"P25311\"\n",
      " [9] \"P36955\" \"P06396\" \"P00450\" \"Q99784\" \"P02743\" \"P02749\" \"P19320\" \"P61626\"\n",
      "[17] \"O75636\" \"P30041\" \"P05546\" \"P07333\" \"P51884\" \"Q06033\" \"P07237\" \"P05090\"\n",
      "[25] \"P02766\"\n",
      "[1] 0.9523874\n"
     ]
    },
    {
     "name": "stderr",
     "output_type": "stream",
     "text": [
      "Joining, by = c(\"StollerID\", \"Group\")\n",
      "\n"
     ]
    },
    {
     "name": "stdout",
     "output_type": "stream",
     "text": [
      " [1] \"Q15848\" \"P10643\" \"O00391\" \"P35858\" \"P20742\" \"P80108\" \"P23142\" \"P25311\"\n",
      " [9] \"P36955\" \"P06396\" \"P00450\" \"Q99784\" \"P02743\" \"P02749\" \"P19320\" \"P61626\"\n",
      "[17] \"O75636\" \"P30041\" \"P05546\" \"P07333\" \"P51884\" \"Q06033\" \"P07237\" \"P05090\"\n",
      "[25] \"P02766\" \"P62701\"\n",
      "[1] 0.952545\n"
     ]
    },
    {
     "name": "stderr",
     "output_type": "stream",
     "text": [
      "Joining, by = c(\"StollerID\", \"Group\")\n",
      "\n"
     ]
    },
    {
     "name": "stdout",
     "output_type": "stream",
     "text": [
      " [1] \"Q15848\" \"P10643\" \"O00391\" \"P35858\" \"P20742\" \"P80108\" \"P23142\" \"P25311\"\n",
      " [9] \"P36955\" \"P06396\" \"P00450\" \"Q99784\" \"P02743\" \"P02749\" \"P19320\" \"P61626\"\n",
      "[17] \"O75636\" \"P30041\" \"P05546\" \"P07333\" \"P51884\" \"Q06033\" \"P07237\" \"P05090\"\n",
      "[25] \"P02766\" \"P62701\" \"P02741\"\n",
      "[1] 0.9525225\n"
     ]
    },
    {
     "name": "stderr",
     "output_type": "stream",
     "text": [
      "Joining, by = c(\"StollerID\", \"Group\")\n",
      "\n"
     ]
    },
    {
     "name": "stdout",
     "output_type": "stream",
     "text": [
      " [1] \"Q15848\" \"P10643\" \"O00391\" \"P35858\" \"P20742\" \"P80108\" \"P23142\" \"P25311\"\n",
      " [9] \"P36955\" \"P06396\" \"P00450\" \"Q99784\" \"P02743\" \"P02749\" \"P19320\" \"P61626\"\n",
      "[17] \"O75636\" \"P30041\" \"P05546\" \"P07333\" \"P51884\" \"Q06033\" \"P07237\" \"P05090\"\n",
      "[25] \"P02766\" \"P62701\" \"P02741\" \"P61769\"\n",
      "[1] 0.9532432\n"
     ]
    },
    {
     "name": "stderr",
     "output_type": "stream",
     "text": [
      "Joining, by = c(\"StollerID\", \"Group\")\n",
      "\n"
     ]
    },
    {
     "name": "stdout",
     "output_type": "stream",
     "text": [
      " [1] \"Q15848\" \"P10643\" \"O00391\" \"P35858\" \"P20742\" \"P80108\" \"P23142\" \"P25311\"\n",
      " [9] \"P36955\" \"P06396\" \"P00450\" \"Q99784\" \"P02743\" \"P02749\" \"P19320\" \"P61626\"\n",
      "[17] \"O75636\" \"P30041\" \"P05546\" \"P07333\" \"P51884\" \"Q06033\" \"P07237\" \"P05090\"\n",
      "[25] \"P02766\" \"P62701\" \"P02741\" \"P61769\" \"P11413\"\n",
      "[1] 0.9533559\n"
     ]
    },
    {
     "name": "stderr",
     "output_type": "stream",
     "text": [
      "Joining, by = c(\"StollerID\", \"Group\")\n",
      "\n"
     ]
    },
    {
     "name": "stdout",
     "output_type": "stream",
     "text": [
      " [1] \"Q15848\" \"P10643\" \"O00391\" \"P35858\" \"P20742\" \"P80108\" \"P23142\" \"P25311\"\n",
      " [9] \"P36955\" \"P06396\" \"P00450\" \"Q99784\" \"P02743\" \"P02749\" \"P19320\" \"P61626\"\n",
      "[17] \"O75636\" \"P30041\" \"P05546\" \"P07333\" \"P51884\" \"Q06033\" \"P07237\" \"P05090\"\n",
      "[25] \"P02766\" \"P62701\" \"P02741\" \"P61769\" \"P11413\" \"Q9UK55\"\n",
      "[1] 0.9533784\n"
     ]
    },
    {
     "name": "stderr",
     "output_type": "stream",
     "text": [
      "Joining, by = c(\"StollerID\", \"Group\")\n",
      "\n"
     ]
    },
    {
     "name": "stdout",
     "output_type": "stream",
     "text": [
      " [1] \"Q15848\" \"P10643\" \"O00391\" \"P35858\" \"P20742\" \"P80108\" \"P23142\" \"P25311\"\n",
      " [9] \"P36955\" \"P06396\" \"P00450\" \"Q99784\" \"P02743\" \"P02749\" \"P19320\" \"P61626\"\n",
      "[17] \"O75636\" \"P30041\" \"P05546\" \"P07333\" \"P51884\" \"Q06033\" \"P07237\" \"P05090\"\n",
      "[25] \"P02766\" \"P62701\" \"P02741\" \"P61769\" \"P11413\" \"Q9UK55\" \"P02790\"\n",
      "[1] 0.9541667\n"
     ]
    },
    {
     "name": "stderr",
     "output_type": "stream",
     "text": [
      "Joining, by = c(\"StollerID\", \"Group\")\n",
      "\n"
     ]
    },
    {
     "name": "stdout",
     "output_type": "stream",
     "text": [
      " [1] \"Q15848\" \"P10643\" \"O00391\" \"P35858\" \"P20742\" \"P80108\" \"P23142\" \"P25311\"\n",
      " [9] \"P36955\" \"P06396\" \"P00450\" \"Q99784\" \"P02743\" \"P02749\" \"P19320\" \"P61626\"\n",
      "[17] \"O75636\" \"P30041\" \"P05546\" \"P07333\" \"P51884\" \"Q06033\" \"P07237\" \"P05090\"\n",
      "[25] \"P02766\" \"P62701\" \"P02741\" \"P61769\" \"P11413\" \"Q9UK55\" \"P02790\" \"P29622\"\n",
      "[1] 0.9541667\n"
     ]
    },
    {
     "name": "stderr",
     "output_type": "stream",
     "text": [
      "Joining, by = c(\"StollerID\", \"Group\")\n",
      "\n"
     ]
    },
    {
     "name": "stdout",
     "output_type": "stream",
     "text": [
      " [1] \"Q15848\" \"P10643\" \"O00391\" \"P35858\" \"P20742\" \"P80108\" \"P23142\" \"P25311\"\n",
      " [9] \"P36955\" \"P06396\" \"P00450\" \"Q99784\" \"P02743\" \"P02749\" \"P19320\" \"P61626\"\n",
      "[17] \"O75636\" \"P30041\" \"P05546\" \"P07333\" \"P51884\" \"Q06033\" \"P07237\" \"P05090\"\n",
      "[25] \"P02766\" \"P62701\" \"P02741\" \"P61769\" \"P11413\" \"Q9UK55\" \"P02790\" \"P29622\"\n",
      "[33] \"Q86VB7\"\n",
      "[1] 0.9540315\n"
     ]
    },
    {
     "name": "stderr",
     "output_type": "stream",
     "text": [
      "Joining, by = c(\"StollerID\", \"Group\")\n",
      "\n"
     ]
    },
    {
     "name": "stdout",
     "output_type": "stream",
     "text": [
      " [1] \"Q15848\" \"P10643\" \"O00391\" \"P35858\" \"P20742\" \"P80108\" \"P23142\" \"P25311\"\n",
      " [9] \"P36955\" \"P06396\" \"P00450\" \"Q99784\" \"P02743\" \"P02749\" \"P19320\" \"P61626\"\n",
      "[17] \"O75636\" \"P30041\" \"P05546\" \"P07333\" \"P51884\" \"Q06033\" \"P07237\" \"P05090\"\n",
      "[25] \"P02766\" \"P62701\" \"P02741\" \"P61769\" \"P11413\" \"Q9UK55\" \"P02790\" \"P29622\"\n",
      "[33] \"Q86VB7\" \"O95445\"\n",
      "[1] 0.9550901\n"
     ]
    },
    {
     "name": "stderr",
     "output_type": "stream",
     "text": [
      "Joining, by = c(\"StollerID\", \"Group\")\n",
      "\n"
     ]
    },
    {
     "name": "stdout",
     "output_type": "stream",
     "text": [
      " [1] \"Q15848\" \"P10643\" \"O00391\" \"P35858\" \"P20742\" \"P80108\" \"P23142\" \"P25311\"\n",
      " [9] \"P36955\" \"P06396\" \"P00450\" \"Q99784\" \"P02743\" \"P02749\" \"P19320\" \"P61626\"\n",
      "[17] \"O75636\" \"P30041\" \"P05546\" \"P07333\" \"P51884\" \"Q06033\" \"P07237\" \"P05090\"\n",
      "[25] \"P02766\" \"P62701\" \"P02741\" \"P61769\" \"P11413\" \"Q9UK55\" \"P02790\" \"P29622\"\n",
      "[33] \"Q86VB7\" \"O95445\" \"P17948\"\n",
      "[1] 0.955\n"
     ]
    },
    {
     "name": "stderr",
     "output_type": "stream",
     "text": [
      "Joining, by = c(\"StollerID\", \"Group\")\n",
      "\n"
     ]
    },
    {
     "name": "stdout",
     "output_type": "stream",
     "text": [
      " [1] \"Q15848\" \"P10643\" \"O00391\" \"P35858\" \"P20742\" \"P80108\" \"P23142\" \"P25311\"\n",
      " [9] \"P36955\" \"P06396\" \"P00450\" \"Q99784\" \"P02743\" \"P02749\" \"P19320\" \"P61626\"\n",
      "[17] \"O75636\" \"P30041\" \"P05546\" \"P07333\" \"P51884\" \"Q06033\" \"P07237\" \"P05090\"\n",
      "[25] \"P02766\" \"P62701\" \"P02741\" \"P61769\" \"P11413\" \"Q9UK55\" \"P02790\" \"P29622\"\n",
      "[33] \"Q86VB7\" \"O95445\" \"P17948\" \"Q9Y6U3\"\n",
      "[1] 0.9547973\n"
     ]
    },
    {
     "name": "stderr",
     "output_type": "stream",
     "text": [
      "Joining, by = c(\"StollerID\", \"Group\")\n",
      "\n"
     ]
    },
    {
     "name": "stdout",
     "output_type": "stream",
     "text": [
      " [1] \"Q15848\" \"P10643\" \"O00391\" \"P35858\" \"P20742\" \"P80108\" \"P23142\" \"P25311\"\n",
      " [9] \"P36955\" \"P06396\" \"P00450\" \"Q99784\" \"P02743\" \"P02749\" \"P19320\" \"P61626\"\n",
      "[17] \"O75636\" \"P30041\" \"P05546\" \"P07333\" \"P51884\" \"Q06033\" \"P07237\" \"P05090\"\n",
      "[25] \"P02766\" \"P62701\" \"P02741\" \"P61769\" \"P11413\" \"Q9UK55\" \"P02790\" \"P29622\"\n",
      "[33] \"Q86VB7\" \"O95445\" \"P17948\" \"Q9Y6U3\" \"P35442\"\n",
      "[1] 0.9553604\n"
     ]
    },
    {
     "name": "stderr",
     "output_type": "stream",
     "text": [
      "Joining, by = c(\"StollerID\", \"Group\")\n",
      "\n"
     ]
    },
    {
     "name": "stdout",
     "output_type": "stream",
     "text": [
      " [1] \"Q15848\" \"P10643\" \"O00391\" \"P35858\" \"P20742\" \"P80108\" \"P23142\" \"P25311\"\n",
      " [9] \"P36955\" \"P06396\" \"P00450\" \"Q99784\" \"P02743\" \"P02749\" \"P19320\" \"P61626\"\n",
      "[17] \"O75636\" \"P30041\" \"P05546\" \"P07333\" \"P51884\" \"Q06033\" \"P07237\" \"P05090\"\n",
      "[25] \"P02766\" \"P62701\" \"P02741\" \"P61769\" \"P11413\" \"Q9UK55\" \"P02790\" \"P29622\"\n",
      "[33] \"Q86VB7\" \"O95445\" \"P17948\" \"Q9Y6U3\" \"P35442\" \"O75369\"\n",
      "[1] 0.955518\n"
     ]
    },
    {
     "name": "stderr",
     "output_type": "stream",
     "text": [
      "Joining, by = c(\"StollerID\", \"Group\")\n",
      "\n"
     ]
    },
    {
     "name": "stdout",
     "output_type": "stream",
     "text": [
      " [1] \"Q15848\" \"P10643\" \"O00391\" \"P35858\" \"P20742\" \"P80108\" \"P23142\" \"P25311\"\n",
      " [9] \"P36955\" \"P06396\" \"P00450\" \"Q99784\" \"P02743\" \"P02749\" \"P19320\" \"P61626\"\n",
      "[17] \"O75636\" \"P30041\" \"P05546\" \"P07333\" \"P51884\" \"Q06033\" \"P07237\" \"P05090\"\n",
      "[25] \"P02766\" \"P62701\" \"P02741\" \"P61769\" \"P11413\" \"Q9UK55\" \"P02790\" \"P29622\"\n",
      "[33] \"Q86VB7\" \"O95445\" \"P17948\" \"Q9Y6U3\" \"P35442\" \"O75369\" \"P02750\"\n",
      "[1] 0.9553153\n"
     ]
    },
    {
     "name": "stderr",
     "output_type": "stream",
     "text": [
      "Joining, by = c(\"StollerID\", \"Group\")\n",
      "\n"
     ]
    },
    {
     "name": "stdout",
     "output_type": "stream",
     "text": [
      " [1] \"Q15848\" \"P10643\" \"O00391\" \"P35858\" \"P20742\" \"P80108\" \"P23142\" \"P25311\"\n",
      " [9] \"P36955\" \"P06396\" \"P00450\" \"Q99784\" \"P02743\" \"P02749\" \"P19320\" \"P61626\"\n",
      "[17] \"O75636\" \"P30041\" \"P05546\" \"P07333\" \"P51884\" \"Q06033\" \"P07237\" \"P05090\"\n",
      "[25] \"P02766\" \"P62701\" \"P02741\" \"P61769\" \"P11413\" \"Q9UK55\" \"P02790\" \"P29622\"\n",
      "[33] \"Q86VB7\" \"O95445\" \"P17948\" \"Q9Y6U3\" \"P35442\" \"O75369\" \"P02750\" \"O14791\"\n",
      "[1] 0.9576126\n"
     ]
    },
    {
     "name": "stderr",
     "output_type": "stream",
     "text": [
      "Joining, by = c(\"StollerID\", \"Group\")\n",
      "\n"
     ]
    },
    {
     "name": "stdout",
     "output_type": "stream",
     "text": [
      " [1] \"Q15848\" \"P10643\" \"O00391\" \"P35858\" \"P20742\" \"P80108\" \"P23142\" \"P25311\"\n",
      " [9] \"P36955\" \"P06396\" \"P00450\" \"Q99784\" \"P02743\" \"P02749\" \"P19320\" \"P61626\"\n",
      "[17] \"O75636\" \"P30041\" \"P05546\" \"P07333\" \"P51884\" \"Q06033\" \"P07237\" \"P05090\"\n",
      "[25] \"P02766\" \"P62701\" \"P02741\" \"P61769\" \"P11413\" \"Q9UK55\" \"P02790\" \"P29622\"\n",
      "[33] \"Q86VB7\" \"O95445\" \"P17948\" \"Q9Y6U3\" \"P35442\" \"O75369\" \"P02750\" \"O14791\"\n",
      "[41] \"P06276\"\n",
      "[1] 0.959527\n"
     ]
    },
    {
     "name": "stderr",
     "output_type": "stream",
     "text": [
      "Joining, by = c(\"StollerID\", \"Group\")\n",
      "\n"
     ]
    },
    {
     "name": "stdout",
     "output_type": "stream",
     "text": [
      " [1] \"Q15848\" \"P10643\" \"O00391\" \"P35858\" \"P20742\" \"P80108\" \"P23142\" \"P25311\"\n",
      " [9] \"P36955\" \"P06396\" \"P00450\" \"Q99784\" \"P02743\" \"P02749\" \"P19320\" \"P61626\"\n",
      "[17] \"O75636\" \"P30041\" \"P05546\" \"P07333\" \"P51884\" \"Q06033\" \"P07237\" \"P05090\"\n",
      "[25] \"P02766\" \"P62701\" \"P02741\" \"P61769\" \"P11413\" \"Q9UK55\" \"P02790\" \"P29622\"\n",
      "[33] \"Q86VB7\" \"O95445\" \"P17948\" \"Q9Y6U3\" \"P35442\" \"O75369\" \"P02750\" \"O14791\"\n",
      "[41] \"P06276\" \"P04424\"\n",
      "[1] 0.959527\n"
     ]
    },
    {
     "name": "stderr",
     "output_type": "stream",
     "text": [
      "Joining, by = c(\"StollerID\", \"Group\")\n",
      "\n"
     ]
    },
    {
     "name": "stdout",
     "output_type": "stream",
     "text": [
      " [1] \"Q15848\" \"P10643\" \"O00391\" \"P35858\" \"P20742\" \"P80108\" \"P23142\" \"P25311\"\n",
      " [9] \"P36955\" \"P06396\" \"P00450\" \"Q99784\" \"P02743\" \"P02749\" \"P19320\" \"P61626\"\n",
      "[17] \"O75636\" \"P30041\" \"P05546\" \"P07333\" \"P51884\" \"Q06033\" \"P07237\" \"P05090\"\n",
      "[25] \"P02766\" \"P62701\" \"P02741\" \"P61769\" \"P11413\" \"Q9UK55\" \"P02790\" \"P29622\"\n",
      "[33] \"Q86VB7\" \"O95445\" \"P17948\" \"Q9Y6U3\" \"P35442\" \"O75369\" \"P02750\" \"O14791\"\n",
      "[41] \"P06276\" \"P04424\" \"P05186\"\n",
      "[1] 0.9601577\n"
     ]
    },
    {
     "name": "stderr",
     "output_type": "stream",
     "text": [
      "Joining, by = c(\"StollerID\", \"Group\")\n",
      "\n"
     ]
    },
    {
     "name": "stdout",
     "output_type": "stream",
     "text": [
      " [1] \"Q15848\" \"P10643\" \"O00391\" \"P35858\" \"P20742\" \"P80108\" \"P23142\" \"P25311\"\n",
      " [9] \"P36955\" \"P06396\" \"P00450\" \"Q99784\" \"P02743\" \"P02749\" \"P19320\" \"P61626\"\n",
      "[17] \"O75636\" \"P30041\" \"P05546\" \"P07333\" \"P51884\" \"Q06033\" \"P07237\" \"P05090\"\n",
      "[25] \"P02766\" \"P62701\" \"P02741\" \"P61769\" \"P11413\" \"Q9UK55\" \"P02790\" \"P29622\"\n",
      "[33] \"Q86VB7\" \"O95445\" \"P17948\" \"Q9Y6U3\" \"P35442\" \"O75369\" \"P02750\" \"O14791\"\n",
      "[41] \"P06276\" \"P04424\" \"P05186\" \"P02654\"\n",
      "[1] 0.9600901\n"
     ]
    },
    {
     "name": "stderr",
     "output_type": "stream",
     "text": [
      "Joining, by = c(\"StollerID\", \"Group\")\n",
      "\n"
     ]
    },
    {
     "name": "stdout",
     "output_type": "stream",
     "text": [
      " [1] \"Q15848\" \"P10643\" \"O00391\" \"P35858\" \"P20742\" \"P80108\" \"P23142\" \"P25311\"\n",
      " [9] \"P36955\" \"P06396\" \"P00450\" \"Q99784\" \"P02743\" \"P02749\" \"P19320\" \"P61626\"\n",
      "[17] \"O75636\" \"P30041\" \"P05546\" \"P07333\" \"P51884\" \"Q06033\" \"P07237\" \"P05090\"\n",
      "[25] \"P02766\" \"P62701\" \"P02741\" \"P61769\" \"P11413\" \"Q9UK55\" \"P02790\" \"P29622\"\n",
      "[33] \"Q86VB7\" \"O95445\" \"P17948\" \"Q9Y6U3\" \"P35442\" \"O75369\" \"P02750\" \"O14791\"\n",
      "[41] \"P06276\" \"P04424\" \"P05186\" \"P02654\" \"O43707\"\n",
      "[1] 0.9602252\n"
     ]
    },
    {
     "name": "stderr",
     "output_type": "stream",
     "text": [
      "Joining, by = c(\"StollerID\", \"Group\")\n",
      "\n"
     ]
    },
    {
     "name": "stdout",
     "output_type": "stream",
     "text": [
      " [1] \"Q15848\" \"P10643\" \"O00391\" \"P35858\" \"P20742\" \"P80108\" \"P23142\" \"P25311\"\n",
      " [9] \"P36955\" \"P06396\" \"P00450\" \"Q99784\" \"P02743\" \"P02749\" \"P19320\" \"P61626\"\n",
      "[17] \"O75636\" \"P30041\" \"P05546\" \"P07333\" \"P51884\" \"Q06033\" \"P07237\" \"P05090\"\n",
      "[25] \"P02766\" \"P62701\" \"P02741\" \"P61769\" \"P11413\" \"Q9UK55\" \"P02790\" \"P29622\"\n",
      "[33] \"Q86VB7\" \"O95445\" \"P17948\" \"Q9Y6U3\" \"P35442\" \"O75369\" \"P02750\" \"O14791\"\n",
      "[41] \"P06276\" \"P04424\" \"P05186\" \"P02654\" \"O43707\" \"P27169\"\n",
      "[1] 0.9606982\n"
     ]
    },
    {
     "name": "stderr",
     "output_type": "stream",
     "text": [
      "Joining, by = c(\"StollerID\", \"Group\")\n",
      "\n"
     ]
    },
    {
     "name": "stdout",
     "output_type": "stream",
     "text": [
      " [1] \"Q15848\" \"P10643\" \"O00391\" \"P35858\" \"P20742\" \"P80108\" \"P23142\" \"P25311\"\n",
      " [9] \"P36955\" \"P06396\" \"P00450\" \"Q99784\" \"P02743\" \"P02749\" \"P19320\" \"P61626\"\n",
      "[17] \"O75636\" \"P30041\" \"P05546\" \"P07333\" \"P51884\" \"Q06033\" \"P07237\" \"P05090\"\n",
      "[25] \"P02766\" \"P62701\" \"P02741\" \"P61769\" \"P11413\" \"Q9UK55\" \"P02790\" \"P29622\"\n",
      "[33] \"Q86VB7\" \"O95445\" \"P17948\" \"Q9Y6U3\" \"P35442\" \"O75369\" \"P02750\" \"O14791\"\n",
      "[41] \"P06276\" \"P04424\" \"P05186\" \"P02654\" \"O43707\" \"P27169\" \"P32119\"\n",
      "[1] 0.9610135\n"
     ]
    },
    {
     "name": "stderr",
     "output_type": "stream",
     "text": [
      "Joining, by = c(\"StollerID\", \"Group\")\n",
      "\n"
     ]
    },
    {
     "name": "stdout",
     "output_type": "stream",
     "text": [
      " [1] \"Q15848\" \"P10643\" \"O00391\" \"P35858\" \"P20742\" \"P80108\" \"P23142\" \"P25311\"\n",
      " [9] \"P36955\" \"P06396\" \"P00450\" \"Q99784\" \"P02743\" \"P02749\" \"P19320\" \"P61626\"\n",
      "[17] \"O75636\" \"P30041\" \"P05546\" \"P07333\" \"P51884\" \"Q06033\" \"P07237\" \"P05090\"\n",
      "[25] \"P02766\" \"P62701\" \"P02741\" \"P61769\" \"P11413\" \"Q9UK55\" \"P02790\" \"P29622\"\n",
      "[33] \"Q86VB7\" \"O95445\" \"P17948\" \"Q9Y6U3\" \"P35442\" \"O75369\" \"P02750\" \"O14791\"\n",
      "[41] \"P06276\" \"P04424\" \"P05186\" \"P02654\" \"O43707\" \"P27169\" \"P32119\" \"P19827\"\n",
      "[1] 0.9622523\n"
     ]
    },
    {
     "name": "stderr",
     "output_type": "stream",
     "text": [
      "Joining, by = c(\"StollerID\", \"Group\")\n",
      "\n"
     ]
    },
    {
     "name": "stdout",
     "output_type": "stream",
     "text": [
      " [1] \"Q15848\" \"P10643\" \"O00391\" \"P35858\" \"P20742\" \"P80108\" \"P23142\" \"P25311\"\n",
      " [9] \"P36955\" \"P06396\" \"P00450\" \"Q99784\" \"P02743\" \"P02749\" \"P19320\" \"P61626\"\n",
      "[17] \"O75636\" \"P30041\" \"P05546\" \"P07333\" \"P51884\" \"Q06033\" \"P07237\" \"P05090\"\n",
      "[25] \"P02766\" \"P62701\" \"P02741\" \"P61769\" \"P11413\" \"Q9UK55\" \"P02790\" \"P29622\"\n",
      "[33] \"Q86VB7\" \"O95445\" \"P17948\" \"Q9Y6U3\" \"P35442\" \"O75369\" \"P02750\" \"O14791\"\n",
      "[41] \"P06276\" \"P04424\" \"P05186\" \"P02654\" \"O43707\" \"P27169\" \"P32119\" \"P19827\"\n",
      "[49] \"P03952\"\n",
      "[1] 0.9628829\n"
     ]
    },
    {
     "name": "stderr",
     "output_type": "stream",
     "text": [
      "Joining, by = c(\"StollerID\", \"Group\")\n",
      "\n"
     ]
    },
    {
     "name": "stdout",
     "output_type": "stream",
     "text": [
      " [1] \"Q15848\" \"P10643\" \"O00391\" \"P35858\" \"P20742\" \"P80108\" \"P23142\" \"P25311\"\n",
      " [9] \"P36955\" \"P06396\" \"P00450\" \"Q99784\" \"P02743\" \"P02749\" \"P19320\" \"P61626\"\n",
      "[17] \"O75636\" \"P30041\" \"P05546\" \"P07333\" \"P51884\" \"Q06033\" \"P07237\" \"P05090\"\n",
      "[25] \"P02766\" \"P62701\" \"P02741\" \"P61769\" \"P11413\" \"Q9UK55\" \"P02790\" \"P29622\"\n",
      "[33] \"Q86VB7\" \"O95445\" \"P17948\" \"Q9Y6U3\" \"P35442\" \"O75369\" \"P02750\" \"O14791\"\n",
      "[41] \"P06276\" \"P04424\" \"P05186\" \"P02654\" \"O43707\" \"P27169\" \"P32119\" \"P19827\"\n",
      "[49] \"P03952\" \"O14980\"\n",
      "[1] 0.9633784\n"
     ]
    },
    {
     "name": "stderr",
     "output_type": "stream",
     "text": [
      "Joining, by = c(\"StollerID\", \"Group\")\n",
      "\n"
     ]
    },
    {
     "name": "stdout",
     "output_type": "stream",
     "text": [
      " [1] \"Q15848\" \"P10643\" \"O00391\" \"P35858\" \"P20742\" \"P80108\" \"P23142\" \"P25311\"\n",
      " [9] \"P36955\" \"P06396\" \"P00450\" \"Q99784\" \"P02743\" \"P02749\" \"P19320\" \"P61626\"\n",
      "[17] \"O75636\" \"P30041\" \"P05546\" \"P07333\" \"P51884\" \"Q06033\" \"P07237\" \"P05090\"\n",
      "[25] \"P02766\" \"P62701\" \"P02741\" \"P61769\" \"P11413\" \"Q9UK55\" \"P02790\" \"P29622\"\n",
      "[33] \"Q86VB7\" \"O95445\" \"P17948\" \"Q9Y6U3\" \"P35442\" \"O75369\" \"P02750\" \"O14791\"\n",
      "[41] \"P06276\" \"P04424\" \"P05186\" \"P02654\" \"O43707\" \"P27169\" \"P32119\" \"P19827\"\n",
      "[49] \"P03952\" \"O14980\" \"Q6UX04\"\n",
      "[1] 0.9635586\n"
     ]
    },
    {
     "name": "stderr",
     "output_type": "stream",
     "text": [
      "Joining, by = c(\"StollerID\", \"Group\")\n",
      "\n"
     ]
    },
    {
     "name": "stdout",
     "output_type": "stream",
     "text": [
      " [1] \"Q15848\" \"P10643\" \"O00391\" \"P35858\" \"P20742\" \"P80108\" \"P23142\" \"P25311\"\n",
      " [9] \"P36955\" \"P06396\" \"P00450\" \"Q99784\" \"P02743\" \"P02749\" \"P19320\" \"P61626\"\n",
      "[17] \"O75636\" \"P30041\" \"P05546\" \"P07333\" \"P51884\" \"Q06033\" \"P07237\" \"P05090\"\n",
      "[25] \"P02766\" \"P62701\" \"P02741\" \"P61769\" \"P11413\" \"Q9UK55\" \"P02790\" \"P29622\"\n",
      "[33] \"Q86VB7\" \"O95445\" \"P17948\" \"Q9Y6U3\" \"P35442\" \"O75369\" \"P02750\" \"O14791\"\n",
      "[41] \"P06276\" \"P04424\" \"P05186\" \"P02654\" \"O43707\" \"P27169\" \"P32119\" \"P19827\"\n",
      "[49] \"P03952\" \"O14980\" \"Q6UX04\" \"P02656\"\n",
      "[1] 0.9643694\n"
     ]
    },
    {
     "name": "stderr",
     "output_type": "stream",
     "text": [
      "Joining, by = c(\"StollerID\", \"Group\")\n",
      "\n"
     ]
    },
    {
     "name": "stdout",
     "output_type": "stream",
     "text": [
      " [1] \"Q15848\" \"P10643\" \"O00391\" \"P35858\" \"P20742\" \"P80108\" \"P23142\" \"P25311\"\n",
      " [9] \"P36955\" \"P06396\" \"P00450\" \"Q99784\" \"P02743\" \"P02749\" \"P19320\" \"P61626\"\n",
      "[17] \"O75636\" \"P30041\" \"P05546\" \"P07333\" \"P51884\" \"Q06033\" \"P07237\" \"P05090\"\n",
      "[25] \"P02766\" \"P62701\" \"P02741\" \"P61769\" \"P11413\" \"Q9UK55\" \"P02790\" \"P29622\"\n",
      "[33] \"Q86VB7\" \"O95445\" \"P17948\" \"Q9Y6U3\" \"P35442\" \"O75369\" \"P02750\" \"O14791\"\n",
      "[41] \"P06276\" \"P04424\" \"P05186\" \"P02654\" \"O43707\" \"P27169\" \"P32119\" \"P19827\"\n",
      "[49] \"P03952\" \"O14980\" \"Q6UX04\" \"P02656\" \"Q9H4G4\"\n",
      "[1] 0.9644144\n"
     ]
    },
    {
     "name": "stderr",
     "output_type": "stream",
     "text": [
      "Joining, by = c(\"StollerID\", \"Group\")\n",
      "\n"
     ]
    },
    {
     "name": "stdout",
     "output_type": "stream",
     "text": [
      " [1] \"Q15848\" \"P10643\" \"O00391\" \"P35858\" \"P20742\" \"P80108\" \"P23142\" \"P25311\"\n",
      " [9] \"P36955\" \"P06396\" \"P00450\" \"Q99784\" \"P02743\" \"P02749\" \"P19320\" \"P61626\"\n",
      "[17] \"O75636\" \"P30041\" \"P05546\" \"P07333\" \"P51884\" \"Q06033\" \"P07237\" \"P05090\"\n",
      "[25] \"P02766\" \"P62701\" \"P02741\" \"P61769\" \"P11413\" \"Q9UK55\" \"P02790\" \"P29622\"\n",
      "[33] \"Q86VB7\" \"O95445\" \"P17948\" \"Q9Y6U3\" \"P35442\" \"O75369\" \"P02750\" \"O14791\"\n",
      "[41] \"P06276\" \"P04424\" \"P05186\" \"P02654\" \"O43707\" \"P27169\" \"P32119\" \"P19827\"\n",
      "[49] \"P03952\" \"O14980\" \"Q6UX04\" \"P02656\" \"Q9H4G4\" \"P19823\"\n",
      "[1] 0.9679505\n"
     ]
    },
    {
     "name": "stderr",
     "output_type": "stream",
     "text": [
      "Joining, by = c(\"StollerID\", \"Group\")\n",
      "\n"
     ]
    },
    {
     "name": "stdout",
     "output_type": "stream",
     "text": [
      " [1] \"Q15848\" \"P10643\" \"O00391\" \"P35858\" \"P20742\" \"P80108\" \"P23142\" \"P25311\"\n",
      " [9] \"P36955\" \"P06396\" \"P00450\" \"Q99784\" \"P02743\" \"P02749\" \"P19320\" \"P61626\"\n",
      "[17] \"O75636\" \"P30041\" \"P05546\" \"P07333\" \"P51884\" \"Q06033\" \"P07237\" \"P05090\"\n",
      "[25] \"P02766\" \"P62701\" \"P02741\" \"P61769\" \"P11413\" \"Q9UK55\" \"P02790\" \"P29622\"\n",
      "[33] \"Q86VB7\" \"O95445\" \"P17948\" \"Q9Y6U3\" \"P35442\" \"O75369\" \"P02750\" \"O14791\"\n",
      "[41] \"P06276\" \"P04424\" \"P05186\" \"P02654\" \"O43707\" \"P27169\" \"P32119\" \"P19827\"\n",
      "[49] \"P03952\" \"O14980\" \"Q6UX04\" \"P02656\" \"Q9H4G4\" \"P19823\" \"P22307\"\n",
      "[1] 0.9683784\n"
     ]
    },
    {
     "name": "stderr",
     "output_type": "stream",
     "text": [
      "Joining, by = c(\"StollerID\", \"Group\")\n",
      "\n"
     ]
    },
    {
     "name": "stdout",
     "output_type": "stream",
     "text": [
      " [1] \"Q15848\" \"P10643\" \"O00391\" \"P35858\" \"P20742\" \"P80108\" \"P23142\" \"P25311\"\n",
      " [9] \"P36955\" \"P06396\" \"P00450\" \"Q99784\" \"P02743\" \"P02749\" \"P19320\" \"P61626\"\n",
      "[17] \"O75636\" \"P30041\" \"P05546\" \"P07333\" \"P51884\" \"Q06033\" \"P07237\" \"P05090\"\n",
      "[25] \"P02766\" \"P62701\" \"P02741\" \"P61769\" \"P11413\" \"Q9UK55\" \"P02790\" \"P29622\"\n",
      "[33] \"Q86VB7\" \"O95445\" \"P17948\" \"Q9Y6U3\" \"P35442\" \"O75369\" \"P02750\" \"O14791\"\n",
      "[41] \"P06276\" \"P04424\" \"P05186\" \"P02654\" \"O43707\" \"P27169\" \"P32119\" \"P19827\"\n",
      "[49] \"P03952\" \"O14980\" \"Q6UX04\" \"P02656\" \"Q9H4G4\" \"P19823\" \"P22307\" \"P17936\"\n",
      "[1] 0.9681081\n"
     ]
    }
   ],
   "source": [
    "ROC_accummulate <- data.table()\n",
    "\n",
    "for (ii in 1:length(proteins_confirmed)){\n",
    "    proteins_forlogistic <- proteins_confirmed[1:ii]\n",
    "    tmp <- data %>% select(StollerID, any_of(proteins_forlogistic), Group)\n",
    "    tmp[is.na(tmp)] <- 0\n",
    "    joined_data <- inner_join(tmp, baseline_data) %>% select(Group, Age, BMI, Gender, any_of(proteins_forlogistic))\n",
    "    joined_data$Group <- factor(joined_data$Group, levels=c('Case','Control'))\n",
    "    levels(joined_data$Group) <- c(1,0)\n",
    "    joined_data_clean <- joined_data[complete.cases(joined_data),] %>% mutate(BMIAge = BMI * Age)\n",
    "    mf1 <- glm(Group~., data=joined_data_clean, family=binomial, na.action = na.pass)\n",
    "    print(proteins_forlogistic)\n",
    "    print(Cstat(mf1))\n",
    "    ROC_accummulate <- rbind(ROC_accummulate, round(Cstat(mf1),3))\n",
    "}"
   ]
  },
  {
   "cell_type": "code",
   "execution_count": 18,
   "metadata": {},
   "outputs": [],
   "source": [
    "ROC_accummulate$UniProtID <- proteins_confirmed\n",
    "names(ROC_accummulate) <- c('AUC','UniProtID')"
   ]
  },
  {
   "cell_type": "code",
   "execution_count": 19,
   "metadata": {},
   "outputs": [
    {
     "name": "stderr",
     "output_type": "stream",
     "text": [
      "Joining, by = \"UniProtID\"\n",
      "\n"
     ]
    }
   ],
   "source": [
    "ROC_accummulate <- left_join(ROC_accummulate, protein_withname) %>% select(UniProtID, ProteinName, AUC)"
   ]
  },
  {
   "cell_type": "code",
   "execution_count": 20,
   "metadata": {},
   "outputs": [
    {
     "data": {
      "text/html": [
       "<table class=\"dataframe\">\n",
       "<caption>A data.table: 6 × 3</caption>\n",
       "<thead>\n",
       "\t<tr><th scope=col>UniProtID</th><th scope=col>ProteinName</th><th scope=col>AUC</th></tr>\n",
       "\t<tr><th scope=col>&lt;chr&gt;</th><th scope=col>&lt;fct&gt;</th><th scope=col>&lt;dbl&gt;</th></tr>\n",
       "</thead>\n",
       "<tbody>\n",
       "\t<tr><td>Q15848</td><td>ADIPOQ</td><td>0.820</td></tr>\n",
       "\t<tr><td>P10643</td><td>C7    </td><td>0.836</td></tr>\n",
       "\t<tr><td>O00391</td><td>QSOX1 </td><td>0.835</td></tr>\n",
       "\t<tr><td>P35858</td><td>IGFALS</td><td>0.881</td></tr>\n",
       "\t<tr><td>P20742</td><td>PZP   </td><td>0.895</td></tr>\n",
       "\t<tr><td>P80108</td><td>GPLD1 </td><td>0.900</td></tr>\n",
       "</tbody>\n",
       "</table>\n"
      ],
      "text/latex": [
       "A data.table: 6 × 3\n",
       "\\begin{tabular}{lll}\n",
       " UniProtID & ProteinName & AUC\\\\\n",
       " <chr> & <fct> & <dbl>\\\\\n",
       "\\hline\n",
       "\t Q15848 & ADIPOQ & 0.820\\\\\n",
       "\t P10643 & C7     & 0.836\\\\\n",
       "\t O00391 & QSOX1  & 0.835\\\\\n",
       "\t P35858 & IGFALS & 0.881\\\\\n",
       "\t P20742 & PZP    & 0.895\\\\\n",
       "\t P80108 & GPLD1  & 0.900\\\\\n",
       "\\end{tabular}\n"
      ],
      "text/markdown": [
       "\n",
       "A data.table: 6 × 3\n",
       "\n",
       "| UniProtID &lt;chr&gt; | ProteinName &lt;fct&gt; | AUC &lt;dbl&gt; |\n",
       "|---|---|---|\n",
       "| Q15848 | ADIPOQ | 0.820 |\n",
       "| P10643 | C7     | 0.836 |\n",
       "| O00391 | QSOX1  | 0.835 |\n",
       "| P35858 | IGFALS | 0.881 |\n",
       "| P20742 | PZP    | 0.895 |\n",
       "| P80108 | GPLD1  | 0.900 |\n",
       "\n"
      ],
      "text/plain": [
       "  UniProtID ProteinName AUC  \n",
       "1 Q15848    ADIPOQ      0.820\n",
       "2 P10643    C7          0.836\n",
       "3 O00391    QSOX1       0.835\n",
       "4 P35858    IGFALS      0.881\n",
       "5 P20742    PZP         0.895\n",
       "6 P80108    GPLD1       0.900"
      ]
     },
     "metadata": {},
     "output_type": "display_data"
    }
   ],
   "source": [
    "head(ROC_accummulate)"
   ]
  },
  {
   "cell_type": "code",
   "execution_count": 21,
   "metadata": {},
   "outputs": [],
   "source": [
    "ROC_accummulate$ProteinName <- factor(ROC_accummulate$ProteinName, levels=ROC_accummulate$ProteinName)"
   ]
  },
  {
   "cell_type": "markdown",
   "metadata": {},
   "source": [
    "### Generate Fig 1b"
   ]
  },
  {
   "cell_type": "code",
   "execution_count": 22,
   "metadata": {},
   "outputs": [
    {
     "data": {
      "image/png": "[encoded data removed]",
      "text/plain": [
       "plot without title"
      ]
     },
     "metadata": {
      "image/png": {
       "height": 420,
       "width": 420
      }
     },
     "output_type": "display_data"
    }
   ],
   "source": [
    "ggplot(ROC_accummulate, aes(x=ProteinName, y=AUC)) + geom_point(col='red', size=3) + \n",
    "annotate(\"text\", x = 2.5, y = 1, label = \"b\", size=8) + \n",
    "xlab('Proteins') + ylab('Cumulative AUC') +  theme(panel.background=element_blank(),#panel.background=element_rect(fill='white',color='black',linetype=1), \n",
    "      #panel.grid.major=element_line(color='grey', size=0.1), \n",
    "     axis.line=element_line(size=1),text=element_text(size=14, face=\"bold\"),\n",
    "      axis.text.x=element_text(size=9, angle=90, face='bold', hjust=0.95, vjust=0.2), axis.title=element_text(size=14, face=\"bold\"),\n",
    "      strip.text.x=element_blank(),strip.text.y=element_blank(), strip.background=element_blank()) "
   ]
  }
 ],
 "metadata": {
  "kernelspec": {
   "display_name": "R",
   "language": "R",
   "name": "ir"
  },
  "language_info": {
   "codemirror_mode": "r",
   "file_extension": ".r",
   "mimetype": "text/x-r-source",
   "name": "R",
   "pygments_lexer": "r",
   "version": "3.6.3"
  }
 },
 "nbformat": 4,
 "nbformat_minor": 4
}
