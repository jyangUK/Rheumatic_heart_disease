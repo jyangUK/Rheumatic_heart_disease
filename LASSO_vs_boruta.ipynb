{
 "cells": [
  {
   "cell_type": "markdown",
   "metadata": {},
   "source": [
    "Jupyter notebook \n",
    "-------\n",
    "\n",
    "This notebook illustrates the R codes to compare LASSO regression results with those results derived by Boruta algorithm used in the paper **\"Data independent acquisition mass spectrometry in severe Rheumatic Heart Disease (RHD) identifies a proteomic signature showing ongoing inflammation and effectively classifying RHD cases\"**\n",
    "\n",
    "Author: **Jing Yang**\n",
    "\n",
    "Date: **17/11/2021**\n",
    "\n",
    "Contact: Jing.Yang@manchester.ac.uk"
   ]
  },
  {
   "cell_type": "code",
   "execution_count": 1,
   "metadata": {},
   "outputs": [
    {
     "name": "stderr",
     "output_type": "stream",
     "text": [
      "Loading required package: ggplot2\n",
      "\n",
      "Loading required package: lattice\n",
      "\n",
      "── \u001b[1mAttaching packages\u001b[22m ─────────────────────────────────────── tidyverse 1.3.1 ──\n",
      "\n",
      "\u001b[32m✔\u001b[39m \u001b[34mtibble \u001b[39m 3.1.5     \u001b[32m✔\u001b[39m \u001b[34mdplyr  \u001b[39m 1.0.7\n",
      "\u001b[32m✔\u001b[39m \u001b[34mtidyr  \u001b[39m 1.1.4     \u001b[32m✔\u001b[39m \u001b[34mstringr\u001b[39m 1.4.0\n",
      "\u001b[32m✔\u001b[39m \u001b[34mreadr  \u001b[39m 2.0.2     \u001b[32m✔\u001b[39m \u001b[34mforcats\u001b[39m 0.5.1\n",
      "\u001b[32m✔\u001b[39m \u001b[34mpurrr  \u001b[39m 0.3.4     \n",
      "\n",
      "── \u001b[1mConflicts\u001b[22m ────────────────────────────────────────── tidyverse_conflicts() ──\n",
      "\u001b[31m✖\u001b[39m \u001b[34mdplyr\u001b[39m::\u001b[32mbetween()\u001b[39m   masks \u001b[34mdata.table\u001b[39m::between()\n",
      "\u001b[31m✖\u001b[39m \u001b[34mdplyr\u001b[39m::\u001b[32mfilter()\u001b[39m    masks \u001b[34mstats\u001b[39m::filter()\n",
      "\u001b[31m✖\u001b[39m \u001b[34mdplyr\u001b[39m::\u001b[32mfirst()\u001b[39m     masks \u001b[34mdata.table\u001b[39m::first()\n",
      "\u001b[31m✖\u001b[39m \u001b[34mdplyr\u001b[39m::\u001b[32mlag()\u001b[39m       masks \u001b[34mstats\u001b[39m::lag()\n",
      "\u001b[31m✖\u001b[39m \u001b[34mdplyr\u001b[39m::\u001b[32mlast()\u001b[39m      masks \u001b[34mdata.table\u001b[39m::last()\n",
      "\u001b[31m✖\u001b[39m \u001b[34mpurrr\u001b[39m::\u001b[32mlift()\u001b[39m      masks \u001b[34mcaret\u001b[39m::lift()\n",
      "\u001b[31m✖\u001b[39m \u001b[34mpurrr\u001b[39m::\u001b[32mtranspose()\u001b[39m masks \u001b[34mdata.table\u001b[39m::transpose()\n",
      "\n",
      "Loading required package: Matrix\n",
      "\n",
      "\n",
      "Attaching package: ‘Matrix’\n",
      "\n",
      "\n",
      "The following objects are masked from ‘package:tidyr’:\n",
      "\n",
      "    expand, pack, unpack\n",
      "\n",
      "\n",
      "Loaded glmnet 4.1-2\n",
      "\n",
      "corrplot 0.90 loaded\n",
      "\n",
      "\n",
      "Attaching package: ‘DescTools’\n",
      "\n",
      "\n",
      "The following object is masked from ‘package:data.table’:\n",
      "\n",
      "    %like%\n",
      "\n",
      "\n",
      "The following objects are masked from ‘package:caret’:\n",
      "\n",
      "    MAE, RMSE\n",
      "\n",
      "\n",
      "Type 'citation(\"pROC\")' for a citation.\n",
      "\n",
      "\n",
      "Attaching package: ‘pROC’\n",
      "\n",
      "\n",
      "The following objects are masked from ‘package:stats’:\n",
      "\n",
      "    cov, smooth, var\n",
      "\n",
      "\n"
     ]
    }
   ],
   "source": [
    "library(caret)\n",
    "library(data.table)\n",
    "library(tidyverse)\n",
    "library(glmnet)\n",
    "library(Boruta)\n",
    "library(corrplot)\n",
    "library(DescTools)\n",
    "library(pROC)"
   ]
  },
  {
   "cell_type": "markdown",
   "metadata": {},
   "source": [
    "### load log2 scaled protein expression data"
   ]
  },
  {
   "cell_type": "code",
   "execution_count": 2,
   "metadata": {},
   "outputs": [],
   "source": [
    "data <- read.csv(file='Data/RHD_data_filtered.csv')\n",
    "data[is.na(data)] <- 0\n",
    "data$Group <- as.factor(data$Group)"
   ]
  },
  {
   "cell_type": "markdown",
   "metadata": {},
   "source": [
    "### separate the data to training and testing dataset"
   ]
  },
  {
   "cell_type": "code",
   "execution_count": 3,
   "metadata": {},
   "outputs": [],
   "source": [
    "set.seed(1)\n",
    "trainIndex <- createDataPartition(data$Group, p=0.7, list=FALSE)\n",
    "trainData <- data[trainIndex,] %>% select(-StollerID)\n",
    "testData <- data[-trainIndex,] %>% select(-StollerID)\n"
   ]
  },
  {
   "cell_type": "markdown",
   "metadata": {},
   "source": [
    "### load Boruta results"
   ]
  },
  {
   "cell_type": "code",
   "execution_count": 4,
   "metadata": {},
   "outputs": [],
   "source": [
    "load(file='Data/Boruta_results_2108.RData')\n",
    "result_allsample <- attStats(Boruta.allsample) %>% filter(decision %in% 'Confirmed') %>% mutate(UniProtID=rownames(.)) %>% arrange(desc(medianImp))\n",
    "proteins_confirmed <- result_allsample$UniProtID"
   ]
  },
  {
   "cell_type": "code",
   "execution_count": 5,
   "metadata": {},
   "outputs": [],
   "source": [
    "fitControl = trainControl(method = \"repeatedcv\",\n",
    "                          classProbs = TRUE,\n",
    "                          number = 10,\n",
    "                          repeats = 5, \n",
    "                          summaryFunction = twoClassSummary,\n",
    "                          verboseIter = FALSE)"
   ]
  },
  {
   "cell_type": "code",
   "execution_count": 6,
   "metadata": {},
   "outputs": [
    {
     "name": "stdout",
     "output_type": "stream",
     "text": [
      "\n",
      "Call:\n",
      " randomForest(x = x, y = y, mtry = min(param$mtry, ncol(x))) \n",
      "               Type of random forest: classification\n",
      "                     Number of trees: 500\n",
      "No. of variables tried at each split: 123\n",
      "\n",
      "        OOB estimate of  error rate: 15.38%\n",
      "Confusion matrix:\n",
      "        Case Control class.error\n",
      "Case     116      35  0.23178808\n",
      "Control   13     148  0.08074534\n"
     ]
    }
   ],
   "source": [
    "#boruta.formula <- formula(paste(\"Group ~ \", paste(proteins_confirmed, collapse = \" + \")))\n",
    "rfBoruta.fit <- train(Group ~ ., \n",
    "                      data = trainData,\n",
    "                      trControl = fitControl,\n",
    "                      tuneLength = 4,  # final value was mtry = 4\n",
    "                      method = \"rf\",\n",
    "                      metric = \"ROC\")\n",
    "print(rfBoruta.fit$finalModel)"
   ]
  },
  {
   "cell_type": "code",
   "execution_count": 7,
   "metadata": {},
   "outputs": [
    {
     "data": {
      "text/plain": [
       "Confusion Matrix and Statistics\n",
       "\n",
       "          Reference\n",
       "Prediction Case Control\n",
       "   Case     116      13\n",
       "   Control   35     148\n",
       "                                          \n",
       "               Accuracy : 0.8462          \n",
       "                 95% CI : (0.8012, 0.8843)\n",
       "    No Information Rate : 0.516           \n",
       "    P-Value [Acc > NIR] : < 2.2e-16       \n",
       "                                          \n",
       "                  Kappa : 0.6906          \n",
       "                                          \n",
       " Mcnemar's Test P-Value : 0.002437        \n",
       "                                          \n",
       "            Sensitivity : 0.7682          \n",
       "            Specificity : 0.9193          \n",
       "         Pos Pred Value : 0.8992          \n",
       "         Neg Pred Value : 0.8087          \n",
       "             Prevalence : 0.4840          \n",
       "         Detection Rate : 0.3718          \n",
       "   Detection Prevalence : 0.4135          \n",
       "      Balanced Accuracy : 0.8437          \n",
       "                                          \n",
       "       'Positive' Class : Case            \n",
       "                                          "
      ]
     },
     "metadata": {},
     "output_type": "display_data"
    }
   ],
   "source": [
    "confusionMatrix(predict(rfBoruta.fit$finalModel, type='response'), trainData$Group)"
   ]
  },
  {
   "cell_type": "markdown",
   "metadata": {},
   "source": [
    "### show performance of Boruta results in training and testing data"
   ]
  },
  {
   "cell_type": "code",
   "execution_count": 14,
   "metadata": {
    "scrolled": true
   },
   "outputs": [
    {
     "data": {
      "text/plain": [
       "Confusion Matrix and Statistics\n",
       "\n",
       "          Reference\n",
       "Prediction Case Control\n",
       "   Case     151       0\n",
       "   Control    0     161\n",
       "                                     \n",
       "               Accuracy : 1          \n",
       "                 95% CI : (0.9882, 1)\n",
       "    No Information Rate : 0.516      \n",
       "    P-Value [Acc > NIR] : < 2.2e-16  \n",
       "                                     \n",
       "                  Kappa : 1          \n",
       "                                     \n",
       " Mcnemar's Test P-Value : NA         \n",
       "                                     \n",
       "            Sensitivity : 1.000      \n",
       "            Specificity : 1.000      \n",
       "         Pos Pred Value : 1.000      \n",
       "         Neg Pred Value : 1.000      \n",
       "             Prevalence : 0.484      \n",
       "         Detection Rate : 0.484      \n",
       "   Detection Prevalence : 0.484      \n",
       "      Balanced Accuracy : 1.000      \n",
       "                                     \n",
       "       'Positive' Class : Case       \n",
       "                                     "
      ]
     },
     "metadata": {},
     "output_type": "display_data"
    },
    {
     "data": {
      "text/plain": [
       "Confusion Matrix and Statistics\n",
       "\n",
       "          Reference\n",
       "Prediction Case Control\n",
       "   Case      50      14\n",
       "   Control    4      65\n",
       "                                          \n",
       "               Accuracy : 0.8647          \n",
       "                 95% CI : (0.7946, 0.9178)\n",
       "    No Information Rate : 0.594           \n",
       "    P-Value [Acc > NIR] : 8.86e-12        \n",
       "                                          \n",
       "                  Kappa : 0.7274          \n",
       "                                          \n",
       " Mcnemar's Test P-Value : 0.03389         \n",
       "                                          \n",
       "            Sensitivity : 0.9259          \n",
       "            Specificity : 0.8228          \n",
       "         Pos Pred Value : 0.7812          \n",
       "         Neg Pred Value : 0.9420          \n",
       "             Prevalence : 0.4060          \n",
       "         Detection Rate : 0.3759          \n",
       "   Detection Prevalence : 0.4812          \n",
       "      Balanced Accuracy : 0.8744          \n",
       "                                          \n",
       "       'Positive' Class : Case            \n",
       "                                          "
      ]
     },
     "metadata": {},
     "output_type": "display_data"
    }
   ],
   "source": [
    "confusionMatrix(trainData$Group, predict(rfBoruta.fit, newdata = trainData[,1:366], type = \"raw\"))\n",
    "\n",
    "confusionMatrix(testData$Group, predict(rfBoruta.fit, newdata = testData[,1:366], type = \"raw\"))"
   ]
  },
  {
   "cell_type": "markdown",
   "metadata": {},
   "source": [
    "### LASSO regression"
   ]
  },
  {
   "cell_type": "code",
   "execution_count": 15,
   "metadata": {},
   "outputs": [],
   "source": [
    "lambdas <- 10^seq(2,-3,by=-0.1)"
   ]
  },
  {
   "cell_type": "code",
   "execution_count": 16,
   "metadata": {},
   "outputs": [],
   "source": [
    "lasso_trainX <- as.matrix(trainData[,1:366])\n",
    "lasso_trainy <- trainData$Group\n",
    "lasso_testX <- as.matrix(testData[,1:366])\n",
    "lasso_testy <- testData$Group\n",
    "\n",
    "levels(lasso_trainy) <- c(1,0)\n",
    "levels(lasso_testy) <- c(1,0)"
   ]
  },
  {
   "cell_type": "code",
   "execution_count": 17,
   "metadata": {},
   "outputs": [],
   "source": [
    "lasso_reg <- cv.glmnet(lasso_trainX, lasso_trainy, alpha = 1, family = 'binomial' , lambda = lambdas, type.measure = 'deviance' , standardise=TRUE, nfolds = 4)"
   ]
  },
  {
   "cell_type": "code",
   "execution_count": 18,
   "metadata": {},
   "outputs": [],
   "source": [
    "lambda_best <- lasso_reg$lambda.min"
   ]
  },
  {
   "cell_type": "code",
   "execution_count": 19,
   "metadata": {},
   "outputs": [],
   "source": [
    "lasso_model <- glmnet(lasso_trainX, lasso_trainy, alpha = 1, lambda = lambda_best, family='binomial')\n",
    "predictions_train <- as.factor(predict(lasso_model, s = lambda_best, newx = lasso_trainX,'class'))\n",
    "#levels(predictions_train) <- levels(lasso_trainy)\n",
    "\n",
    "predictions_test <- as.factor(predict(lasso_model, s = lambda_best, newx = lasso_testX,'class'))\n",
    "#levels(predictions_test) <- levels(lasso_testy)\n"
   ]
  },
  {
   "cell_type": "markdown",
   "metadata": {},
   "source": [
    "### show prediction performance of lasso classificatin in training and testing data"
   ]
  },
  {
   "cell_type": "code",
   "execution_count": 20,
   "metadata": {},
   "outputs": [
    {
     "name": "stderr",
     "output_type": "stream",
     "text": [
      "Warning message in confusionMatrix.default(lasso_trainy, predictions_train):\n",
      "“Levels are not in the same order for reference and data. Refactoring data to match.”\n"
     ]
    },
    {
     "data": {
      "text/plain": [
       "Confusion Matrix and Statistics\n",
       "\n",
       "          Reference\n",
       "Prediction   0   1\n",
       "         0 158   3\n",
       "         1  14 137\n",
       "                                          \n",
       "               Accuracy : 0.9455          \n",
       "                 95% CI : (0.9142, 0.9679)\n",
       "    No Information Rate : 0.5513          \n",
       "    P-Value [Acc > NIR] : < 2e-16         \n",
       "                                          \n",
       "                  Kappa : 0.8907          \n",
       "                                          \n",
       " Mcnemar's Test P-Value : 0.01529         \n",
       "                                          \n",
       "            Sensitivity : 0.9186          \n",
       "            Specificity : 0.9786          \n",
       "         Pos Pred Value : 0.9814          \n",
       "         Neg Pred Value : 0.9073          \n",
       "             Prevalence : 0.5513          \n",
       "         Detection Rate : 0.5064          \n",
       "   Detection Prevalence : 0.5160          \n",
       "      Balanced Accuracy : 0.9486          \n",
       "                                          \n",
       "       'Positive' Class : 0               \n",
       "                                          "
      ]
     },
     "metadata": {},
     "output_type": "display_data"
    },
    {
     "name": "stderr",
     "output_type": "stream",
     "text": [
      "Warning message in confusionMatrix.default(lasso_testy, predictions_test):\n",
      "“Levels are not in the same order for reference and data. Refactoring data to match.”\n"
     ]
    },
    {
     "data": {
      "text/plain": [
       "Confusion Matrix and Statistics\n",
       "\n",
       "          Reference\n",
       "Prediction  0  1\n",
       "         0 63  6\n",
       "         1 13 51\n",
       "                                          \n",
       "               Accuracy : 0.8571          \n",
       "                 95% CI : (0.7859, 0.9117)\n",
       "    No Information Rate : 0.5714          \n",
       "    P-Value [Acc > NIR] : 1.23e-12        \n",
       "                                          \n",
       "                  Kappa : 0.7127          \n",
       "                                          \n",
       " Mcnemar's Test P-Value : 0.1687          \n",
       "                                          \n",
       "            Sensitivity : 0.8289          \n",
       "            Specificity : 0.8947          \n",
       "         Pos Pred Value : 0.9130          \n",
       "         Neg Pred Value : 0.7969          \n",
       "             Prevalence : 0.5714          \n",
       "         Detection Rate : 0.4737          \n",
       "   Detection Prevalence : 0.5188          \n",
       "      Balanced Accuracy : 0.8618          \n",
       "                                          \n",
       "       'Positive' Class : 0               \n",
       "                                          "
      ]
     },
     "metadata": {},
     "output_type": "display_data"
    }
   ],
   "source": [
    "confusionMatrix(lasso_trainy, predictions_train)\n",
    "confusionMatrix(lasso_testy, predictions_test)"
   ]
  },
  {
   "cell_type": "code",
   "execution_count": null,
   "metadata": {},
   "outputs": [],
   "source": []
  }
 ],
 "metadata": {
  "kernelspec": {
   "display_name": "R",
   "language": "R",
   "name": "ir"
  },
  "language_info": {
   "codemirror_mode": "r",
   "file_extension": ".r",
   "mimetype": "text/x-r-source",
   "name": "R",
   "pygments_lexer": "r",
   "version": "3.6.3"
  }
 },
 "nbformat": 4,
 "nbformat_minor": 4
}
