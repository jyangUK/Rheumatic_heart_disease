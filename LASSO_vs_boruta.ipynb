{
 "cells": [
  {
   "cell_type": "markdown",
   "metadata": {},
   "source": [
    "Jupyter notebook \n",
    "-------\n",
    "\n",
    "This notebook illustrates the R codes to compare LASSO regression results with those results derived by Boruta algorithm used in the paper **\"Data independent acquisition mass spectrometry in severe Rheumatic Heart Disease (RHD) identifies a proteomic signature showing ongoing inflammation and effectively classifying RHD cases\"**\n",
    "\n",
    "Author: **Jing Yang**\n",
    "\n",
    "Date: **17/11/2021**\n",
    "\n",
    "Contact: Jing.Yang@manchester.ac.uk"
   ]
  },
  {
   "cell_type": "code",
   "execution_count": 1,
   "metadata": {},
   "outputs": [
    {
     "name": "stderr",
     "output_type": "stream",
     "text": [
      "Loading required package: ggplot2\n",
      "\n",
      "Loading required package: lattice\n",
      "\n",
      "── \u001b[1mAttaching packages\u001b[22m ─────────────────────────────────────── tidyverse 1.3.1 ──\n",
      "\n",
      "\u001b[32m✔\u001b[39m \u001b[34mtibble \u001b[39m 3.1.5     \u001b[32m✔\u001b[39m \u001b[34mdplyr  \u001b[39m 1.0.7\n",
      "\u001b[32m✔\u001b[39m \u001b[34mtidyr  \u001b[39m 1.1.4     \u001b[32m✔\u001b[39m \u001b[34mstringr\u001b[39m 1.4.0\n",
      "\u001b[32m✔\u001b[39m \u001b[34mreadr  \u001b[39m 2.0.2     \u001b[32m✔\u001b[39m \u001b[34mforcats\u001b[39m 0.5.1\n",
      "\u001b[32m✔\u001b[39m \u001b[34mpurrr  \u001b[39m 0.3.4     \n",
      "\n",
      "── \u001b[1mConflicts\u001b[22m ────────────────────────────────────────── tidyverse_conflicts() ──\n",
      "\u001b[31m✖\u001b[39m \u001b[34mdplyr\u001b[39m::\u001b[32mbetween()\u001b[39m   masks \u001b[34mdata.table\u001b[39m::between()\n",
      "\u001b[31m✖\u001b[39m \u001b[34mdplyr\u001b[39m::\u001b[32mfilter()\u001b[39m    masks \u001b[34mstats\u001b[39m::filter()\n",
      "\u001b[31m✖\u001b[39m \u001b[34mdplyr\u001b[39m::\u001b[32mfirst()\u001b[39m     masks \u001b[34mdata.table\u001b[39m::first()\n",
      "\u001b[31m✖\u001b[39m \u001b[34mdplyr\u001b[39m::\u001b[32mlag()\u001b[39m       masks \u001b[34mstats\u001b[39m::lag()\n",
      "\u001b[31m✖\u001b[39m \u001b[34mdplyr\u001b[39m::\u001b[32mlast()\u001b[39m      masks \u001b[34mdata.table\u001b[39m::last()\n",
      "\u001b[31m✖\u001b[39m \u001b[34mpurrr\u001b[39m::\u001b[32mlift()\u001b[39m      masks \u001b[34mcaret\u001b[39m::lift()\n",
      "\u001b[31m✖\u001b[39m \u001b[34mpurrr\u001b[39m::\u001b[32mtranspose()\u001b[39m masks \u001b[34mdata.table\u001b[39m::transpose()\n",
      "\n",
      "Loading required package: Matrix\n",
      "\n",
      "\n",
      "Attaching package: ‘Matrix’\n",
      "\n",
      "\n",
      "The following objects are masked from ‘package:tidyr’:\n",
      "\n",
      "    expand, pack, unpack\n",
      "\n",
      "\n",
      "Loaded glmnet 4.1-2\n",
      "\n",
      "corrplot 0.90 loaded\n",
      "\n",
      "\n",
      "Attaching package: ‘DescTools’\n",
      "\n",
      "\n",
      "The following object is masked from ‘package:data.table’:\n",
      "\n",
      "    %like%\n",
      "\n",
      "\n",
      "The following objects are masked from ‘package:caret’:\n",
      "\n",
      "    MAE, RMSE\n",
      "\n",
      "\n",
      "Type 'citation(\"pROC\")' for a citation.\n",
      "\n",
      "\n",
      "Attaching package: ‘pROC’\n",
      "\n",
      "\n",
      "The following objects are masked from ‘package:stats’:\n",
      "\n",
      "    cov, smooth, var\n",
      "\n",
      "\n"
     ]
    }
   ],
   "source": [
    "library(caret)\n",
    "library(data.table)\n",
    "library(tidyverse)\n",
    "library(glmnet)\n",
    "library(Boruta)\n",
    "library(corrplot)\n",
    "library(DescTools)\n",
    "library(pROC)"
   ]
  },
  {
   "cell_type": "markdown",
   "metadata": {},
   "source": [
    "### load log2 scaled protein expression data"
   ]
  },
  {
   "cell_type": "code",
   "execution_count": 2,
   "metadata": {},
   "outputs": [],
   "source": [
    "data <- read.csv(file='Data/RHD_data_filtered.csv')\n",
    "data[is.na(data)] <- 0\n",
    "data$Group <- as.factor(data$Group)"
   ]
  },
  {
   "cell_type": "markdown",
   "metadata": {},
   "source": [
    "### separate the data to training and testing dataset"
   ]
  },
  {
   "cell_type": "code",
   "execution_count": 3,
   "metadata": {},
   "outputs": [],
   "source": [
    "set.seed(1)\n",
    "trainIndex <- createDataPartition(data$Group, p=0.7, list=FALSE)\n",
    "trainData <- data[trainIndex,] %>% select(-c(StollerID))\n",
    "testData <- data[-trainIndex,] %>% select(-c(StollerID))\n"
   ]
  },
  {
   "cell_type": "markdown",
   "metadata": {},
   "source": [
    "### load Boruta results"
   ]
  },
  {
   "cell_type": "code",
   "execution_count": 4,
   "metadata": {},
   "outputs": [],
   "source": [
    "load(file='Data/Boruta_results_2108.RData')\n",
    "result_allsample <- attStats(Boruta.allsample) %>% filter(decision %in% 'Confirmed') %>% mutate(UniProtID=rownames(.)) %>% arrange(desc(medianImp))\n",
    "proteins_boruta <- result_allsample$UniProtID"
   ]
  },
  {
   "cell_type": "code",
   "execution_count": 6,
   "metadata": {},
   "outputs": [],
   "source": [
    "trainData_boruta <- trainData %>% select(c(any_of(proteins_boruta), 'Group'))\n",
    "testData_boruta <- testData %>% select(c(any_of(proteins_boruta), 'Group'))\n"
   ]
  },
  {
   "cell_type": "code",
   "execution_count": 7,
   "metadata": {},
   "outputs": [],
   "source": [
    "fitControl = trainControl(method = \"repeatedcv\",\n",
    "                          classProbs = TRUE,\n",
    "                          number = 10,\n",
    "                          repeats = 5, \n",
    "                          summaryFunction = twoClassSummary,\n",
    "                          verboseIter = FALSE)"
   ]
  },
  {
   "cell_type": "code",
   "execution_count": 8,
   "metadata": {},
   "outputs": [],
   "source": [
    "#boruta.formula <- formula(paste(\"Group ~ \", paste(proteins_confirmed, collapse = \" + \")))\n",
    "rfBoruta.fit <- train(Group ~ ., \n",
    "                      data = trainData_boruta,\n",
    "                      trControl = fitControl,\n",
    "                      tuneLength = 4,  # final value was mtry = 4\n",
    "                      method = \"rf\",\n",
    "                      metric = \"ROC\")\n"
   ]
  },
  {
   "cell_type": "code",
   "execution_count": null,
   "metadata": {},
   "outputs": [],
   "source": [
    "confusionMatrix(predict(rfBoruta.fit, type='raw'), trainData$Group)"
   ]
  },
  {
   "cell_type": "markdown",
   "metadata": {},
   "source": [
    "### show performance of Boruta results in training and testing data"
   ]
  },
  {
   "cell_type": "code",
   "execution_count": 9,
   "metadata": {
    "scrolled": true
   },
   "outputs": [
    {
     "data": {
      "text/plain": [
       "Confusion Matrix and Statistics\n",
       "\n",
       "          Reference\n",
       "Prediction Case Control\n",
       "   Case     151       0\n",
       "   Control    0     161\n",
       "                                     \n",
       "               Accuracy : 1          \n",
       "                 95% CI : (0.9882, 1)\n",
       "    No Information Rate : 0.516      \n",
       "    P-Value [Acc > NIR] : < 2.2e-16  \n",
       "                                     \n",
       "                  Kappa : 1          \n",
       "                                     \n",
       " Mcnemar's Test P-Value : NA         \n",
       "                                     \n",
       "            Sensitivity : 1.000      \n",
       "            Specificity : 1.000      \n",
       "         Pos Pred Value : 1.000      \n",
       "         Neg Pred Value : 1.000      \n",
       "             Prevalence : 0.484      \n",
       "         Detection Rate : 0.484      \n",
       "   Detection Prevalence : 0.484      \n",
       "      Balanced Accuracy : 1.000      \n",
       "                                     \n",
       "       'Positive' Class : Case       \n",
       "                                     "
      ]
     },
     "metadata": {},
     "output_type": "display_data"
    },
    {
     "data": {
      "text/plain": [
       "Confusion Matrix and Statistics\n",
       "\n",
       "          Reference\n",
       "Prediction Case Control\n",
       "   Case      49      15\n",
       "   Control    3      66\n",
       "                                          \n",
       "               Accuracy : 0.8647          \n",
       "                 95% CI : (0.7946, 0.9178)\n",
       "    No Information Rate : 0.609           \n",
       "    P-Value [Acc > NIR] : 8.109e-11       \n",
       "                                          \n",
       "                  Kappa : 0.7271          \n",
       "                                          \n",
       " Mcnemar's Test P-Value : 0.009522        \n",
       "                                          \n",
       "            Sensitivity : 0.9423          \n",
       "            Specificity : 0.8148          \n",
       "         Pos Pred Value : 0.7656          \n",
       "         Neg Pred Value : 0.9565          \n",
       "             Prevalence : 0.3910          \n",
       "         Detection Rate : 0.3684          \n",
       "   Detection Prevalence : 0.4812          \n",
       "      Balanced Accuracy : 0.8786          \n",
       "                                          \n",
       "       'Positive' Class : Case            \n",
       "                                          "
      ]
     },
     "metadata": {},
     "output_type": "display_data"
    }
   ],
   "source": [
    "confusionMatrix(trainData$Group, predict(rfBoruta.fit, newdata = trainData_boruta, type = \"raw\"))\n",
    "\n",
    "confusionMatrix(testData$Group, predict(rfBoruta.fit, newdata = testData_boruta, type = \"raw\"))"
   ]
  },
  {
   "cell_type": "markdown",
   "metadata": {},
   "source": [
    "### LASSO regression"
   ]
  },
  {
   "cell_type": "code",
   "execution_count": 10,
   "metadata": {},
   "outputs": [],
   "source": [
    "lambdas <- 10^seq(2,-3,by=-0.1)"
   ]
  },
  {
   "cell_type": "code",
   "execution_count": 11,
   "metadata": {},
   "outputs": [],
   "source": [
    "lasso_trainX <- as.matrix(trainData[,1:366])\n",
    "lasso_trainy <- trainData$Group\n",
    "lasso_testX <- as.matrix(testData[,1:366])\n",
    "lasso_testy <- testData$Group\n",
    "\n",
    "levels(lasso_trainy) <- c(1,0)\n",
    "levels(lasso_testy) <- c(1,0)"
   ]
  },
  {
   "cell_type": "code",
   "execution_count": 12,
   "metadata": {},
   "outputs": [],
   "source": [
    "lasso_reg <- cv.glmnet(lasso_trainX, lasso_trainy, alpha = 1, family = 'binomial' , lambda = lambdas, type.measure = 'deviance' , standardise=TRUE, nfolds = 4)"
   ]
  },
  {
   "cell_type": "code",
   "execution_count": 13,
   "metadata": {},
   "outputs": [],
   "source": [
    "lambda_best <- lasso_reg$lambda.min"
   ]
  },
  {
   "cell_type": "code",
   "execution_count": 14,
   "metadata": {},
   "outputs": [],
   "source": [
    "lasso_model <- glmnet(lasso_trainX, lasso_trainy, alpha = 1, lambda = lambda_best, family='binomial')\n",
    "predictions_train <- as.factor(predict(lasso_model, s = lambda_best, newx = lasso_trainX,'class'))\n",
    "#levels(predictions_train) <- levels(lasso_trainy)\n",
    "\n",
    "predictions_test <- as.factor(predict(lasso_model, s = lambda_best, newx = lasso_testX,'class'))\n",
    "#levels(predictions_test) <- levels(lasso_testy)\n"
   ]
  },
  {
   "cell_type": "markdown",
   "metadata": {},
   "source": [
    "### show prediction performance of lasso classificatin in training and testing data"
   ]
  },
  {
   "cell_type": "code",
   "execution_count": 15,
   "metadata": {
    "scrolled": true
   },
   "outputs": [],
   "source": [
    "predictions_train <- relevel(predictions_train, ref='1')\n",
    "predictions_test <- relevel(predictions_test, ref='1')\n"
   ]
  },
  {
   "cell_type": "code",
   "execution_count": 16,
   "metadata": {
    "scrolled": true
   },
   "outputs": [
    {
     "data": {
      "text/plain": [
       "Confusion Matrix and Statistics\n",
       "\n",
       "          Reference\n",
       "Prediction   1   0\n",
       "         1 133  18\n",
       "         0   5 156\n",
       "                                          \n",
       "               Accuracy : 0.9263          \n",
       "                 95% CI : (0.8914, 0.9527)\n",
       "    No Information Rate : 0.5577          \n",
       "    P-Value [Acc > NIR] : < 2e-16         \n",
       "                                          \n",
       "                  Kappa : 0.852           \n",
       "                                          \n",
       " Mcnemar's Test P-Value : 0.01234         \n",
       "                                          \n",
       "            Sensitivity : 0.9638          \n",
       "            Specificity : 0.8966          \n",
       "         Pos Pred Value : 0.8808          \n",
       "         Neg Pred Value : 0.9689          \n",
       "             Prevalence : 0.4423          \n",
       "         Detection Rate : 0.4263          \n",
       "   Detection Prevalence : 0.4840          \n",
       "      Balanced Accuracy : 0.9302          \n",
       "                                          \n",
       "       'Positive' Class : 1               \n",
       "                                          "
      ]
     },
     "metadata": {},
     "output_type": "display_data"
    },
    {
     "data": {
      "text/plain": [
       "Confusion Matrix and Statistics\n",
       "\n",
       "          Reference\n",
       "Prediction  1  0\n",
       "         1 52 12\n",
       "         0  6 63\n",
       "                                          \n",
       "               Accuracy : 0.8647          \n",
       "                 95% CI : (0.7946, 0.9178)\n",
       "    No Information Rate : 0.5639          \n",
       "    P-Value [Acc > NIR] : 7.888e-14       \n",
       "                                          \n",
       "                  Kappa : 0.728           \n",
       "                                          \n",
       " Mcnemar's Test P-Value : 0.2386          \n",
       "                                          \n",
       "            Sensitivity : 0.8966          \n",
       "            Specificity : 0.8400          \n",
       "         Pos Pred Value : 0.8125          \n",
       "         Neg Pred Value : 0.9130          \n",
       "             Prevalence : 0.4361          \n",
       "         Detection Rate : 0.3910          \n",
       "   Detection Prevalence : 0.4812          \n",
       "      Balanced Accuracy : 0.8683          \n",
       "                                          \n",
       "       'Positive' Class : 1               \n",
       "                                          "
      ]
     },
     "metadata": {},
     "output_type": "display_data"
    }
   ],
   "source": [
    "confusionMatrix(lasso_trainy, predictions_train)\n",
    "confusionMatrix(lasso_testy, predictions_test)"
   ]
  },
  {
   "cell_type": "code",
   "execution_count": 17,
   "metadata": {},
   "outputs": [],
   "source": [
    "tmp_coef <- coef(lasso_model)\n",
    "result_lasso <- data.frame(name = tmp_coef@Dimnames[[1]][tmp_coef@i + 1], coefficient = tmp_coef@x) %>% pull(name)\n",
    "proteins_lasso <- as.character(result_lasso[2:length(result_lasso)])"
   ]
  },
  {
   "cell_type": "raw",
   "metadata": {},
   "source": [
    "coef_lasso <- data.frame(name = tmp_coef@Dimnames[[1]][tmp_coef@i + 1], coefficient = tmp_coef@x)"
   ]
  },
  {
   "cell_type": "markdown",
   "metadata": {},
   "source": [
    "### Compare the protein signatures we get from Boruta and LASSO"
   ]
  },
  {
   "cell_type": "code",
   "execution_count": 75,
   "metadata": {},
   "outputs": [],
   "source": [
    "intersected_protein <- intersect(proteins_lasso, proteins_boruta)"
   ]
  },
  {
   "cell_type": "code",
   "execution_count": 84,
   "metadata": {},
   "outputs": [
    {
     "data": {
      "text/html": [
       "24"
      ],
      "text/latex": [
       "24"
      ],
      "text/markdown": [
       "24"
      ],
      "text/plain": [
       "[1] 24"
      ]
     },
     "metadata": {},
     "output_type": "display_data"
    }
   ],
   "source": [
    "length(intersected_protein)"
   ]
  },
  {
   "cell_type": "code",
   "execution_count": 76,
   "metadata": {},
   "outputs": [],
   "source": [
    "combined_protein <- union(proteins_lasso, proteins_boruta)"
   ]
  },
  {
   "cell_type": "code",
   "execution_count": 77,
   "metadata": {},
   "outputs": [],
   "source": [
    "combined_protein_meanImp <- attStats(Boruta.allsample) %>% filter(rownames(.) %in% combined_protein) %>% arrange(desc(meanImp)) %>% \n",
    "mutate(UniProtID=rownames(.)) %>% select(c(UniProtID, meanImp))\n"
   ]
  },
  {
   "cell_type": "code",
   "execution_count": 78,
   "metadata": {},
   "outputs": [],
   "source": [
    "combined_protein_meanImp$label <- 'Boruta'\n",
    "combined_protein_meanImp$label[combined_protein_meanImp$UniProtID %in% proteins_lasso] <- 'Lasso'\n",
    "combined_protein_meanImp$label[combined_protein_meanImp$UniProtID %in% intersected_protein] <- 'Lasso&Boruta'"
   ]
  },
  {
   "cell_type": "code",
   "execution_count": 79,
   "metadata": {},
   "outputs": [],
   "source": [
    "protein_withname <- fread('Data/protein_withname.txt')"
   ]
  },
  {
   "cell_type": "code",
   "execution_count": 80,
   "metadata": {},
   "outputs": [
    {
     "name": "stderr",
     "output_type": "stream",
     "text": [
      "Joining, by = \"UniProtID\"\n",
      "\n"
     ]
    }
   ],
   "source": [
    "result <- left_join(combined_protein_meanImp, protein_withname) %>% select(UniProtID, ProteinName, everything()) %>% mutate_if(is.numeric, round, digits=2)"
   ]
  },
  {
   "cell_type": "code",
   "execution_count": null,
   "metadata": {},
   "outputs": [],
   "source": []
  },
  {
   "cell_type": "code",
   "execution_count": 81,
   "metadata": {},
   "outputs": [],
   "source": [
    "write.table(file='Data/boruta_lasso_comparison.csv', result, quote=F, row.names=F, sep=',')"
   ]
  },
  {
   "cell_type": "code",
   "execution_count": 82,
   "metadata": {},
   "outputs": [],
   "source": [
    "### Show the comparison"
   ]
  },
  {
   "cell_type": "code",
   "execution_count": 83,
   "metadata": {},
   "outputs": [
    {
     "name": "stdout",
     "output_type": "stream",
     "text": [
      "   UniProtID ProteinName meanImp        label\n",
      "1     Q15848      ADIPOQ   13.67 Lasso&Boruta\n",
      "2     P10643          C7   11.76 Lasso&Boruta\n",
      "3     O00391       QSOX1    9.95       Boruta\n",
      "4     P35858      IGFALS    9.20 Lasso&Boruta\n",
      "5     P20742         PZP    8.95 Lasso&Boruta\n",
      "6     P80108       GPLD1    8.45 Lasso&Boruta\n",
      "7     P23142       FBLN1    7.49 Lasso&Boruta\n",
      "8     P25311       AZGP1    7.00 Lasso&Boruta\n",
      "9     P36955    SERPINF1    6.66       Boruta\n",
      "10    P06396         GSN    6.63 Lasso&Boruta\n",
      "11    P00450          CP    6.39 Lasso&Boruta\n",
      "12    Q99784       OLFM1    6.06 Lasso&Boruta\n",
      "13    P02743        APCS    6.04 Lasso&Boruta\n",
      "14    P19320       VCAM1    5.95       Boruta\n",
      "15    P02749        APOH    5.94       Boruta\n",
      "16    P61626         LYZ    5.78 Lasso&Boruta\n",
      "17    O75636        FCN3    5.60 Lasso&Boruta\n",
      "18    P30041       PRDX6    5.44 Lasso&Boruta\n",
      "19    P05546    SERPIND1    5.31       Boruta\n",
      "20    P07333       CSF1R    5.26       Boruta\n",
      "21    P51884         LUM    5.15 Lasso&Boruta\n",
      "22    Q06033       ITIH3    5.08       Boruta\n",
      "23    P07237        P4HB    5.08       Boruta\n",
      "24    P05090        APOD    4.90 Lasso&Boruta\n",
      "25    P02766         TTR    4.73       Boruta\n",
      "26    P62701       RPS4X    4.61       Boruta\n",
      "27    P02741         CRP    4.27 Lasso&Boruta\n",
      "28    P11413        G6PD    4.25       Boruta\n",
      "29    P61769         B2M    4.25 Lasso&Boruta\n",
      "30    Q9UK55   SERPINA10    4.13       Boruta\n",
      "31    P29622    SERPINA4    4.08       Boruta\n",
      "32    P02790         HPX    4.07       Boruta\n",
      "33    Q86VB7       CD163    3.97       Boruta\n",
      "34    O95445        APOM    3.92       Boruta\n",
      "35    P17948        FLT1    3.91       Boruta\n",
      "36    Q9Y6U3        SCIN    3.80 Lasso&Boruta\n",
      "37    O75369        FLNB    3.64 Lasso&Boruta\n",
      "38    P35442       THBS2    3.63 Lasso&Boruta\n",
      "39    P02750        LRG1    3.39       Boruta\n",
      "40    O14791       APOL1    3.36 Lasso&Boruta\n",
      "41    P06276        BCHE    3.35       Boruta\n",
      "42    P04424         ASL    3.31       Boruta\n",
      "43    P02654       APOC1    3.26       Boruta\n",
      "44    P05186        ALPL    3.25       Boruta\n",
      "45    O43707       ACTN4    3.24 Lasso&Boruta\n",
      "46    P27169        PON1    3.22 Lasso&Boruta\n",
      "47    P19827       ITIH1    3.16       Boruta\n",
      "48    P32119       PRDX2    3.14       Boruta\n",
      "49    O14980        XPO1    3.09       Boruta\n",
      "50    P03952       KLKB1    3.07       Boruta\n",
      "51    Q6UX04       CWC27    3.04       Boruta\n",
      "52    P02656       APOC3    2.96       Boruta\n",
      "53    Q9H4G4      GLIPR2    2.93       Boruta\n",
      "54    P19823       ITIH2    2.92       Boruta\n",
      "55    P22307        SCP2    2.89       Boruta\n",
      "56    P17936      IGFBP3    2.88       Boruta\n",
      "57    Q8IZ83    ALDH16A1    2.43        Lasso\n",
      "58    P62158       CALM1    2.09        Lasso\n",
      "59    P62158       CALM2    2.09        Lasso\n",
      "60    P62158       CALM3    2.09        Lasso\n",
      "61    Q9HC38       GLOD4    1.95        Lasso\n",
      "62    P05452      CLEC3B    1.49        Lasso\n",
      "63    Q99714    HSD17B10    1.26        Lasso\n",
      "64    P30084       ECHS1    1.02        Lasso\n",
      "65    P29350       PTPN6    1.00        Lasso\n",
      "66    Q5JRA6        MIA3    0.97        Lasso\n",
      "67    O75390          CS    0.85        Lasso\n",
      "68    P04275         VWF    0.76        Lasso\n",
      "69    Q9NTJ3        SMC4    0.75        Lasso\n",
      "70    P52566     ARHGDIB    0.62        Lasso\n",
      "71    P07737        PFN1    0.41        Lasso\n",
      "72    P15144       ANPEP    0.39        Lasso\n",
      "73    Q09666       AHNAK    0.22        Lasso\n",
      "74    P02042         HBD    0.10        Lasso\n",
      "75    Q13576      IQGAP2    0.03        Lasso\n",
      "76    P01871        IGHM   -0.02        Lasso\n",
      "77    Q9Y4L1       HYOU1   -0.13        Lasso\n",
      "78    P61764      STXBP1   -0.15        Lasso\n",
      "79    P12277         CKB   -0.17        Lasso\n",
      "80    P39019       RPS19   -0.35        Lasso\n",
      "81    Q02790       FKBP4   -0.56        Lasso\n"
     ]
    }
   ],
   "source": [
    "print(result)"
   ]
  },
  {
   "cell_type": "code",
   "execution_count": null,
   "metadata": {},
   "outputs": [],
   "source": []
  }
 ],
 "metadata": {
  "kernelspec": {
   "display_name": "R",
   "language": "R",
   "name": "ir"
  },
  "language_info": {
   "codemirror_mode": "r",
   "file_extension": ".r",
   "mimetype": "text/x-r-source",
   "name": "R",
   "pygments_lexer": "r",
   "version": "3.6.3"
  }
 },
 "nbformat": 4,
 "nbformat_minor": 4
}
